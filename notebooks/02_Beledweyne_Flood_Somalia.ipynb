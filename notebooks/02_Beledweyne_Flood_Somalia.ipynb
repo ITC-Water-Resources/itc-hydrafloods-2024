{
 "cells": [
  {
   "cell_type": "markdown",
   "id": "ba95d7af-9d45-457c-ac13-cb5d57d42f2a",
   "metadata": {},
   "source": [
    "# Observing surface water extent from space <img src=\"../fig/itc-logo@2x.png\" alt=\"drawing\" align = \"right\" width=\"50\"/>\n",
    "\n",
    "\n",
    "<b>Author</b>: [Amin Shakya](https://github.com/mn5hk), January, 2024\n",
    "\n",
    "<b>Github link to the exercise files (base repository)</b>: \n",
    "\n",
    "<b>Credits</b>:\n",
    "\n",
    "- [Mickey Maganini](https://github.com/mickymags) - slight updates to the course notebooks originally developed by Micky for the ITC course in 2023    \n",
    "- [Kel Markert](https://github.com/KMarkert) - [troubleshoot](https://github.com/Servir-Mekong/hydra-floods/issues/48) for Landsat 8 data update on Google Earth Engine Data Catalog\n",
    "\n",
    "---"
   ]
  },
  {
   "cell_type": "markdown",
   "id": "d3aabdd1-3737-4725-bcfc-7b3e4572d036",
   "metadata": {},
   "source": [
    "# Goal of the Study"
   ]
  },
  {
   "cell_type": "markdown",
   "id": "a0b01062-c8b7-4d1b-9b12-f5e1962e370f",
   "metadata": {},
   "source": [
    "<div class=\"alert alert-block alert-info\">\n",
    "In this notebook, we apply the same ideas (as the Tonle Sap, Indonesia case) to a different case study for the flooding in Somalia in 2023. The students are strongly encouraged to play around with the module and to implement it in their case studies of choice.\n",
    "</div>"
   ]
  },
  {
   "cell_type": "markdown",
   "id": "b1f49061-30f1-44fb-9a34-2fb1785d3b6e",
   "metadata": {},
   "source": [
    "<div class=\"alert alert-block alert-info\">\n",
    "\n",
    "\n",
    "In this notebook, we will look at how surface water extent in the Tonle Sap lake in Indonesia can be detected from space. More specifically, we will look at:\n",
    "\n",
    "- What satellite earth observation data may help in detecting surface water extent from space?\n",
    "- Pros and Cons: Optical imagery vs SAR imagery\n",
    "- What algorithms can we use for surface water extent detection? \n",
    "- What applications may EO-based surface water extent be useful towards?\n",
    "- Any caveats to be aware of?\n",
    "- Further readings \n",
    "\n",
    "</div>"
   ]
  },
  {
   "cell_type": "markdown",
   "id": "5fcc8610-c974-46c9-833b-8f3abb86932e",
   "metadata": {},
   "source": [
    "<div class=\"alert alert-block alert-warning\">\n",
    "    <b>Caution:</b> ⚠️ This notebook has been developed strictly for the purpose of this course, and the results have not been validated on the ground.\n",
    "</div>\n"
   ]
  },
  {
   "cell_type": "markdown",
   "id": "2a75aad4-b484-4106-98e4-97bafc5ee5ef",
   "metadata": {},
   "source": [
    "<a id=\"01\"></a>\n",
    "___\n",
    "## 01. Import Python libraries and initialize Google Earth Engine"
   ]
  },
  {
   "cell_type": "markdown",
   "id": "c793b76a-70e1-44eb-84a2-d16cca2b457e",
   "metadata": {},
   "source": [
    "### 01a. Import python libraries"
   ]
  },
  {
   "cell_type": "code",
   "execution_count": null,
   "id": "9f07e7f6-962a-4936-88e8-f7f477e99304",
   "metadata": {},
   "outputs": [],
   "source": [
    "# !pip install ee\n",
    "# !pip install hydrafloods\n",
    "# !pip install geemap"
   ]
  },
  {
   "cell_type": "code",
   "execution_count": null,
   "id": "6933b515-7d7b-48c5-be01-6499184bc588",
   "metadata": {},
   "outputs": [],
   "source": [
    "# !pip install --force-reinstall numpy"
   ]
  },
  {
   "cell_type": "code",
   "execution_count": null,
   "id": "28fc333d-7a3c-4040-a151-f6943c7055cd",
   "metadata": {},
   "outputs": [],
   "source": [
    "# !pip install --upgrade --force-reinstall numba numpy"
   ]
  },
  {
   "cell_type": "code",
   "execution_count": 1,
   "id": "3e1879ba-ea13-4a72-b121-7ef20fb54e0f",
   "metadata": {},
   "outputs": [],
   "source": [
    "# !pip install --upgrade --force-reinstall geemap"
   ]
  },
  {
   "cell_type": "markdown",
   "id": "67bcd8c3-f93b-48ae-89b1-2bd961573c67",
   "metadata": {},
   "source": [
    "### 01b. Import Python libraries"
   ]
  },
  {
   "cell_type": "code",
   "execution_count": 4,
   "id": "08abc4d8-4004-4624-82af-70e18b403ab5",
   "metadata": {},
   "outputs": [
    {
     "name": "stdout",
     "output_type": "stream",
     "text": [
      "Collecting geemap\n",
      "  Downloading geemap-0.30.4-py2.py3-none-any.whl.metadata (14 kB)\n",
      "Collecting bqplot (from geemap)\n",
      "  Downloading bqplot-0.12.42-py2.py3-none-any.whl.metadata (6.4 kB)\n",
      "Collecting colour (from geemap)\n",
      "  Downloading colour-0.1.5-py2.py3-none-any.whl (23 kB)\n",
      "Collecting earthengine-api>=0.1.347 (from geemap)\n",
      "  Downloading earthengine_api-0.1.388-py3-none-any.whl.metadata (1.7 kB)\n",
      "Collecting eerepr>=0.0.4 (from geemap)\n",
      "  Downloading eerepr-0.0.4-py3-none-any.whl (9.7 kB)\n",
      "Collecting folium>=0.13.0 (from geemap)\n",
      "  Downloading folium-0.15.1-py2.py3-none-any.whl.metadata (3.4 kB)\n",
      "Collecting geocoder (from geemap)\n",
      "  Downloading geocoder-1.38.1-py2.py3-none-any.whl (98 kB)\n",
      "\u001b[2K     \u001b[90m━━━━━━━━━━━━━━━━━━━━━━━━━━━━━━━━━━━━━━━━\u001b[0m \u001b[32m98.6/98.6 kB\u001b[0m \u001b[31m6.9 MB/s\u001b[0m eta \u001b[36m0:00:00\u001b[0m\n",
      "\u001b[?25hCollecting ipyevents (from geemap)\n",
      "  Downloading ipyevents-2.0.2-py3-none-any.whl.metadata (2.9 kB)\n",
      "Collecting ipyfilechooser>=0.6.0 (from geemap)\n",
      "  Downloading ipyfilechooser-0.6.0-py3-none-any.whl (11 kB)\n",
      "Collecting ipyleaflet>=0.17.0 (from geemap)\n",
      "  Downloading ipyleaflet-0.18.2-py3-none-any.whl.metadata (1.0 kB)\n",
      "Collecting ipytree (from geemap)\n",
      "  Downloading ipytree-0.2.2-py2.py3-none-any.whl (1.3 MB)\n",
      "\u001b[2K     \u001b[90m━━━━━━━━━━━━━━━━━━━━━━━━━━━━━━━━━━━━━━━━\u001b[0m \u001b[32m1.3/1.3 MB\u001b[0m \u001b[31m11.2 MB/s\u001b[0m eta \u001b[36m0:00:00\u001b[0ma \u001b[36m0:00:01\u001b[0m\n",
      "\u001b[?25hCollecting matplotlib (from geemap)\n",
      "  Downloading matplotlib-3.8.2-cp311-cp311-manylinux_2_17_x86_64.manylinux2014_x86_64.whl.metadata (5.8 kB)\n",
      "Collecting numpy (from geemap)\n",
      "  Downloading numpy-1.26.4-cp311-cp311-manylinux_2_17_x86_64.manylinux2014_x86_64.whl.metadata (61 kB)\n",
      "\u001b[2K     \u001b[90m━━━━━━━━━━━━━━━━━━━━━━━━━━━━━━━━━━━━━━━━\u001b[0m \u001b[32m61.0/61.0 kB\u001b[0m \u001b[31m6.7 MB/s\u001b[0m eta \u001b[36m0:00:00\u001b[0m\n",
      "\u001b[?25hCollecting pandas (from geemap)\n",
      "  Downloading pandas-2.2.0-cp311-cp311-manylinux_2_17_x86_64.manylinux2014_x86_64.whl.metadata (19 kB)\n",
      "Collecting plotly (from geemap)\n",
      "  Downloading plotly-5.18.0-py3-none-any.whl.metadata (7.0 kB)\n",
      "Collecting pyperclip (from geemap)\n",
      "  Downloading pyperclip-1.8.2.tar.gz (20 kB)\n",
      "  Preparing metadata (setup.py) ... \u001b[?25ldone\n",
      "\u001b[?25hCollecting pyshp>=2.1.3 (from geemap)\n",
      "  Using cached pyshp-2.3.1-py2.py3-none-any.whl (46 kB)\n",
      "Collecting python-box (from geemap)\n",
      "  Downloading python_box-7.1.1-cp311-cp311-manylinux_2_17_x86_64.manylinux2014_x86_64.whl.metadata (7.8 kB)\n",
      "Collecting scooby (from geemap)\n",
      "  Downloading scooby-0.9.2-py3-none-any.whl.metadata (15 kB)\n",
      "Collecting google-cloud-storage (from earthengine-api>=0.1.347->geemap)\n",
      "  Downloading google_cloud_storage-2.14.0-py2.py3-none-any.whl.metadata (6.1 kB)\n",
      "Collecting google-api-python-client>=1.12.1 (from earthengine-api>=0.1.347->geemap)\n",
      "  Downloading google_api_python_client-2.116.0-py2.py3-none-any.whl.metadata (6.6 kB)\n",
      "Collecting google-auth>=1.4.1 (from earthengine-api>=0.1.347->geemap)\n",
      "  Downloading google_auth-2.27.0-py2.py3-none-any.whl.metadata (4.7 kB)\n",
      "Collecting google-auth-httplib2>=0.0.3 (from earthengine-api>=0.1.347->geemap)\n",
      "  Downloading google_auth_httplib2-0.2.0-py2.py3-none-any.whl.metadata (2.2 kB)\n",
      "Collecting httplib2<1dev,>=0.9.2 (from earthengine-api>=0.1.347->geemap)\n",
      "  Downloading httplib2-0.22.0-py3-none-any.whl (96 kB)\n",
      "\u001b[2K     \u001b[90m━━━━━━━━━━━━━━━━━━━━━━━━━━━━━━━━━━━━━━━━\u001b[0m \u001b[32m96.9/96.9 kB\u001b[0m \u001b[31m9.7 MB/s\u001b[0m eta \u001b[36m0:00:00\u001b[0m\n",
      "\u001b[?25hRequirement already satisfied: requests in /home/mn5hk/anaconda3/envs/itc-hydrafloods/lib/python3.11/site-packages (from earthengine-api>=0.1.347->geemap) (2.31.0)\n",
      "Collecting branca>=0.6.0 (from folium>=0.13.0->geemap)\n",
      "  Downloading branca-0.7.1-py3-none-any.whl.metadata (1.5 kB)\n",
      "Requirement already satisfied: jinja2>=2.9 in /home/mn5hk/anaconda3/envs/itc-hydrafloods/lib/python3.11/site-packages (from folium>=0.13.0->geemap) (3.1.3)\n",
      "Collecting xyzservices (from folium>=0.13.0->geemap)\n",
      "  Downloading xyzservices-2023.10.1-py3-none-any.whl.metadata (4.0 kB)\n",
      "Requirement already satisfied: ipywidgets in /home/mn5hk/anaconda3/envs/itc-hydrafloods/lib/python3.11/site-packages (from ipyfilechooser>=0.6.0->geemap) (8.0.4)\n",
      "Collecting traittypes<3,>=0.2.1 (from ipyleaflet>=0.17.0->geemap)\n",
      "  Downloading traittypes-0.2.1-py2.py3-none-any.whl (8.6 kB)\n",
      "Requirement already satisfied: traitlets>=4.3.0 in /home/mn5hk/anaconda3/envs/itc-hydrafloods/lib/python3.11/site-packages (from bqplot->geemap) (5.7.1)\n",
      "Requirement already satisfied: python-dateutil>=2.8.2 in /home/mn5hk/anaconda3/envs/itc-hydrafloods/lib/python3.11/site-packages (from pandas->geemap) (2.8.2)\n",
      "Requirement already satisfied: pytz>=2020.1 in /home/mn5hk/anaconda3/envs/itc-hydrafloods/lib/python3.11/site-packages (from pandas->geemap) (2023.3.post1)\n",
      "Collecting tzdata>=2022.7 (from pandas->geemap)\n",
      "  Downloading tzdata-2023.4-py2.py3-none-any.whl.metadata (1.4 kB)\n",
      "Collecting click (from geocoder->geemap)\n",
      "  Using cached click-8.1.7-py3-none-any.whl.metadata (3.0 kB)\n",
      "Collecting future (from geocoder->geemap)\n",
      "  Downloading future-0.18.3.tar.gz (840 kB)\n",
      "\u001b[2K     \u001b[90m━━━━━━━━━━━━━━━━━━━━━━━━━━━━━━━━━━━━━━\u001b[0m \u001b[32m840.9/840.9 kB\u001b[0m \u001b[31m15.5 MB/s\u001b[0m eta \u001b[36m0:00:00\u001b[0ma \u001b[36m0:00:01\u001b[0m\n",
      "\u001b[?25h  Preparing metadata (setup.py) ... \u001b[?25ldone\n",
      "\u001b[?25hCollecting ratelim (from geocoder->geemap)\n",
      "  Downloading ratelim-0.1.6-py2.py3-none-any.whl (4.0 kB)\n",
      "Requirement already satisfied: six in /home/mn5hk/anaconda3/envs/itc-hydrafloods/lib/python3.11/site-packages (from geocoder->geemap) (1.16.0)\n",
      "Collecting contourpy>=1.0.1 (from matplotlib->geemap)\n",
      "  Downloading contourpy-1.2.0-cp311-cp311-manylinux_2_17_x86_64.manylinux2014_x86_64.whl.metadata (5.8 kB)\n",
      "Collecting cycler>=0.10 (from matplotlib->geemap)\n",
      "  Using cached cycler-0.12.1-py3-none-any.whl.metadata (3.8 kB)\n",
      "Collecting fonttools>=4.22.0 (from matplotlib->geemap)\n",
      "  Downloading fonttools-4.47.2-cp311-cp311-manylinux_2_17_x86_64.manylinux2014_x86_64.whl.metadata (157 kB)\n",
      "\u001b[2K     \u001b[90m━━━━━━━━━━━━━━━━━━━━━━━━━━━━━━━━━━━━━━\u001b[0m \u001b[32m157.6/157.6 kB\u001b[0m \u001b[31m13.1 MB/s\u001b[0m eta \u001b[36m0:00:00\u001b[0m\n",
      "\u001b[?25hCollecting kiwisolver>=1.3.1 (from matplotlib->geemap)\n",
      "  Downloading kiwisolver-1.4.5-cp311-cp311-manylinux_2_17_x86_64.manylinux2014_x86_64.whl.metadata (6.4 kB)\n",
      "Requirement already satisfied: packaging>=20.0 in /home/mn5hk/anaconda3/envs/itc-hydrafloods/lib/python3.11/site-packages (from matplotlib->geemap) (23.1)\n",
      "Collecting pillow>=8 (from matplotlib->geemap)\n",
      "  Downloading pillow-10.2.0-cp311-cp311-manylinux_2_28_x86_64.whl.metadata (9.7 kB)\n",
      "Collecting pyparsing>=2.3.1 (from matplotlib->geemap)\n",
      "  Using cached pyparsing-3.1.1-py3-none-any.whl.metadata (5.1 kB)\n",
      "Collecting tenacity>=6.2.0 (from plotly->geemap)\n",
      "  Downloading tenacity-8.2.3-py3-none-any.whl.metadata (1.0 kB)\n",
      "Collecting google-api-core!=2.0.*,!=2.1.*,!=2.2.*,!=2.3.0,<3.0.0.dev0,>=1.31.5 (from google-api-python-client>=1.12.1->earthengine-api>=0.1.347->geemap)\n",
      "  Downloading google_api_core-2.16.2-py3-none-any.whl.metadata (2.7 kB)\n",
      "Collecting uritemplate<5,>=3.0.1 (from google-api-python-client>=1.12.1->earthengine-api>=0.1.347->geemap)\n",
      "  Downloading uritemplate-4.1.1-py2.py3-none-any.whl (10 kB)\n",
      "Collecting cachetools<6.0,>=2.0.0 (from google-auth>=1.4.1->earthengine-api>=0.1.347->geemap)\n",
      "  Downloading cachetools-5.3.2-py3-none-any.whl.metadata (5.2 kB)\n",
      "Collecting pyasn1-modules>=0.2.1 (from google-auth>=1.4.1->earthengine-api>=0.1.347->geemap)\n",
      "  Downloading pyasn1_modules-0.3.0-py2.py3-none-any.whl (181 kB)\n",
      "\u001b[2K     \u001b[90m━━━━━━━━━━━━━━━━━━━━━━━━━━━━━━━━━━━━━━━\u001b[0m \u001b[32m181.3/181.3 kB\u001b[0m \u001b[31m8.0 MB/s\u001b[0m eta \u001b[36m0:00:00\u001b[0m\n",
      "\u001b[?25hCollecting rsa<5,>=3.1.4 (from google-auth>=1.4.1->earthengine-api>=0.1.347->geemap)\n",
      "  Downloading rsa-4.9-py3-none-any.whl (34 kB)\n",
      "Requirement already satisfied: ipykernel>=4.5.1 in /home/mn5hk/anaconda3/envs/itc-hydrafloods/lib/python3.11/site-packages (from ipywidgets->ipyfilechooser>=0.6.0->geemap) (6.28.0)\n",
      "Requirement already satisfied: ipython>=6.1.0 in /home/mn5hk/anaconda3/envs/itc-hydrafloods/lib/python3.11/site-packages (from ipywidgets->ipyfilechooser>=0.6.0->geemap) (8.20.0)\n",
      "Requirement already satisfied: widgetsnbextension~=4.0 in /home/mn5hk/anaconda3/envs/itc-hydrafloods/lib/python3.11/site-packages (from ipywidgets->ipyfilechooser>=0.6.0->geemap) (4.0.5)\n",
      "Requirement already satisfied: jupyterlab-widgets~=3.0 in /home/mn5hk/anaconda3/envs/itc-hydrafloods/lib/python3.11/site-packages (from ipywidgets->ipyfilechooser>=0.6.0->geemap) (3.0.9)\n",
      "Requirement already satisfied: MarkupSafe>=2.0 in /home/mn5hk/anaconda3/envs/itc-hydrafloods/lib/python3.11/site-packages (from jinja2>=2.9->folium>=0.13.0->geemap) (2.1.3)\n",
      "Collecting google-cloud-core<3.0dev,>=2.3.0 (from google-cloud-storage->earthengine-api>=0.1.347->geemap)\n",
      "  Downloading google_cloud_core-2.4.1-py2.py3-none-any.whl.metadata (2.7 kB)\n",
      "Collecting google-resumable-media>=2.6.0 (from google-cloud-storage->earthengine-api>=0.1.347->geemap)\n",
      "  Downloading google_resumable_media-2.7.0-py2.py3-none-any.whl.metadata (2.2 kB)\n",
      "Collecting google-crc32c<2.0dev,>=1.0 (from google-cloud-storage->earthengine-api>=0.1.347->geemap)\n",
      "  Downloading google_crc32c-1.5.0-cp311-cp311-manylinux_2_17_x86_64.manylinux2014_x86_64.whl (32 kB)\n",
      "Requirement already satisfied: charset-normalizer<4,>=2 in /home/mn5hk/anaconda3/envs/itc-hydrafloods/lib/python3.11/site-packages (from requests->earthengine-api>=0.1.347->geemap) (2.0.4)\n",
      "Requirement already satisfied: idna<4,>=2.5 in /home/mn5hk/anaconda3/envs/itc-hydrafloods/lib/python3.11/site-packages (from requests->earthengine-api>=0.1.347->geemap) (3.4)\n",
      "Requirement already satisfied: urllib3<3,>=1.21.1 in /home/mn5hk/anaconda3/envs/itc-hydrafloods/lib/python3.11/site-packages (from requests->earthengine-api>=0.1.347->geemap) (1.26.18)\n",
      "Requirement already satisfied: certifi>=2017.4.17 in /home/mn5hk/anaconda3/envs/itc-hydrafloods/lib/python3.11/site-packages (from requests->earthengine-api>=0.1.347->geemap) (2023.11.17)\n",
      "Requirement already satisfied: decorator in /home/mn5hk/anaconda3/envs/itc-hydrafloods/lib/python3.11/site-packages (from ratelim->geocoder->geemap) (5.1.1)\n",
      "Collecting googleapis-common-protos<2.0.dev0,>=1.56.2 (from google-api-core!=2.0.*,!=2.1.*,!=2.2.*,!=2.3.0,<3.0.0.dev0,>=1.31.5->google-api-python-client>=1.12.1->earthengine-api>=0.1.347->geemap)\n",
      "  Downloading googleapis_common_protos-1.62.0-py2.py3-none-any.whl.metadata (1.5 kB)\n",
      "Collecting protobuf!=3.20.0,!=3.20.1,!=4.21.0,!=4.21.1,!=4.21.2,!=4.21.3,!=4.21.4,!=4.21.5,<5.0.0.dev0,>=3.19.5 (from google-api-core!=2.0.*,!=2.1.*,!=2.2.*,!=2.3.0,<3.0.0.dev0,>=1.31.5->google-api-python-client>=1.12.1->earthengine-api>=0.1.347->geemap)\n",
      "  Downloading protobuf-4.25.2-cp37-abi3-manylinux2014_x86_64.whl.metadata (541 bytes)\n",
      "Requirement already satisfied: comm>=0.1.1 in /home/mn5hk/anaconda3/envs/itc-hydrafloods/lib/python3.11/site-packages (from ipykernel>=4.5.1->ipywidgets->ipyfilechooser>=0.6.0->geemap) (0.1.2)\n",
      "Requirement already satisfied: debugpy>=1.6.5 in /home/mn5hk/anaconda3/envs/itc-hydrafloods/lib/python3.11/site-packages (from ipykernel>=4.5.1->ipywidgets->ipyfilechooser>=0.6.0->geemap) (1.6.7)\n",
      "Requirement already satisfied: jupyter-client>=6.1.12 in /home/mn5hk/anaconda3/envs/itc-hydrafloods/lib/python3.11/site-packages (from ipykernel>=4.5.1->ipywidgets->ipyfilechooser>=0.6.0->geemap) (8.6.0)\n",
      "Requirement already satisfied: jupyter-core!=5.0.*,>=4.12 in /home/mn5hk/anaconda3/envs/itc-hydrafloods/lib/python3.11/site-packages (from ipykernel>=4.5.1->ipywidgets->ipyfilechooser>=0.6.0->geemap) (5.5.0)\n",
      "Requirement already satisfied: matplotlib-inline>=0.1 in /home/mn5hk/anaconda3/envs/itc-hydrafloods/lib/python3.11/site-packages (from ipykernel>=4.5.1->ipywidgets->ipyfilechooser>=0.6.0->geemap) (0.1.6)\n",
      "Requirement already satisfied: nest-asyncio in /home/mn5hk/anaconda3/envs/itc-hydrafloods/lib/python3.11/site-packages (from ipykernel>=4.5.1->ipywidgets->ipyfilechooser>=0.6.0->geemap) (1.5.6)\n",
      "Requirement already satisfied: psutil in /home/mn5hk/anaconda3/envs/itc-hydrafloods/lib/python3.11/site-packages (from ipykernel>=4.5.1->ipywidgets->ipyfilechooser>=0.6.0->geemap) (5.9.0)\n",
      "Requirement already satisfied: pyzmq>=24 in /home/mn5hk/anaconda3/envs/itc-hydrafloods/lib/python3.11/site-packages (from ipykernel>=4.5.1->ipywidgets->ipyfilechooser>=0.6.0->geemap) (25.1.2)\n",
      "Requirement already satisfied: tornado>=6.1 in /home/mn5hk/anaconda3/envs/itc-hydrafloods/lib/python3.11/site-packages (from ipykernel>=4.5.1->ipywidgets->ipyfilechooser>=0.6.0->geemap) (6.3.3)\n",
      "Requirement already satisfied: jedi>=0.16 in /home/mn5hk/anaconda3/envs/itc-hydrafloods/lib/python3.11/site-packages (from ipython>=6.1.0->ipywidgets->ipyfilechooser>=0.6.0->geemap) (0.18.1)\n",
      "Requirement already satisfied: prompt-toolkit<3.1.0,>=3.0.41 in /home/mn5hk/anaconda3/envs/itc-hydrafloods/lib/python3.11/site-packages (from ipython>=6.1.0->ipywidgets->ipyfilechooser>=0.6.0->geemap) (3.0.43)\n",
      "Requirement already satisfied: pygments>=2.4.0 in /home/mn5hk/anaconda3/envs/itc-hydrafloods/lib/python3.11/site-packages (from ipython>=6.1.0->ipywidgets->ipyfilechooser>=0.6.0->geemap) (2.15.1)\n",
      "Requirement already satisfied: stack-data in /home/mn5hk/anaconda3/envs/itc-hydrafloods/lib/python3.11/site-packages (from ipython>=6.1.0->ipywidgets->ipyfilechooser>=0.6.0->geemap) (0.2.0)\n",
      "Requirement already satisfied: pexpect>4.3 in /home/mn5hk/anaconda3/envs/itc-hydrafloods/lib/python3.11/site-packages (from ipython>=6.1.0->ipywidgets->ipyfilechooser>=0.6.0->geemap) (4.8.0)\n",
      "Collecting pyasn1<0.6.0,>=0.4.6 (from pyasn1-modules>=0.2.1->google-auth>=1.4.1->earthengine-api>=0.1.347->geemap)\n",
      "  Downloading pyasn1-0.5.1-py2.py3-none-any.whl.metadata (8.6 kB)\n",
      "Requirement already satisfied: parso<0.9.0,>=0.8.0 in /home/mn5hk/anaconda3/envs/itc-hydrafloods/lib/python3.11/site-packages (from jedi>=0.16->ipython>=6.1.0->ipywidgets->ipyfilechooser>=0.6.0->geemap) (0.8.3)\n",
      "Requirement already satisfied: platformdirs>=2.5 in /home/mn5hk/anaconda3/envs/itc-hydrafloods/lib/python3.11/site-packages (from jupyter-core!=5.0.*,>=4.12->ipykernel>=4.5.1->ipywidgets->ipyfilechooser>=0.6.0->geemap) (3.10.0)\n",
      "Requirement already satisfied: ptyprocess>=0.5 in /home/mn5hk/anaconda3/envs/itc-hydrafloods/lib/python3.11/site-packages (from pexpect>4.3->ipython>=6.1.0->ipywidgets->ipyfilechooser>=0.6.0->geemap) (0.7.0)\n",
      "Requirement already satisfied: wcwidth in /home/mn5hk/anaconda3/envs/itc-hydrafloods/lib/python3.11/site-packages (from prompt-toolkit<3.1.0,>=3.0.41->ipython>=6.1.0->ipywidgets->ipyfilechooser>=0.6.0->geemap) (0.2.5)\n",
      "Requirement already satisfied: executing in /home/mn5hk/anaconda3/envs/itc-hydrafloods/lib/python3.11/site-packages (from stack-data->ipython>=6.1.0->ipywidgets->ipyfilechooser>=0.6.0->geemap) (0.8.3)\n",
      "Requirement already satisfied: asttokens in /home/mn5hk/anaconda3/envs/itc-hydrafloods/lib/python3.11/site-packages (from stack-data->ipython>=6.1.0->ipywidgets->ipyfilechooser>=0.6.0->geemap) (2.0.5)\n",
      "Requirement already satisfied: pure-eval in /home/mn5hk/anaconda3/envs/itc-hydrafloods/lib/python3.11/site-packages (from stack-data->ipython>=6.1.0->ipywidgets->ipyfilechooser>=0.6.0->geemap) (0.2.2)\n",
      "Downloading geemap-0.30.4-py2.py3-none-any.whl (2.2 MB)\n",
      "\u001b[2K   \u001b[90m━━━━━━━━━━━━━━━━━━━━━━━━━━━━━━━━━━━━━━━━\u001b[0m \u001b[32m2.2/2.2 MB\u001b[0m \u001b[31m16.8 MB/s\u001b[0m eta \u001b[36m0:00:00\u001b[0ma \u001b[36m0:00:01\u001b[0m\n",
      "\u001b[?25hDownloading earthengine_api-0.1.388-py3-none-any.whl (314 kB)\n",
      "\u001b[2K   \u001b[90m━━━━━━━━━━━━━━━━━━━━━━━━━━━━━━━━━━━━━━━━\u001b[0m \u001b[32m314.1/314.1 kB\u001b[0m \u001b[31m14.8 MB/s\u001b[0m eta \u001b[36m0:00:00\u001b[0m\n",
      "\u001b[?25hDownloading folium-0.15.1-py2.py3-none-any.whl (97 kB)\n",
      "\u001b[2K   \u001b[90m━━━━━━━━━━━━━━━━━━━━━━━━━━━━━━━━━━━━━━━━\u001b[0m \u001b[32m97.0/97.0 kB\u001b[0m \u001b[31m13.0 MB/s\u001b[0m eta \u001b[36m0:00:00\u001b[0m\n",
      "\u001b[?25hDownloading ipyleaflet-0.18.2-py3-none-any.whl (3.7 MB)\n",
      "\u001b[2K   \u001b[90m━━━━━━━━━━━━━━━━━━━━━━━━━━━━━━━━━━━━━━━━\u001b[0m \u001b[32m3.7/3.7 MB\u001b[0m \u001b[31m17.3 MB/s\u001b[0m eta \u001b[36m0:00:00\u001b[0m00:01\u001b[0m00:01\u001b[0m\n",
      "\u001b[?25hDownloading bqplot-0.12.42-py2.py3-none-any.whl (1.2 MB)\n",
      "\u001b[2K   \u001b[90m━━━━━━━━━━━━━━━━━━━━━━━━━━━━━━━━━━━━━━━━\u001b[0m \u001b[32m1.2/1.2 MB\u001b[0m \u001b[31m10.7 MB/s\u001b[0m eta \u001b[36m0:00:00\u001b[0ma \u001b[36m0:00:01\u001b[0m\n",
      "\u001b[?25hDownloading numpy-1.26.4-cp311-cp311-manylinux_2_17_x86_64.manylinux2014_x86_64.whl (18.3 MB)\n",
      "\u001b[2K   \u001b[90m━━━━━━━━━━━━━━━━━━━━━━━━━━━━━━━━━━━━━━━━\u001b[0m \u001b[32m18.3/18.3 MB\u001b[0m \u001b[31m16.9 MB/s\u001b[0m eta \u001b[36m0:00:00\u001b[0m00:01\u001b[0m00:01\u001b[0m\n",
      "\u001b[?25hDownloading pandas-2.2.0-cp311-cp311-manylinux_2_17_x86_64.manylinux2014_x86_64.whl (13.0 MB)\n",
      "\u001b[2K   \u001b[90m━━━━━━━━━━━━━━━━━━━━━━━━━━━━━━━━━━━━━━━━\u001b[0m \u001b[32m13.0/13.0 MB\u001b[0m \u001b[31m15.5 MB/s\u001b[0m eta \u001b[36m0:00:00\u001b[0m00:01\u001b[0m00:01\u001b[0m\n",
      "\u001b[?25hDownloading ipyevents-2.0.2-py3-none-any.whl (101 kB)\n",
      "\u001b[2K   \u001b[90m━━━━━━━━━━━━━━━━━━━━━━━━━━━━━━━━━━━━━━━━\u001b[0m \u001b[32m101.8/101.8 kB\u001b[0m \u001b[31m9.5 MB/s\u001b[0m eta \u001b[36m0:00:00\u001b[0m\n",
      "\u001b[?25hDownloading matplotlib-3.8.2-cp311-cp311-manylinux_2_17_x86_64.manylinux2014_x86_64.whl (11.6 MB)\n",
      "\u001b[2K   \u001b[90m━━━━━━━━━━━━━━━━━━━━━━━━━━━━━━━━━━━━━━━━\u001b[0m \u001b[32m11.6/11.6 MB\u001b[0m \u001b[31m17.3 MB/s\u001b[0m eta \u001b[36m0:00:00\u001b[0m00:01\u001b[0m00:01\u001b[0m\n",
      "\u001b[?25hDownloading plotly-5.18.0-py3-none-any.whl (15.6 MB)\n",
      "\u001b[2K   \u001b[90m━━━━━━━━━━━━━━━━━━━━━━━━━━━━━━━━━━━━━━━━\u001b[0m \u001b[32m15.6/15.6 MB\u001b[0m \u001b[31m17.1 MB/s\u001b[0m eta \u001b[36m0:00:00\u001b[0m00:01\u001b[0m00:01\u001b[0m\n",
      "\u001b[?25hDownloading python_box-7.1.1-cp311-cp311-manylinux_2_17_x86_64.manylinux2014_x86_64.whl (4.3 MB)\n",
      "\u001b[2K   \u001b[90m━━━━━━━━━━━━━━━━━━━━━━━━━━━━━━━━━━━━━━━━\u001b[0m \u001b[32m4.3/4.3 MB\u001b[0m \u001b[31m16.5 MB/s\u001b[0m eta \u001b[36m0:00:00\u001b[0ma \u001b[36m0:00:01\u001b[0m\n",
      "\u001b[?25hDownloading scooby-0.9.2-py3-none-any.whl (18 kB)\n",
      "Downloading branca-0.7.1-py3-none-any.whl (25 kB)\n",
      "Downloading contourpy-1.2.0-cp311-cp311-manylinux_2_17_x86_64.manylinux2014_x86_64.whl (313 kB)\n",
      "\u001b[2K   \u001b[90m━━━━━━━━━━━━━━━━━━━━━━━━━━━━━━━━━━━━━━━━\u001b[0m \u001b[32m313.4/313.4 kB\u001b[0m \u001b[31m14.3 MB/s\u001b[0m eta \u001b[36m0:00:00\u001b[0m\n",
      "\u001b[?25hUsing cached cycler-0.12.1-py3-none-any.whl (8.3 kB)\n",
      "Downloading fonttools-4.47.2-cp311-cp311-manylinux_2_17_x86_64.manylinux2014_x86_64.whl (4.9 MB)\n",
      "\u001b[2K   \u001b[90m━━━━━━━━━━━━━━━━━━━━━━━━━━━━━━━━━━━━━━━━\u001b[0m \u001b[32m4.9/4.9 MB\u001b[0m \u001b[31m15.0 MB/s\u001b[0m eta \u001b[36m0:00:00\u001b[0ma \u001b[36m0:00:01\u001b[0m\n",
      "\u001b[?25hDownloading google_api_python_client-2.116.0-py2.py3-none-any.whl (12.0 MB)\n",
      "\u001b[2K   \u001b[90m━━━━━━━━━━━━━━━━━━━━━━━━━━━━━━━━━━━━━━━━\u001b[0m \u001b[32m12.0/12.0 MB\u001b[0m \u001b[31m17.4 MB/s\u001b[0m eta \u001b[36m0:00:00\u001b[0m00:01\u001b[0m00:01\u001b[0m\n",
      "\u001b[?25hDownloading google_auth-2.27.0-py2.py3-none-any.whl (186 kB)\n",
      "\u001b[2K   \u001b[90m━━━━━━━━━━━━━━━━━━━━━━━━━━━━━━━━━━━━━━━━\u001b[0m \u001b[32m186.8/186.8 kB\u001b[0m \u001b[31m13.6 MB/s\u001b[0m eta \u001b[36m0:00:00\u001b[0m\n",
      "\u001b[?25hDownloading google_auth_httplib2-0.2.0-py2.py3-none-any.whl (9.3 kB)\n",
      "Downloading kiwisolver-1.4.5-cp311-cp311-manylinux_2_17_x86_64.manylinux2014_x86_64.whl (1.4 MB)\n",
      "\u001b[2K   \u001b[90m━━━━━━━━━━━━━━━━━━━━━━━━━━━━━━━━━━━━━━━━\u001b[0m \u001b[32m1.4/1.4 MB\u001b[0m \u001b[31m16.9 MB/s\u001b[0m eta \u001b[36m0:00:00\u001b[0ma \u001b[36m0:00:01\u001b[0m\n",
      "\u001b[?25hDownloading pillow-10.2.0-cp311-cp311-manylinux_2_28_x86_64.whl (4.5 MB)\n",
      "\u001b[2K   \u001b[90m━━━━━━━━━━━━━━━━━━━━━━━━━━━━━━━━━━━━━━━━\u001b[0m \u001b[32m4.5/4.5 MB\u001b[0m \u001b[31m17.1 MB/s\u001b[0m eta \u001b[36m0:00:00\u001b[0ma \u001b[36m0:00:01\u001b[0m\n",
      "\u001b[?25hUsing cached pyparsing-3.1.1-py3-none-any.whl (103 kB)\n",
      "Downloading tenacity-8.2.3-py3-none-any.whl (24 kB)\n",
      "Downloading tzdata-2023.4-py2.py3-none-any.whl (346 kB)\n",
      "\u001b[2K   \u001b[90m━━━━━━━━━━━━━━━━━━━━━━━━━━━━━━━━━━━━━━━━\u001b[0m \u001b[32m346.6/346.6 kB\u001b[0m \u001b[31m12.1 MB/s\u001b[0m eta \u001b[36m0:00:00\u001b[0m\n",
      "\u001b[?25hDownloading xyzservices-2023.10.1-py3-none-any.whl (56 kB)\n",
      "\u001b[2K   \u001b[90m━━━━━━━━━━━━━━━━━━━━━━━━━━━━━━━━━━━━━━━━\u001b[0m \u001b[32m56.3/56.3 kB\u001b[0m \u001b[31m9.4 MB/s\u001b[0m eta \u001b[36m0:00:00\u001b[0m\n",
      "\u001b[?25hUsing cached click-8.1.7-py3-none-any.whl (97 kB)\n",
      "Downloading google_cloud_storage-2.14.0-py2.py3-none-any.whl (121 kB)\n",
      "\u001b[2K   \u001b[90m━━━━━━━━━━━━━━━━━━━━━━━━━━━━━━━━━━━━━━━━\u001b[0m \u001b[32m121.6/121.6 kB\u001b[0m \u001b[31m10.6 MB/s\u001b[0m eta \u001b[36m0:00:00\u001b[0m\n",
      "\u001b[?25hDownloading cachetools-5.3.2-py3-none-any.whl (9.3 kB)\n",
      "Downloading google_api_core-2.16.2-py3-none-any.whl (135 kB)\n",
      "\u001b[2K   \u001b[90m━━━━━━━━━━━━━━━━━━━━━━━━━━━━━━━━━━━━━━━━\u001b[0m \u001b[32m135.2/135.2 kB\u001b[0m \u001b[31m19.0 MB/s\u001b[0m eta \u001b[36m0:00:00\u001b[0m\n",
      "\u001b[?25hDownloading google_cloud_core-2.4.1-py2.py3-none-any.whl (29 kB)\n",
      "Downloading google_resumable_media-2.7.0-py2.py3-none-any.whl (80 kB)\n",
      "\u001b[2K   \u001b[90m━━━━━━━━━━━━━━━━━━━━━━━━━━━━━━━━━━━━━━━━\u001b[0m \u001b[32m80.6/80.6 kB\u001b[0m \u001b[31m18.6 MB/s\u001b[0m eta \u001b[36m0:00:00\u001b[0m\n",
      "\u001b[?25hDownloading googleapis_common_protos-1.62.0-py2.py3-none-any.whl (228 kB)\n",
      "\u001b[2K   \u001b[90m━━━━━━━━━━━━━━━━━━━━━━━━━━━━━━━━━━━━━━━━\u001b[0m \u001b[32m228.7/228.7 kB\u001b[0m \u001b[31m13.4 MB/s\u001b[0m eta \u001b[36m0:00:00\u001b[0m\n",
      "\u001b[?25hDownloading protobuf-4.25.2-cp37-abi3-manylinux2014_x86_64.whl (294 kB)\n",
      "\u001b[2K   \u001b[90m━━━━━━━━━━━━━━━━━━━━━━━━━━━━━━━━━━━━━━━━\u001b[0m \u001b[32m294.6/294.6 kB\u001b[0m \u001b[31m18.5 MB/s\u001b[0m eta \u001b[36m0:00:00\u001b[0m\n",
      "\u001b[?25hDownloading pyasn1-0.5.1-py2.py3-none-any.whl (84 kB)\n",
      "\u001b[2K   \u001b[90m━━━━━━━━━━━━━━━━━━━━━━━━━━━━━━━━━━━━━━━━\u001b[0m \u001b[32m84.9/84.9 kB\u001b[0m \u001b[31m10.6 MB/s\u001b[0m eta \u001b[36m0:00:00\u001b[0m\n",
      "\u001b[?25hBuilding wheels for collected packages: pyperclip, future\n",
      "  Building wheel for pyperclip (setup.py) ... \u001b[?25ldone\n",
      "\u001b[?25h  Created wheel for pyperclip: filename=pyperclip-1.8.2-py3-none-any.whl size=11125 sha256=6a4a156ca2fe537f5b1f276ea50d43e9ee34c5ce6cbbaa6726cc9c2a100525d8\n",
      "  Stored in directory: /home/mn5hk/.cache/pip/wheels/70/bd/ba/8ae5c080c895c9360fe6e153acda2dee82527374467eae061b\n",
      "  Building wheel for future (setup.py) ... \u001b[?25ldone\n",
      "\u001b[?25h  Created wheel for future: filename=future-0.18.3-py3-none-any.whl size=492024 sha256=aacf4cab2413c6fb8c7c5593eacfc225e456045e1ef728dda473abfb53ea2820\n",
      "  Stored in directory: /home/mn5hk/.cache/pip/wheels/da/19/ca/9d8c44cd311a955509d7e13da3f0bea42400c469ef825b580b\n",
      "Successfully built pyperclip future\n",
      "Installing collected packages: pyperclip, colour, xyzservices, uritemplate, tzdata, traittypes, tenacity, scooby, ratelim, python-box, pyshp, pyparsing, pyasn1, protobuf, pillow, numpy, kiwisolver, google-crc32c, future, fonttools, cycler, click, cachetools, rsa, pyasn1-modules, plotly, pandas, httplib2, googleapis-common-protos, google-resumable-media, geocoder, contourpy, branca, matplotlib, google-auth, folium, google-auth-httplib2, google-api-core, google-cloud-core, google-api-python-client, ipytree, ipyleaflet, ipyfilechooser, ipyevents, google-cloud-storage, bqplot, earthengine-api, eerepr, geemap\n",
      "Successfully installed bqplot-0.12.42 branca-0.7.1 cachetools-5.3.2 click-8.1.7 colour-0.1.5 contourpy-1.2.0 cycler-0.12.1 earthengine-api-0.1.388 eerepr-0.0.4 folium-0.15.1 fonttools-4.47.2 future-0.18.3 geemap-0.30.4 geocoder-1.38.1 google-api-core-2.16.2 google-api-python-client-2.116.0 google-auth-2.27.0 google-auth-httplib2-0.2.0 google-cloud-core-2.4.1 google-cloud-storage-2.14.0 google-crc32c-1.5.0 google-resumable-media-2.7.0 googleapis-common-protos-1.62.0 httplib2-0.22.0 ipyevents-2.0.2 ipyfilechooser-0.6.0 ipyleaflet-0.18.2 ipytree-0.2.2 kiwisolver-1.4.5 matplotlib-3.8.2 numpy-1.26.4 pandas-2.2.0 pillow-10.2.0 plotly-5.18.0 protobuf-4.25.2 pyasn1-0.5.1 pyasn1-modules-0.3.0 pyparsing-3.1.1 pyperclip-1.8.2 pyshp-2.3.1 python-box-7.1.1 ratelim-0.1.6 rsa-4.9 scooby-0.9.2 tenacity-8.2.3 traittypes-0.2.1 tzdata-2023.4 uritemplate-4.1.1 xyzservices-2023.10.1\n"
     ]
    }
   ],
   "source": [
    "# !pip install geemap"
   ]
  },
  {
   "cell_type": "code",
   "execution_count": 6,
   "id": "6f0ac1ba-0c5c-4f4b-8a4a-7e97d8533c45",
   "metadata": {},
   "outputs": [
    {
     "data": {
      "text/html": [
       "\n",
       "            <style>\n",
       "                .geemap-dark {\n",
       "                    --jp-widgets-color: white;\n",
       "                    --jp-widgets-label-color: white;\n",
       "                    --jp-ui-font-color1: white;\n",
       "                    --jp-layout-color2: #454545;\n",
       "                    background-color: #383838;\n",
       "                }\n",
       "                    \n",
       "                .geemap-dark .jupyter-button {\n",
       "                    --jp-layout-color3: #383838;\n",
       "                }\n",
       "                \n",
       "                .geemap-colab {\n",
       "                    background-color: var(--colab-primary-surface-color, white);\n",
       "                }\n",
       "                    \n",
       "                .geemap-colab .jupyter-button {\n",
       "                    --jp-layout-color3: var(--colab-primary-surface-color, white);\n",
       "                }\n",
       "            </style>\n",
       "            "
      ],
      "text/plain": [
       "<IPython.core.display.HTML object>"
      ]
     },
     "metadata": {},
     "output_type": "display_data"
    },
    {
     "name": "stdout",
     "output_type": "stream",
     "text": [
      "Collecting hydrafloods\n",
      "  Downloading hydrafloods-2023.10.14-py3-none-any.whl.metadata (5.6 kB)\n",
      "Collecting simplecmr (from hydrafloods)\n",
      "  Downloading simplecmr-0.0.1-py3-none-any.whl (6.9 kB)\n",
      "Requirement already satisfied: earthengine-api in /home/mn5hk/anaconda3/envs/itc-hydrafloods/lib/python3.11/site-packages (from hydrafloods) (0.1.388)\n",
      "Collecting gcsfs (from hydrafloods)\n",
      "  Downloading gcsfs-2024.2.0-py2.py3-none-any.whl.metadata (1.6 kB)\n",
      "Collecting fire (from hydrafloods)\n",
      "  Downloading fire-0.5.0.tar.gz (88 kB)\n",
      "\u001b[2K     \u001b[90m━━━━━━━━━━━━━━━━━━━━━━━━━━━━━━━━━━━━━━━━\u001b[0m \u001b[32m88.3/88.3 kB\u001b[0m \u001b[31m5.4 MB/s\u001b[0m eta \u001b[36m0:00:00\u001b[0m\n",
      "\u001b[?25h  Preparing metadata (setup.py) ... \u001b[?25ldone\n",
      "\u001b[?25hCollecting pipetools (from hydrafloods)\n",
      "  Downloading pipetools-1.1.0.tar.gz (16 kB)\n",
      "  Preparing metadata (setup.py) ... \u001b[?25ldone\n",
      "\u001b[?25hRequirement already satisfied: google-cloud-storage in /home/mn5hk/anaconda3/envs/itc-hydrafloods/lib/python3.11/site-packages (from earthengine-api->hydrafloods) (2.14.0)\n",
      "Requirement already satisfied: google-api-python-client>=1.12.1 in /home/mn5hk/anaconda3/envs/itc-hydrafloods/lib/python3.11/site-packages (from earthengine-api->hydrafloods) (2.116.0)\n",
      "Requirement already satisfied: google-auth>=1.4.1 in /home/mn5hk/anaconda3/envs/itc-hydrafloods/lib/python3.11/site-packages (from earthengine-api->hydrafloods) (2.27.0)\n",
      "Requirement already satisfied: google-auth-httplib2>=0.0.3 in /home/mn5hk/anaconda3/envs/itc-hydrafloods/lib/python3.11/site-packages (from earthengine-api->hydrafloods) (0.2.0)\n",
      "Requirement already satisfied: httplib2<1dev,>=0.9.2 in /home/mn5hk/anaconda3/envs/itc-hydrafloods/lib/python3.11/site-packages (from earthengine-api->hydrafloods) (0.22.0)\n",
      "Requirement already satisfied: requests in /home/mn5hk/anaconda3/envs/itc-hydrafloods/lib/python3.11/site-packages (from earthengine-api->hydrafloods) (2.31.0)\n",
      "Requirement already satisfied: six in /home/mn5hk/anaconda3/envs/itc-hydrafloods/lib/python3.11/site-packages (from fire->hydrafloods) (1.16.0)\n",
      "Collecting termcolor (from fire->hydrafloods)\n",
      "  Downloading termcolor-2.4.0-py3-none-any.whl.metadata (6.1 kB)\n",
      "Collecting aiohttp!=4.0.0a0,!=4.0.0a1 (from gcsfs->hydrafloods)\n",
      "  Downloading aiohttp-3.9.3-cp311-cp311-manylinux_2_17_x86_64.manylinux2014_x86_64.whl.metadata (7.4 kB)\n",
      "Requirement already satisfied: decorator>4.1.2 in /home/mn5hk/anaconda3/envs/itc-hydrafloods/lib/python3.11/site-packages (from gcsfs->hydrafloods) (5.1.1)\n",
      "Collecting fsspec==2024.2.0 (from gcsfs->hydrafloods)\n",
      "  Downloading fsspec-2024.2.0-py3-none-any.whl.metadata (6.8 kB)\n",
      "Collecting google-auth-oauthlib (from gcsfs->hydrafloods)\n",
      "  Downloading google_auth_oauthlib-1.2.0-py2.py3-none-any.whl.metadata (2.7 kB)\n",
      "Requirement already satisfied: setuptools>=0.6b1 in /home/mn5hk/anaconda3/envs/itc-hydrafloods/lib/python3.11/site-packages (from pipetools->hydrafloods) (68.2.2)\n",
      "Collecting requests-cache (from simplecmr->hydrafloods)\n",
      "  Downloading requests_cache-1.1.1-py3-none-any.whl.metadata (9.9 kB)\n",
      "Collecting aiosignal>=1.1.2 (from aiohttp!=4.0.0a0,!=4.0.0a1->gcsfs->hydrafloods)\n",
      "  Downloading aiosignal-1.3.1-py3-none-any.whl (7.6 kB)\n",
      "Requirement already satisfied: attrs>=17.3.0 in /home/mn5hk/anaconda3/envs/itc-hydrafloods/lib/python3.11/site-packages (from aiohttp!=4.0.0a0,!=4.0.0a1->gcsfs->hydrafloods) (23.1.0)\n",
      "Collecting frozenlist>=1.1.1 (from aiohttp!=4.0.0a0,!=4.0.0a1->gcsfs->hydrafloods)\n",
      "  Downloading frozenlist-1.4.1-cp311-cp311-manylinux_2_5_x86_64.manylinux1_x86_64.manylinux_2_17_x86_64.manylinux2014_x86_64.whl.metadata (12 kB)\n",
      "Collecting multidict<7.0,>=4.5 (from aiohttp!=4.0.0a0,!=4.0.0a1->gcsfs->hydrafloods)\n",
      "  Downloading multidict-6.0.5-cp311-cp311-manylinux_2_17_x86_64.manylinux2014_x86_64.whl.metadata (4.2 kB)\n",
      "Collecting yarl<2.0,>=1.0 (from aiohttp!=4.0.0a0,!=4.0.0a1->gcsfs->hydrafloods)\n",
      "  Downloading yarl-1.9.4-cp311-cp311-manylinux_2_17_x86_64.manylinux2014_x86_64.whl.metadata (31 kB)\n",
      "Requirement already satisfied: google-api-core!=2.0.*,!=2.1.*,!=2.2.*,!=2.3.0,<3.0.0.dev0,>=1.31.5 in /home/mn5hk/anaconda3/envs/itc-hydrafloods/lib/python3.11/site-packages (from google-api-python-client>=1.12.1->earthengine-api->hydrafloods) (2.16.2)\n",
      "Requirement already satisfied: uritemplate<5,>=3.0.1 in /home/mn5hk/anaconda3/envs/itc-hydrafloods/lib/python3.11/site-packages (from google-api-python-client>=1.12.1->earthengine-api->hydrafloods) (4.1.1)\n",
      "Requirement already satisfied: cachetools<6.0,>=2.0.0 in /home/mn5hk/anaconda3/envs/itc-hydrafloods/lib/python3.11/site-packages (from google-auth>=1.4.1->earthengine-api->hydrafloods) (5.3.2)\n",
      "Requirement already satisfied: pyasn1-modules>=0.2.1 in /home/mn5hk/anaconda3/envs/itc-hydrafloods/lib/python3.11/site-packages (from google-auth>=1.4.1->earthengine-api->hydrafloods) (0.3.0)\n",
      "Requirement already satisfied: rsa<5,>=3.1.4 in /home/mn5hk/anaconda3/envs/itc-hydrafloods/lib/python3.11/site-packages (from google-auth>=1.4.1->earthengine-api->hydrafloods) (4.9)\n",
      "Requirement already satisfied: pyparsing!=3.0.0,!=3.0.1,!=3.0.2,!=3.0.3,<4,>=2.4.2 in /home/mn5hk/anaconda3/envs/itc-hydrafloods/lib/python3.11/site-packages (from httplib2<1dev,>=0.9.2->earthengine-api->hydrafloods) (3.1.1)\n",
      "Collecting requests-oauthlib>=0.7.0 (from google-auth-oauthlib->gcsfs->hydrafloods)\n",
      "  Downloading requests_oauthlib-1.3.1-py2.py3-none-any.whl (23 kB)\n",
      "Requirement already satisfied: google-cloud-core<3.0dev,>=2.3.0 in /home/mn5hk/anaconda3/envs/itc-hydrafloods/lib/python3.11/site-packages (from google-cloud-storage->earthengine-api->hydrafloods) (2.4.1)\n",
      "Requirement already satisfied: google-resumable-media>=2.6.0 in /home/mn5hk/anaconda3/envs/itc-hydrafloods/lib/python3.11/site-packages (from google-cloud-storage->earthengine-api->hydrafloods) (2.7.0)\n",
      "Requirement already satisfied: google-crc32c<2.0dev,>=1.0 in /home/mn5hk/anaconda3/envs/itc-hydrafloods/lib/python3.11/site-packages (from google-cloud-storage->earthengine-api->hydrafloods) (1.5.0)\n",
      "Requirement already satisfied: charset-normalizer<4,>=2 in /home/mn5hk/anaconda3/envs/itc-hydrafloods/lib/python3.11/site-packages (from requests->earthengine-api->hydrafloods) (2.0.4)\n",
      "Requirement already satisfied: idna<4,>=2.5 in /home/mn5hk/anaconda3/envs/itc-hydrafloods/lib/python3.11/site-packages (from requests->earthengine-api->hydrafloods) (3.4)\n",
      "Requirement already satisfied: urllib3<3,>=1.21.1 in /home/mn5hk/anaconda3/envs/itc-hydrafloods/lib/python3.11/site-packages (from requests->earthengine-api->hydrafloods) (1.26.18)\n",
      "Requirement already satisfied: certifi>=2017.4.17 in /home/mn5hk/anaconda3/envs/itc-hydrafloods/lib/python3.11/site-packages (from requests->earthengine-api->hydrafloods) (2023.11.17)\n",
      "Collecting cattrs>=22.2 (from requests-cache->simplecmr->hydrafloods)\n",
      "  Downloading cattrs-23.2.3-py3-none-any.whl.metadata (10 kB)\n",
      "Requirement already satisfied: platformdirs>=2.5 in /home/mn5hk/anaconda3/envs/itc-hydrafloods/lib/python3.11/site-packages (from requests-cache->simplecmr->hydrafloods) (3.10.0)\n",
      "Collecting url-normalize>=1.4 (from requests-cache->simplecmr->hydrafloods)\n",
      "  Downloading url_normalize-1.4.3-py2.py3-none-any.whl (6.8 kB)\n",
      "Requirement already satisfied: googleapis-common-protos<2.0.dev0,>=1.56.2 in /home/mn5hk/anaconda3/envs/itc-hydrafloods/lib/python3.11/site-packages (from google-api-core!=2.0.*,!=2.1.*,!=2.2.*,!=2.3.0,<3.0.0.dev0,>=1.31.5->google-api-python-client>=1.12.1->earthengine-api->hydrafloods) (1.62.0)\n",
      "Requirement already satisfied: protobuf!=3.20.0,!=3.20.1,!=4.21.0,!=4.21.1,!=4.21.2,!=4.21.3,!=4.21.4,!=4.21.5,<5.0.0.dev0,>=3.19.5 in /home/mn5hk/anaconda3/envs/itc-hydrafloods/lib/python3.11/site-packages (from google-api-core!=2.0.*,!=2.1.*,!=2.2.*,!=2.3.0,<3.0.0.dev0,>=1.31.5->google-api-python-client>=1.12.1->earthengine-api->hydrafloods) (4.25.2)\n",
      "Requirement already satisfied: pyasn1<0.6.0,>=0.4.6 in /home/mn5hk/anaconda3/envs/itc-hydrafloods/lib/python3.11/site-packages (from pyasn1-modules>=0.2.1->google-auth>=1.4.1->earthengine-api->hydrafloods) (0.5.1)\n",
      "Collecting oauthlib>=3.0.0 (from requests-oauthlib>=0.7.0->google-auth-oauthlib->gcsfs->hydrafloods)\n",
      "  Downloading oauthlib-3.2.2-py3-none-any.whl (151 kB)\n",
      "\u001b[2K     \u001b[90m━━━━━━━━━━━━━━━━━━━━━━━━━━━━━━━━━━━━━━━\u001b[0m \u001b[32m151.7/151.7 kB\u001b[0m \u001b[31m9.0 MB/s\u001b[0m eta \u001b[36m0:00:00\u001b[0m\n",
      "\u001b[?25hDownloading hydrafloods-2023.10.14-py3-none-any.whl (86 kB)\n",
      "\u001b[2K   \u001b[90m━━━━━━━━━━━━━━━━━━━━━━━━━━━━━━━━━━━━━━━━\u001b[0m \u001b[32m86.6/86.6 kB\u001b[0m \u001b[31m13.5 MB/s\u001b[0m eta \u001b[36m0:00:00\u001b[0m\n",
      "\u001b[?25hDownloading gcsfs-2024.2.0-py2.py3-none-any.whl (33 kB)\n",
      "Downloading fsspec-2024.2.0-py3-none-any.whl (170 kB)\n",
      "\u001b[2K   \u001b[90m━━━━━━━━━━━━━━━━━━━━━━━━━━━━━━━━━━━━━━━━\u001b[0m \u001b[32m170.9/170.9 kB\u001b[0m \u001b[31m11.0 MB/s\u001b[0m eta \u001b[36m0:00:00\u001b[0m\n",
      "\u001b[?25hDownloading aiohttp-3.9.3-cp311-cp311-manylinux_2_17_x86_64.manylinux2014_x86_64.whl (1.3 MB)\n",
      "\u001b[2K   \u001b[90m━━━━━━━━━━━━━━━━━━━━━━━━━━━━━━━━━━━━━━━━\u001b[0m \u001b[32m1.3/1.3 MB\u001b[0m \u001b[31m15.5 MB/s\u001b[0m eta \u001b[36m0:00:00\u001b[0ma \u001b[36m0:00:01\u001b[0m\n",
      "\u001b[?25hDownloading google_auth_oauthlib-1.2.0-py2.py3-none-any.whl (24 kB)\n",
      "Downloading requests_cache-1.1.1-py3-none-any.whl (60 kB)\n",
      "\u001b[2K   \u001b[90m━━━━━━━━━━━━━━━━━━━━━━━━━━━━━━━━━━━━━━━━\u001b[0m \u001b[32m60.3/60.3 kB\u001b[0m \u001b[31m10.6 MB/s\u001b[0m eta \u001b[36m0:00:00\u001b[0m\n",
      "\u001b[?25hDownloading termcolor-2.4.0-py3-none-any.whl (7.7 kB)\n",
      "Downloading cattrs-23.2.3-py3-none-any.whl (57 kB)\n",
      "\u001b[2K   \u001b[90m━━━━━━━━━━━━━━━━━━━━━━━━━━━━━━━━━━━━━━━━\u001b[0m \u001b[32m57.5/57.5 kB\u001b[0m \u001b[31m9.2 MB/s\u001b[0m eta \u001b[36m0:00:00\u001b[0m\n",
      "\u001b[?25hDownloading frozenlist-1.4.1-cp311-cp311-manylinux_2_5_x86_64.manylinux1_x86_64.manylinux_2_17_x86_64.manylinux2014_x86_64.whl (272 kB)\n",
      "\u001b[2K   \u001b[90m━━━━━━━━━━━━━━━━━━━━━━━━━━━━━━━━━━━━━━━━\u001b[0m \u001b[32m272.3/272.3 kB\u001b[0m \u001b[31m13.0 MB/s\u001b[0m eta \u001b[36m0:00:00\u001b[0m\n",
      "\u001b[?25hDownloading multidict-6.0.5-cp311-cp311-manylinux_2_17_x86_64.manylinux2014_x86_64.whl (128 kB)\n",
      "\u001b[2K   \u001b[90m━━━━━━━━━━━━━━━━━━━━━━━━━━━━━━━━━━━━━━━━\u001b[0m \u001b[32m128.7/128.7 kB\u001b[0m \u001b[31m12.4 MB/s\u001b[0m eta \u001b[36m0:00:00\u001b[0m\n",
      "\u001b[?25hDownloading yarl-1.9.4-cp311-cp311-manylinux_2_17_x86_64.manylinux2014_x86_64.whl (328 kB)\n",
      "\u001b[2K   \u001b[90m━━━━━━━━━━━━━━━━━━━━━━━━━━━━━━━━━━━━━━━━\u001b[0m \u001b[32m328.1/328.1 kB\u001b[0m \u001b[31m15.0 MB/s\u001b[0m eta \u001b[36m0:00:00\u001b[0m\n",
      "\u001b[?25hBuilding wheels for collected packages: fire, pipetools\n",
      "  Building wheel for fire (setup.py) ... \u001b[?25ldone\n",
      "\u001b[?25h  Created wheel for fire: filename=fire-0.5.0-py2.py3-none-any.whl size=116934 sha256=82e34c80617f46470cb3636bdf70603ebf709c6159e585d19222f037d614aed6\n",
      "  Stored in directory: /home/mn5hk/.cache/pip/wheels/a7/ee/a5/19e91481be8bea594935d137578bfe77d6bf905e4595336f6b\n",
      "  Building wheel for pipetools (setup.py) ... \u001b[?25ldone\n",
      "\u001b[?25h  Created wheel for pipetools: filename=pipetools-1.1.0-py3-none-any.whl size=13601 sha256=3c2068f61fe094b02c751f030e64976a177f3873f12fba8d69c4b6fe97dfa60f\n",
      "  Stored in directory: /home/mn5hk/.cache/pip/wheels/a2/95/d7/d382df93e94c1a7360625a0dd9176e916a9ef242f74ed66295\n",
      "Successfully built fire pipetools\n",
      "Installing collected packages: url-normalize, termcolor, pipetools, oauthlib, multidict, fsspec, frozenlist, cattrs, yarl, requests-oauthlib, requests-cache, fire, aiosignal, simplecmr, google-auth-oauthlib, aiohttp, gcsfs, hydrafloods\n",
      "Successfully installed aiohttp-3.9.3 aiosignal-1.3.1 cattrs-23.2.3 fire-0.5.0 frozenlist-1.4.1 fsspec-2024.2.0 gcsfs-2024.2.0 google-auth-oauthlib-1.2.0 hydrafloods-2023.10.14 multidict-6.0.5 oauthlib-3.2.2 pipetools-1.1.0 requests-cache-1.1.1 requests-oauthlib-1.3.1 simplecmr-0.0.1 termcolor-2.4.0 url-normalize-1.4.3 yarl-1.9.4\n"
     ]
    }
   ],
   "source": [
    "# !pip install hydrafloods"
   ]
  },
  {
   "cell_type": "code",
   "execution_count": 7,
   "id": "e46372fc-348b-4819-8806-d1fff3a4d62d",
   "metadata": {},
   "outputs": [
    {
     "data": {
      "text/html": [
       "\n",
       "            <style>\n",
       "                .geemap-dark {\n",
       "                    --jp-widgets-color: white;\n",
       "                    --jp-widgets-label-color: white;\n",
       "                    --jp-ui-font-color1: white;\n",
       "                    --jp-layout-color2: #454545;\n",
       "                    background-color: #383838;\n",
       "                }\n",
       "                    \n",
       "                .geemap-dark .jupyter-button {\n",
       "                    --jp-layout-color3: #383838;\n",
       "                }\n",
       "                \n",
       "                .geemap-colab {\n",
       "                    background-color: var(--colab-primary-surface-color, white);\n",
       "                }\n",
       "                    \n",
       "                .geemap-colab .jupyter-button {\n",
       "                    --jp-layout-color3: var(--colab-primary-surface-color, white);\n",
       "                }\n",
       "            </style>\n",
       "            "
      ],
      "text/plain": [
       "<IPython.core.display.HTML object>"
      ]
     },
     "metadata": {},
     "output_type": "display_data"
    }
   ],
   "source": [
    "import geemap\n",
    "import geemap.colormaps as cm\n",
    "import ee\n",
    "import hydrafloods as hf\n",
    "from hydrafloods import corrections"
   ]
  },
  {
   "cell_type": "markdown",
   "id": "6c2e6dbb-43b4-4b8b-8e0f-c6ada8e484e9",
   "metadata": {},
   "source": [
    "### 01c. Initialize [geemap](https://github.com/gee-community/geemap), and check [hydrafloods](https://github.com/Servir-Mekong/hydra-floods) version"
   ]
  },
  {
   "cell_type": "code",
   "execution_count": 8,
   "id": "354a29b2-3177-494d-877c-8be1ebe4b56c",
   "metadata": {},
   "outputs": [
    {
     "data": {
      "text/html": [
       "\n",
       "            <style>\n",
       "                .geemap-dark {\n",
       "                    --jp-widgets-color: white;\n",
       "                    --jp-widgets-label-color: white;\n",
       "                    --jp-ui-font-color1: white;\n",
       "                    --jp-layout-color2: #454545;\n",
       "                    background-color: #383838;\n",
       "                }\n",
       "                    \n",
       "                .geemap-dark .jupyter-button {\n",
       "                    --jp-layout-color3: #383838;\n",
       "                }\n",
       "                \n",
       "                .geemap-colab {\n",
       "                    background-color: var(--colab-primary-surface-color, white);\n",
       "                }\n",
       "                    \n",
       "                .geemap-colab .jupyter-button {\n",
       "                    --jp-layout-color3: var(--colab-primary-surface-color, white);\n",
       "                }\n",
       "            </style>\n",
       "            "
      ],
      "text/plain": [
       "<IPython.core.display.HTML object>"
      ]
     },
     "metadata": {},
     "output_type": "display_data"
    },
    {
     "data": {
      "text/html": [
       "<p>To authorize access needed by Earth Engine, open the following\n",
       "        URL in a web browser and follow the instructions:</p>\n",
       "        <p><a href=https://code.earthengine.google.com/client-auth?scopes=https%3A//www.googleapis.com/auth/earthengine%20https%3A//www.googleapis.com/auth/cloud-platform%20https%3A//www.googleapis.com/auth/devstorage.full_control&request_id=VC1RBuKFKGKObBMMIoF7RD0XUkSHElIsUH_ThTmrIE4&tc=fAe353lcftcUg8w9bqY2O8_stBkyccb81jZx-IsxgV8&cc=swJuCaSbpmRt45S9un0nGszrxwDsUmp9hck9xnAU5LQ>https://code.earthengine.google.com/client-auth?scopes=https%3A//www.googleapis.com/auth/earthengine%20https%3A//www.googleapis.com/auth/cloud-platform%20https%3A//www.googleapis.com/auth/devstorage.full_control&request_id=VC1RBuKFKGKObBMMIoF7RD0XUkSHElIsUH_ThTmrIE4&tc=fAe353lcftcUg8w9bqY2O8_stBkyccb81jZx-IsxgV8&cc=swJuCaSbpmRt45S9un0nGszrxwDsUmp9hck9xnAU5LQ</a></p>\n",
       "        <p>The authorization workflow will generate a code, which you should paste in the box below.</p>\n",
       "        "
      ],
      "text/plain": [
       "<IPython.core.display.HTML object>"
      ]
     },
     "metadata": {},
     "output_type": "display_data"
    },
    {
     "name": "stderr",
     "output_type": "stream",
     "text": [
      "/usr/bin/xdg-open: 882: x-www-browser: not found\n",
      "/usr/bin/xdg-open: 882: firefox: not found\n",
      "/usr/bin/xdg-open: 882: iceweasel: not found\n",
      "/usr/bin/xdg-open: 882: seamonkey: not found\n",
      "/usr/bin/xdg-open: 882: mozilla: not found\n",
      "/usr/bin/xdg-open: 882: epiphany: not found\n",
      "/usr/bin/xdg-open: 882: konqueror: not found\n",
      "/usr/bin/xdg-open: 882: chromium: not found\n",
      "/usr/bin/xdg-open: 882: chromium-browser: not found\n",
      "/usr/bin/xdg-open: 882: google-chrome: not found\n",
      "/usr/bin/xdg-open: 882: www-browser: not found\n",
      "/usr/bin/xdg-open: 882: links2: not found\n",
      "/usr/bin/xdg-open: 882: elinks: not found\n",
      "/usr/bin/xdg-open: 882: links: not found\n",
      "/usr/bin/xdg-open: 882: lynx: not found\n",
      "/usr/bin/xdg-open: 882: w3m: not found\n",
      "xdg-open: no method available for opening 'https://code.earthengine.google.com/client-auth?scopes=https%3A//www.googleapis.com/auth/earthengine%20https%3A//www.googleapis.com/auth/cloud-platform%20https%3A//www.googleapis.com/auth/devstorage.full_control&request_id=VC1RBuKFKGKObBMMIoF7RD0XUkSHElIsUH_ThTmrIE4&tc=fAe353lcftcUg8w9bqY2O8_stBkyccb81jZx-IsxgV8&cc=swJuCaSbpmRt45S9un0nGszrxwDsUmp9hck9xnAU5LQ'\n"
     ]
    },
    {
     "name": "stdin",
     "output_type": "stream",
     "text": [
      "Enter verification code:  4/1AfJohXm348mr6QB11EBHejvsfUKZnWbhcWB6WSW15n6fUNmiWIYINZSnlFY\n"
     ]
    },
    {
     "name": "stdout",
     "output_type": "stream",
     "text": [
      "\n",
      "Successfully saved authorization token.\n"
     ]
    }
   ],
   "source": [
    "ee.Authenticate()\n",
    "ee.Initialize()"
   ]
  },
  {
   "cell_type": "code",
   "execution_count": 9,
   "id": "489b5c44-09ee-4cee-beb6-4bfd6d228cf4",
   "metadata": {},
   "outputs": [
    {
     "data": {
      "text/html": [
       "\n",
       "            <style>\n",
       "                .geemap-dark {\n",
       "                    --jp-widgets-color: white;\n",
       "                    --jp-widgets-label-color: white;\n",
       "                    --jp-ui-font-color1: white;\n",
       "                    --jp-layout-color2: #454545;\n",
       "                    background-color: #383838;\n",
       "                }\n",
       "                    \n",
       "                .geemap-dark .jupyter-button {\n",
       "                    --jp-layout-color3: #383838;\n",
       "                }\n",
       "                \n",
       "                .geemap-colab {\n",
       "                    background-color: var(--colab-primary-surface-color, white);\n",
       "                }\n",
       "                    \n",
       "                .geemap-colab .jupyter-button {\n",
       "                    --jp-layout-color3: var(--colab-primary-surface-color, white);\n",
       "                }\n",
       "            </style>\n",
       "            "
      ],
      "text/plain": [
       "<IPython.core.display.HTML object>"
      ]
     },
     "metadata": {},
     "output_type": "display_data"
    }
   ],
   "source": [
    "_ = geemap.Map()"
   ]
  },
  {
   "cell_type": "code",
   "execution_count": 10,
   "id": "8c31f48c-e2f3-4305-a06f-5c7a64a54904",
   "metadata": {},
   "outputs": [
    {
     "data": {
      "text/html": [
       "\n",
       "            <style>\n",
       "                .geemap-dark {\n",
       "                    --jp-widgets-color: white;\n",
       "                    --jp-widgets-label-color: white;\n",
       "                    --jp-ui-font-color1: white;\n",
       "                    --jp-layout-color2: #454545;\n",
       "                    background-color: #383838;\n",
       "                }\n",
       "                    \n",
       "                .geemap-dark .jupyter-button {\n",
       "                    --jp-layout-color3: #383838;\n",
       "                }\n",
       "                \n",
       "                .geemap-colab {\n",
       "                    background-color: var(--colab-primary-surface-color, white);\n",
       "                }\n",
       "                    \n",
       "                .geemap-colab .jupyter-button {\n",
       "                    --jp-layout-color3: var(--colab-primary-surface-color, white);\n",
       "                }\n",
       "            </style>\n",
       "            "
      ],
      "text/plain": [
       "<IPython.core.display.HTML object>"
      ]
     },
     "metadata": {},
     "output_type": "display_data"
    },
    {
     "data": {
      "text/plain": [
       "'2023.10.14'"
      ]
     },
     "execution_count": 10,
     "metadata": {},
     "output_type": "execute_result"
    }
   ],
   "source": [
    "hf.__version__"
   ]
  },
  {
   "cell_type": "markdown",
   "id": "4a79a6a2-0693-4c62-a078-7296e60799d5",
   "metadata": {},
   "source": [
    "---\n",
    "## 02. Define region of interest, time period"
   ]
  },
  {
   "cell_type": "markdown",
   "id": "9f3717d5-9dc7-4238-9e51-2bcb8a510b45",
   "metadata": {},
   "source": [
    "### 02a. Define study region of interest"
   ]
  },
  {
   "cell_type": "code",
   "execution_count": 11,
   "id": "e53cc90d-8a79-4730-ba5c-ad221650880b",
   "metadata": {},
   "outputs": [
    {
     "data": {
      "text/html": [
       "\n",
       "            <style>\n",
       "                .geemap-dark {\n",
       "                    --jp-widgets-color: white;\n",
       "                    --jp-widgets-label-color: white;\n",
       "                    --jp-ui-font-color1: white;\n",
       "                    --jp-layout-color2: #454545;\n",
       "                    background-color: #383838;\n",
       "                }\n",
       "                    \n",
       "                .geemap-dark .jupyter-button {\n",
       "                    --jp-layout-color3: #383838;\n",
       "                }\n",
       "                \n",
       "                .geemap-colab {\n",
       "                    background-color: var(--colab-primary-surface-color, white);\n",
       "                }\n",
       "                    \n",
       "                .geemap-colab .jupyter-button {\n",
       "                    --jp-layout-color3: var(--colab-primary-surface-color, white);\n",
       "                }\n",
       "            </style>\n",
       "            "
      ],
      "text/plain": [
       "<IPython.core.display.HTML object>"
      ]
     },
     "metadata": {},
     "output_type": "display_data"
    }
   ],
   "source": [
    "# Beledweyne town somalia\n",
    "somalia_flood = ee.Geometry.Polygon([\n",
    "        [44.85, 4],\n",
    "        [45.85, 4],\n",
    "        [45.85, 5],\n",
    "        [44.85, 5]\n",
    "    ])\n",
    "\n",
    "# kakhovka_dam = ee.Geometry.Polygon([\n",
    "#         [46, 33],\n",
    "#         [46, 34],\n",
    "#         [47, 34],\n",
    "#         [47, 33]\n",
    "#     ])"
   ]
  },
  {
   "cell_type": "markdown",
   "id": "9264f503-fa76-4992-83b1-2c6588359405",
   "metadata": {},
   "source": [
    "### 02b. Define start and end time"
   ]
  },
  {
   "cell_type": "code",
   "execution_count": 12,
   "id": "bf73274e-4ef9-4b3f-8455-6d965ff361c5",
   "metadata": {},
   "outputs": [
    {
     "data": {
      "text/html": [
       "\n",
       "            <style>\n",
       "                .geemap-dark {\n",
       "                    --jp-widgets-color: white;\n",
       "                    --jp-widgets-label-color: white;\n",
       "                    --jp-ui-font-color1: white;\n",
       "                    --jp-layout-color2: #454545;\n",
       "                    background-color: #383838;\n",
       "                }\n",
       "                    \n",
       "                .geemap-dark .jupyter-button {\n",
       "                    --jp-layout-color3: #383838;\n",
       "                }\n",
       "                \n",
       "                .geemap-colab {\n",
       "                    background-color: var(--colab-primary-surface-color, white);\n",
       "                }\n",
       "                    \n",
       "                .geemap-colab .jupyter-button {\n",
       "                    --jp-layout-color3: var(--colab-primary-surface-color, white);\n",
       "                }\n",
       "            </style>\n",
       "            "
      ],
      "text/plain": [
       "<IPython.core.display.HTML object>"
      ]
     },
     "metadata": {},
     "output_type": "display_data"
    }
   ],
   "source": [
    "#Define time period of interest\n",
    "start_date = \"2023-11-15\"\n",
    "end_date = \"2023-12-15\""
   ]
  },
  {
   "cell_type": "markdown",
   "id": "9e7a54f6-094c-4750-9061-6ccc0494ad1c",
   "metadata": {},
   "source": [
    "---\n",
    "# Working with Earth Observation data"
   ]
  },
  {
   "cell_type": "markdown",
   "id": "4f6940ab-dd9a-4602-9acf-4953c270d6b7",
   "metadata": {},
   "source": [
    "## 03. Optical Imagery Workflow"
   ]
  },
  {
   "cell_type": "markdown",
   "id": "724c5400-b255-44c7-84ff-5817e9a66b88",
   "metadata": {},
   "source": [
    "### 03a. Acquire optical data using hf.dataset"
   ]
  },
  {
   "cell_type": "code",
   "execution_count": 13,
   "id": "f465487e-bc23-4360-8cb8-8d24d204990f",
   "metadata": {},
   "outputs": [
    {
     "data": {
      "text/html": [
       "\n",
       "            <style>\n",
       "                .geemap-dark {\n",
       "                    --jp-widgets-color: white;\n",
       "                    --jp-widgets-label-color: white;\n",
       "                    --jp-ui-font-color1: white;\n",
       "                    --jp-layout-color2: #454545;\n",
       "                    background-color: #383838;\n",
       "                }\n",
       "                    \n",
       "                .geemap-dark .jupyter-button {\n",
       "                    --jp-layout-color3: #383838;\n",
       "                }\n",
       "                \n",
       "                .geemap-colab {\n",
       "                    background-color: var(--colab-primary-surface-color, white);\n",
       "                }\n",
       "                    \n",
       "                .geemap-colab .jupyter-button {\n",
       "                    --jp-layout-color3: var(--colab-primary-surface-color, white);\n",
       "                }\n",
       "            </style>\n",
       "            "
      ],
      "text/plain": [
       "<IPython.core.display.HTML object>"
      ]
     },
     "metadata": {},
     "output_type": "display_data"
    }
   ],
   "source": [
    "#Acquire optical data using hf.dataset\n",
    "optical = hf.Landsat8(somalia_flood, start_date, end_date)"
   ]
  },
  {
   "cell_type": "markdown",
   "id": "8ca054c4-ac7d-4c66-be54-4346d3900e1d",
   "metadata": {},
   "source": [
    "##### Apply a function to rename some parameters"
   ]
  },
  {
   "cell_type": "code",
   "execution_count": 14,
   "id": "d936f79d-8465-45b6-9be1-3526652cbce0",
   "metadata": {},
   "outputs": [
    {
     "data": {
      "text/html": [
       "\n",
       "            <style>\n",
       "                .geemap-dark {\n",
       "                    --jp-widgets-color: white;\n",
       "                    --jp-widgets-label-color: white;\n",
       "                    --jp-ui-font-color1: white;\n",
       "                    --jp-layout-color2: #454545;\n",
       "                    background-color: #383838;\n",
       "                }\n",
       "                    \n",
       "                .geemap-dark .jupyter-button {\n",
       "                    --jp-layout-color3: #383838;\n",
       "                }\n",
       "                \n",
       "                .geemap-colab {\n",
       "                    background-color: var(--colab-primary-surface-color, white);\n",
       "                }\n",
       "                    \n",
       "                .geemap-colab .jupyter-button {\n",
       "                    --jp-layout-color3: var(--colab-primary-surface-color, white);\n",
       "                }\n",
       "            </style>\n",
       "            "
      ],
      "text/plain": [
       "<IPython.core.display.HTML object>"
      ]
     },
     "metadata": {},
     "output_type": "display_data"
    }
   ],
   "source": [
    "# function to rename the sun angle properties to what is expected by\n",
    "# the illumination_correction function\n",
    "def rename_sunangle_properties(image):\n",
    "    sz = ee.Number(90).subtract(image.get('SUN_ELEVATION'))\n",
    "    sa = image.get('SUN_AZIMUTH')\n",
    "    return image.set({\"SOLAR_ZENITH_ANGLE\": sz, \"SOLAR_AZIMUTH_ANGLE\": sa})\n",
    "\n",
    "# apply the function to rename properties\n",
    "optical = optical.apply_func(rename_sunangle_properties)"
   ]
  },
  {
   "cell_type": "markdown",
   "id": "db13cae4-5c46-4f5c-8872-fab91d4a1cb5",
   "metadata": {},
   "source": [
    "### 03b. Apply illumination correction"
   ]
  },
  {
   "cell_type": "markdown",
   "id": "f043a7ac-f143-46c3-8ec0-e55f756aa87e",
   "metadata": {},
   "source": [
    "##### Acquire DEM data"
   ]
  },
  {
   "cell_type": "markdown",
   "id": "55cfe748-8ec0-4e87-83c2-9de09e365ccd",
   "metadata": {},
   "source": [
    "Please note that users have a choice of DEM in this step."
   ]
  },
  {
   "cell_type": "code",
   "execution_count": 15,
   "id": "363385ab-d17d-4719-a786-d4cfa90b6993",
   "metadata": {},
   "outputs": [
    {
     "data": {
      "text/html": [
       "\n",
       "            <style>\n",
       "                .geemap-dark {\n",
       "                    --jp-widgets-color: white;\n",
       "                    --jp-widgets-label-color: white;\n",
       "                    --jp-ui-font-color1: white;\n",
       "                    --jp-layout-color2: #454545;\n",
       "                    background-color: #383838;\n",
       "                }\n",
       "                    \n",
       "                .geemap-dark .jupyter-button {\n",
       "                    --jp-layout-color3: #383838;\n",
       "                }\n",
       "                \n",
       "                .geemap-colab {\n",
       "                    background-color: var(--colab-primary-surface-color, white);\n",
       "                }\n",
       "                    \n",
       "                .geemap-colab .jupyter-button {\n",
       "                    --jp-layout-color3: var(--colab-primary-surface-color, white);\n",
       "                }\n",
       "            </style>\n",
       "            "
      ],
      "text/plain": [
       "<IPython.core.display.HTML object>"
      ]
     },
     "metadata": {},
     "output_type": "display_data"
    }
   ],
   "source": [
    "# https://www.youtube.com/watch?v=uCzNxG4Q9aI\n",
    "elv = ee.Image(\"JAXA/ALOS/AW3D30/V2_2\").select(\"AVE_DSM\").unmask(0) #JAXA ALOS DEM\n",
    "# merit_dem = ee.Image(\"MERIT/Hydro/v1_0_1\").select(\"elv\").unmask(0) #Merit-Hydro DEM: A hydrologically-adjusted DEM from Yamakazi, D. et al. 2019"
   ]
  },
  {
   "cell_type": "code",
   "execution_count": 16,
   "id": "dbed3d41-a04c-4353-81fd-998cf6f89c48",
   "metadata": {},
   "outputs": [
    {
     "data": {
      "text/html": [
       "\n",
       "            <style>\n",
       "                .geemap-dark {\n",
       "                    --jp-widgets-color: white;\n",
       "                    --jp-widgets-label-color: white;\n",
       "                    --jp-ui-font-color1: white;\n",
       "                    --jp-layout-color2: #454545;\n",
       "                    background-color: #383838;\n",
       "                }\n",
       "                    \n",
       "                .geemap-dark .jupyter-button {\n",
       "                    --jp-layout-color3: #383838;\n",
       "                }\n",
       "                \n",
       "                .geemap-colab {\n",
       "                    background-color: var(--colab-primary-surface-color, white);\n",
       "                }\n",
       "                    \n",
       "                .geemap-colab .jupyter-button {\n",
       "                    --jp-layout-color3: var(--colab-primary-surface-color, white);\n",
       "                }\n",
       "            </style>\n",
       "            "
      ],
      "text/plain": [
       "<IPython.core.display.HTML object>"
      ]
     },
     "metadata": {},
     "output_type": "display_data"
    }
   ],
   "source": [
    "opt_corrected = optical.apply_func(hf.corrections.illumination_correction, elevation = elv, scale=180) #Use JAXA DEM\n",
    "# opt_corrected = optical.apply_func(hf.corrections.illumination_correction, elevation = dem, scale=180) #Use MERIT-Hydro DEM"
   ]
  },
  {
   "cell_type": "markdown",
   "id": "1d81eed3-160a-4fba-bdbc-4639367276c5",
   "metadata": {},
   "source": [
    "### 03c. Apply a reducer"
   ]
  },
  {
   "cell_type": "code",
   "execution_count": 17,
   "id": "4af687dc-4d7b-487c-aacf-c8d3813958e5",
   "metadata": {},
   "outputs": [
    {
     "data": {
      "text/html": [
       "\n",
       "            <style>\n",
       "                .geemap-dark {\n",
       "                    --jp-widgets-color: white;\n",
       "                    --jp-widgets-label-color: white;\n",
       "                    --jp-ui-font-color1: white;\n",
       "                    --jp-layout-color2: #454545;\n",
       "                    background-color: #383838;\n",
       "                }\n",
       "                    \n",
       "                .geemap-dark .jupyter-button {\n",
       "                    --jp-layout-color3: #383838;\n",
       "                }\n",
       "                \n",
       "                .geemap-colab {\n",
       "                    background-color: var(--colab-primary-surface-color, white);\n",
       "                }\n",
       "                    \n",
       "                .geemap-colab .jupyter-button {\n",
       "                    --jp-layout-color3: var(--colab-primary-surface-color, white);\n",
       "                }\n",
       "            </style>\n",
       "            "
      ],
      "text/plain": [
       "<IPython.core.display.HTML object>"
      ]
     },
     "metadata": {},
     "output_type": "display_data"
    }
   ],
   "source": [
    "opt_reduced = opt_corrected.collection.median()\n",
    "# opt_reduced = opt_corrected.collection.mean()\n",
    "# opt_reduced = opt_corrected.collection.mosaic()\n",
    "# opt_reduced = opt_corrected.collection.first()\n",
    "# opt_reduced = opt_corrected.collection.last()"
   ]
  },
  {
   "cell_type": "markdown",
   "id": "bbf90929-c387-4a67-9cea-d60b32cd2efd",
   "metadata": {},
   "source": [
    "### 03c* Visualize (intermediatory) results"
   ]
  },
  {
   "cell_type": "code",
   "execution_count": 18,
   "id": "d82ab23f-478e-45ab-ab44-cd9f755d5d7f",
   "metadata": {},
   "outputs": [
    {
     "data": {
      "text/html": [
       "\n",
       "            <style>\n",
       "                .geemap-dark {\n",
       "                    --jp-widgets-color: white;\n",
       "                    --jp-widgets-label-color: white;\n",
       "                    --jp-ui-font-color1: white;\n",
       "                    --jp-layout-color2: #454545;\n",
       "                    background-color: #383838;\n",
       "                }\n",
       "                    \n",
       "                .geemap-dark .jupyter-button {\n",
       "                    --jp-layout-color3: #383838;\n",
       "                }\n",
       "                \n",
       "                .geemap-colab {\n",
       "                    background-color: var(--colab-primary-surface-color, white);\n",
       "                }\n",
       "                    \n",
       "                .geemap-colab .jupyter-button {\n",
       "                    --jp-layout-color3: var(--colab-primary-surface-color, white);\n",
       "                }\n",
       "            </style>\n",
       "            "
      ],
      "text/plain": [
       "<IPython.core.display.HTML object>"
      ]
     },
     "metadata": {},
     "output_type": "display_data"
    }
   ],
   "source": [
    "opt_params = {\n",
    "    \"min\": 50,\n",
    "    \"max\": 1000,\n",
    "    \"bands\": \"red,green,blue\",\n",
    "    \"gamma\":1.5,\n",
    "    \"dimensions\": 1024\n",
    "}"
   ]
  },
  {
   "cell_type": "code",
   "execution_count": 19,
   "id": "754e7f0b-45db-4c7c-a6cb-0881c87e7708",
   "metadata": {},
   "outputs": [
    {
     "data": {
      "text/html": [
       "\n",
       "            <style>\n",
       "                .geemap-dark {\n",
       "                    --jp-widgets-color: white;\n",
       "                    --jp-widgets-label-color: white;\n",
       "                    --jp-ui-font-color1: white;\n",
       "                    --jp-layout-color2: #454545;\n",
       "                    background-color: #383838;\n",
       "                }\n",
       "                    \n",
       "                .geemap-dark .jupyter-button {\n",
       "                    --jp-layout-color3: #383838;\n",
       "                }\n",
       "                \n",
       "                .geemap-colab {\n",
       "                    background-color: var(--colab-primary-surface-color, white);\n",
       "                }\n",
       "                    \n",
       "                .geemap-colab .jupyter-button {\n",
       "                    --jp-layout-color3: var(--colab-primary-surface-color, white);\n",
       "                }\n",
       "            </style>\n",
       "            "
      ],
      "text/plain": [
       "<IPython.core.display.HTML object>"
      ]
     },
     "metadata": {},
     "output_type": "display_data"
    },
    {
     "data": {
      "application/vnd.jupyter.widget-view+json": {
       "model_id": "82a04df691424daaa4b83ee4696df944",
       "version_major": 2,
       "version_minor": 0
      },
      "text/plain": [
       "Map(center=[5, 46.5], controls=(WidgetControl(options=['position', 'transparent_bg'], widget=SearchDataGUI(chi…"
      ]
     },
     "execution_count": 19,
     "metadata": {},
     "output_type": "execute_result"
    }
   ],
   "source": [
    "Map = geemap.Map(center = (5, 46.5), zoom = 9)\n",
    "Map.addLayer(somalia_flood, {}, 'Beledweyne, Somalia')\n",
    "Map.addLayer(opt_reduced, opt_params, 'Maximum Flood Water in Beledweyne, Somalia 2023 (using Optical imagery)')\n",
    "Map.addLayerControl()\n",
    "Map"
   ]
  },
  {
   "cell_type": "markdown",
   "id": "a76fd24d-5cb2-43c6-8e93-71f78a36c41d",
   "metadata": {},
   "source": [
    "### 03d Thresholding"
   ]
  },
  {
   "cell_type": "code",
   "execution_count": 20,
   "id": "76d97544-9646-448b-988b-38a94f079262",
   "metadata": {},
   "outputs": [
    {
     "data": {
      "text/html": [
       "\n",
       "            <style>\n",
       "                .geemap-dark {\n",
       "                    --jp-widgets-color: white;\n",
       "                    --jp-widgets-label-color: white;\n",
       "                    --jp-ui-font-color1: white;\n",
       "                    --jp-layout-color2: #454545;\n",
       "                    background-color: #383838;\n",
       "                }\n",
       "                    \n",
       "                .geemap-dark .jupyter-button {\n",
       "                    --jp-layout-color3: #383838;\n",
       "                }\n",
       "                \n",
       "                .geemap-colab {\n",
       "                    background-color: var(--colab-primary-surface-color, white);\n",
       "                }\n",
       "                    \n",
       "                .geemap-colab .jupyter-button {\n",
       "                    --jp-layout-color3: var(--colab-primary-surface-color, white);\n",
       "                }\n",
       "            </style>\n",
       "            "
      ],
      "text/plain": [
       "<IPython.core.display.HTML object>"
      ]
     },
     "metadata": {},
     "output_type": "display_data"
    }
   ],
   "source": [
    "#Optical thresholding\n",
    "\n",
    "mndwi = opt_corrected.apply_func(hf.add_indices, indices = [\"mndwi\"])\n",
    "\n",
    "mndwi_reduced = mndwi.collection.median()\n",
    "\n",
    "opt_water = hf.edge_otsu(\n",
    "    mndwi_reduced,\n",
    "    \"mndwi\",\n",
    "    initial_threshold = 0,\n",
    "    thresh_no_data = 0.5,\n",
    "    edge_buffer = 300,\n",
    "    scale = 1e3,\n",
    "    invert = True,\n",
    "    region = somalia_flood\n",
    ")"
   ]
  },
  {
   "cell_type": "markdown",
   "id": "5c712f09-3ad4-4147-af62-c1a54b795062",
   "metadata": {},
   "source": [
    "### 03d* Visualization"
   ]
  },
  {
   "cell_type": "code",
   "execution_count": 21,
   "id": "5f6dfc72-1ae5-4709-89c7-1cc63472540f",
   "metadata": {},
   "outputs": [
    {
     "data": {
      "text/html": [
       "\n",
       "            <style>\n",
       "                .geemap-dark {\n",
       "                    --jp-widgets-color: white;\n",
       "                    --jp-widgets-label-color: white;\n",
       "                    --jp-ui-font-color1: white;\n",
       "                    --jp-layout-color2: #454545;\n",
       "                    background-color: #383838;\n",
       "                }\n",
       "                    \n",
       "                .geemap-dark .jupyter-button {\n",
       "                    --jp-layout-color3: #383838;\n",
       "                }\n",
       "                \n",
       "                .geemap-colab {\n",
       "                    background-color: var(--colab-primary-surface-color, white);\n",
       "                }\n",
       "                    \n",
       "                .geemap-colab .jupyter-button {\n",
       "                    --jp-layout-color3: var(--colab-primary-surface-color, white);\n",
       "                }\n",
       "            </style>\n",
       "            "
      ],
      "text/plain": [
       "<IPython.core.display.HTML object>"
      ]
     },
     "metadata": {},
     "output_type": "display_data"
    },
    {
     "data": {
      "application/vnd.jupyter.widget-view+json": {
       "model_id": "6f4a6eca305541daa229dea1c925e763",
       "version_major": 2,
       "version_minor": 0
      },
      "text/plain": [
       "Map(center=[5, 46.5], controls=(WidgetControl(options=['position', 'transparent_bg'], widget=SearchDataGUI(chi…"
      ]
     },
     "execution_count": 21,
     "metadata": {},
     "output_type": "execute_result"
    }
   ],
   "source": [
    "water_params = {\n",
    "    \"min\": 0,\n",
    "    \"max\": 1,\n",
    "    \"palette\": ['D3D3D3', '000080']\n",
    "}\n",
    "\n",
    "Map = geemap.Map(center = (5, 46.5), zoom = 9)\n",
    "\n",
    "Map.addLayer(somalia_flood, {}, 'Beledweyne, Somalia')\n",
    "Map.addLayer(opt_water.selfMask(), water_params, 'Maximum Flood Water in Beledweyne, Somalia 2023 (using Optical imagery)')\n",
    "\n",
    "Map.addLayerControl()\n",
    "Map"
   ]
  },
  {
   "cell_type": "markdown",
   "id": "08729b8e-1c0d-42f1-80ff-6c8b9bb15daf",
   "metadata": {},
   "source": [
    "## 04. Flood Analysis using SAR imagery"
   ]
  },
  {
   "cell_type": "markdown",
   "id": "7597e01e-04a5-4f1b-9a51-0f67db3a6e12",
   "metadata": {},
   "source": [
    "### 04a. Acquire optical data using hf.dataset"
   ]
  },
  {
   "cell_type": "code",
   "execution_count": 22,
   "id": "d12092c2-2a9d-47b3-85ee-795cb6e15e22",
   "metadata": {},
   "outputs": [
    {
     "data": {
      "text/html": [
       "\n",
       "            <style>\n",
       "                .geemap-dark {\n",
       "                    --jp-widgets-color: white;\n",
       "                    --jp-widgets-label-color: white;\n",
       "                    --jp-ui-font-color1: white;\n",
       "                    --jp-layout-color2: #454545;\n",
       "                    background-color: #383838;\n",
       "                }\n",
       "                    \n",
       "                .geemap-dark .jupyter-button {\n",
       "                    --jp-layout-color3: #383838;\n",
       "                }\n",
       "                \n",
       "                .geemap-colab {\n",
       "                    background-color: var(--colab-primary-surface-color, white);\n",
       "                }\n",
       "                    \n",
       "                .geemap-colab .jupyter-button {\n",
       "                    --jp-layout-color3: var(--colab-primary-surface-color, white);\n",
       "                }\n",
       "            </style>\n",
       "            "
      ],
      "text/plain": [
       "<IPython.core.display.HTML object>"
      ]
     },
     "metadata": {},
     "output_type": "display_data"
    }
   ],
   "source": [
    "sar = hf.Sentinel1(somalia_flood, start_date, end_date)"
   ]
  },
  {
   "cell_type": "markdown",
   "id": "d0568023-d87c-4b30-aab8-372c9a835987",
   "metadata": {},
   "source": [
    "### 04b. Apply some corrections (Speckle filter)"
   ]
  },
  {
   "cell_type": "code",
   "execution_count": 23,
   "id": "2dda8c78-c322-419b-bbed-c5454ec56619",
   "metadata": {},
   "outputs": [
    {
     "data": {
      "text/html": [
       "\n",
       "            <style>\n",
       "                .geemap-dark {\n",
       "                    --jp-widgets-color: white;\n",
       "                    --jp-widgets-label-color: white;\n",
       "                    --jp-ui-font-color1: white;\n",
       "                    --jp-layout-color2: #454545;\n",
       "                    background-color: #383838;\n",
       "                }\n",
       "                    \n",
       "                .geemap-dark .jupyter-button {\n",
       "                    --jp-layout-color3: #383838;\n",
       "                }\n",
       "                \n",
       "                .geemap-colab {\n",
       "                    background-color: var(--colab-primary-surface-color, white);\n",
       "                }\n",
       "                    \n",
       "                .geemap-colab .jupyter-button {\n",
       "                    --jp-layout-color3: var(--colab-primary-surface-color, white);\n",
       "                }\n",
       "            </style>\n",
       "            "
      ],
      "text/plain": [
       "<IPython.core.display.HTML object>"
      ]
     },
     "metadata": {},
     "output_type": "display_data"
    }
   ],
   "source": [
    "sar_speckle_filt = sar.apply_func(hf.gamma_map)\n",
    "sar_corrected = sar_speckle_filt.apply_func(corrections.slope_correction, elevation = elv, buffer = 30)"
   ]
  },
  {
   "cell_type": "markdown",
   "id": "1324e34e-edb2-49f0-8522-bc87cf831371",
   "metadata": {},
   "source": [
    "### 04c. Apply a reducer"
   ]
  },
  {
   "cell_type": "code",
   "execution_count": 24,
   "id": "d83d8c19-f99c-4499-987f-2fce41616c0b",
   "metadata": {},
   "outputs": [
    {
     "data": {
      "text/html": [
       "\n",
       "            <style>\n",
       "                .geemap-dark {\n",
       "                    --jp-widgets-color: white;\n",
       "                    --jp-widgets-label-color: white;\n",
       "                    --jp-ui-font-color1: white;\n",
       "                    --jp-layout-color2: #454545;\n",
       "                    background-color: #383838;\n",
       "                }\n",
       "                    \n",
       "                .geemap-dark .jupyter-button {\n",
       "                    --jp-layout-color3: #383838;\n",
       "                }\n",
       "                \n",
       "                .geemap-colab {\n",
       "                    background-color: var(--colab-primary-surface-color, white);\n",
       "                }\n",
       "                    \n",
       "                .geemap-colab .jupyter-button {\n",
       "                    --jp-layout-color3: var(--colab-primary-surface-color, white);\n",
       "                }\n",
       "            </style>\n",
       "            "
      ],
      "text/plain": [
       "<IPython.core.display.HTML object>"
      ]
     },
     "metadata": {},
     "output_type": "display_data"
    }
   ],
   "source": [
    "sar_reduced = sar_corrected.collection.max()"
   ]
  },
  {
   "cell_type": "markdown",
   "id": "a283ae28-ea87-447a-94cd-aff773a9599f",
   "metadata": {},
   "source": [
    "### 04c* Visualize (intermediatory step)    "
   ]
  },
  {
   "cell_type": "code",
   "execution_count": 25,
   "id": "94f3c81b-296c-479d-a031-2a8e159b1c55",
   "metadata": {},
   "outputs": [
    {
     "data": {
      "text/html": [
       "\n",
       "            <style>\n",
       "                .geemap-dark {\n",
       "                    --jp-widgets-color: white;\n",
       "                    --jp-widgets-label-color: white;\n",
       "                    --jp-ui-font-color1: white;\n",
       "                    --jp-layout-color2: #454545;\n",
       "                    background-color: #383838;\n",
       "                }\n",
       "                    \n",
       "                .geemap-dark .jupyter-button {\n",
       "                    --jp-layout-color3: #383838;\n",
       "                }\n",
       "                \n",
       "                .geemap-colab {\n",
       "                    background-color: var(--colab-primary-surface-color, white);\n",
       "                }\n",
       "                    \n",
       "                .geemap-colab .jupyter-button {\n",
       "                    --jp-layout-color3: var(--colab-primary-surface-color, white);\n",
       "                }\n",
       "            </style>\n",
       "            "
      ],
      "text/plain": [
       "<IPython.core.display.HTML object>"
      ]
     },
     "metadata": {},
     "output_type": "display_data"
    }
   ],
   "source": [
    "sar_params = {\n",
    "    \"min\": -25,\n",
    "    \"max\": 0,\n",
    "    \"bands\": \"VV\",\n",
    "    \"gamma\": 1,\n",
    "    \"dimensions\": 1024\n",
    "}"
   ]
  },
  {
   "cell_type": "code",
   "execution_count": 26,
   "id": "fbd90f22-412f-4dec-938d-acade3021c22",
   "metadata": {},
   "outputs": [
    {
     "data": {
      "text/html": [
       "\n",
       "            <style>\n",
       "                .geemap-dark {\n",
       "                    --jp-widgets-color: white;\n",
       "                    --jp-widgets-label-color: white;\n",
       "                    --jp-ui-font-color1: white;\n",
       "                    --jp-layout-color2: #454545;\n",
       "                    background-color: #383838;\n",
       "                }\n",
       "                    \n",
       "                .geemap-dark .jupyter-button {\n",
       "                    --jp-layout-color3: #383838;\n",
       "                }\n",
       "                \n",
       "                .geemap-colab {\n",
       "                    background-color: var(--colab-primary-surface-color, white);\n",
       "                }\n",
       "                    \n",
       "                .geemap-colab .jupyter-button {\n",
       "                    --jp-layout-color3: var(--colab-primary-surface-color, white);\n",
       "                }\n",
       "            </style>\n",
       "            "
      ],
      "text/plain": [
       "<IPython.core.display.HTML object>"
      ]
     },
     "metadata": {},
     "output_type": "display_data"
    },
    {
     "data": {
      "application/vnd.jupyter.widget-view+json": {
       "model_id": "d6628ceacc934246a09422e6f7648db3",
       "version_major": 2,
       "version_minor": 0
      },
      "text/plain": [
       "Map(center=[5, 46.5], controls=(WidgetControl(options=['position', 'transparent_bg'], widget=SearchDataGUI(chi…"
      ]
     },
     "execution_count": 26,
     "metadata": {},
     "output_type": "execute_result"
    }
   ],
   "source": [
    "Map = geemap.Map(center = (5, 46.5), zoom = 9)\n",
    "\n",
    "\n",
    "Map.addLayer(sar_reduced, sar_params, 'SAR Imagery')\n",
    "Map.addLayer(somalia_flood, {}, 'Region of Interest')\n",
    "\n",
    "Map.addLayerControl()\n",
    "Map"
   ]
  },
  {
   "cell_type": "markdown",
   "id": "edc20d6d-4f82-4864-8cde-e62f53d11295",
   "metadata": {},
   "source": [
    "### 04d Thresholding"
   ]
  },
  {
   "cell_type": "code",
   "execution_count": 27,
   "id": "ee071acb-c57a-4779-a758-f287721c5c39",
   "metadata": {},
   "outputs": [
    {
     "data": {
      "text/html": [
       "\n",
       "            <style>\n",
       "                .geemap-dark {\n",
       "                    --jp-widgets-color: white;\n",
       "                    --jp-widgets-label-color: white;\n",
       "                    --jp-ui-font-color1: white;\n",
       "                    --jp-layout-color2: #454545;\n",
       "                    background-color: #383838;\n",
       "                }\n",
       "                    \n",
       "                .geemap-dark .jupyter-button {\n",
       "                    --jp-layout-color3: #383838;\n",
       "                }\n",
       "                \n",
       "                .geemap-colab {\n",
       "                    background-color: var(--colab-primary-surface-color, white);\n",
       "                }\n",
       "                    \n",
       "                .geemap-colab .jupyter-button {\n",
       "                    --jp-layout-color3: var(--colab-primary-surface-color, white);\n",
       "                }\n",
       "            </style>\n",
       "            "
      ],
      "text/plain": [
       "<IPython.core.display.HTML object>"
      ]
     },
     "metadata": {},
     "output_type": "display_data"
    }
   ],
   "source": [
    "sar_water = hf.edge_otsu(\n",
    "    sar_reduced,\n",
    "    \"VV\",\n",
    "    initial_threshold = -11,\n",
    "    thresh_no_data = -20,\n",
    "    edge_buffer = 300,\n",
    "    region = somalia_flood,\n",
    "    scale = 1e3)"
   ]
  },
  {
   "cell_type": "markdown",
   "id": "12cb1923-6aec-4815-87f4-343bd73eeea4",
   "metadata": {},
   "source": [
    "### 04d* Visualization"
   ]
  },
  {
   "cell_type": "code",
   "execution_count": 28,
   "id": "8ef2b9cf-ef10-49bc-8bf7-fa55f4065c7b",
   "metadata": {},
   "outputs": [
    {
     "data": {
      "text/html": [
       "\n",
       "            <style>\n",
       "                .geemap-dark {\n",
       "                    --jp-widgets-color: white;\n",
       "                    --jp-widgets-label-color: white;\n",
       "                    --jp-ui-font-color1: white;\n",
       "                    --jp-layout-color2: #454545;\n",
       "                    background-color: #383838;\n",
       "                }\n",
       "                    \n",
       "                .geemap-dark .jupyter-button {\n",
       "                    --jp-layout-color3: #383838;\n",
       "                }\n",
       "                \n",
       "                .geemap-colab {\n",
       "                    background-color: var(--colab-primary-surface-color, white);\n",
       "                }\n",
       "                    \n",
       "                .geemap-colab .jupyter-button {\n",
       "                    --jp-layout-color3: var(--colab-primary-surface-color, white);\n",
       "                }\n",
       "            </style>\n",
       "            "
      ],
      "text/plain": [
       "<IPython.core.display.HTML object>"
      ]
     },
     "metadata": {},
     "output_type": "display_data"
    },
    {
     "data": {
      "application/vnd.jupyter.widget-view+json": {
       "model_id": "a6685297361240b2b3c73fd1d02ab942",
       "version_major": 2,
       "version_minor": 0
      },
      "text/plain": [
       "Map(center=[5, 46.5], controls=(WidgetControl(options=['position', 'transparent_bg'], widget=SearchDataGUI(chi…"
      ]
     },
     "execution_count": 28,
     "metadata": {},
     "output_type": "execute_result"
    }
   ],
   "source": [
    "water_params = {\n",
    "    \"min\": 0,\n",
    "    \"max\": 1,\n",
    "    \"palette\": ['D3D3D3', '000080']\n",
    "}\n",
    "\n",
    "Map = geemap.Map(center = (5, 46.5), zoom = 9)\n",
    "\n",
    "Map.addLayer(somalia_flood, {}, 'Beledweyne, Somalia')\n",
    "# Map.addLayer(opt_water, water_params, 'Optical-detected Water')\n",
    "# Map.addLayer(sar_water.selfMask(), water_params, 'Flood Water 2023')\n",
    "Map.addLayer(sar_water.selfMask(), water_params, 'Maximum Flood Water in Beledweyne, Somalia 2023 (using SAR imagery)')\n",
    "Map.addLayerControl()\n",
    "Map"
   ]
  },
  {
   "cell_type": "markdown",
   "id": "30fa72ed-0178-4c41-8a16-4c9060cc98be",
   "metadata": {},
   "source": [
    "## 05 Compare visualization: Optical vs SAR"
   ]
  },
  {
   "cell_type": "code",
   "execution_count": 29,
   "id": "f693e123-bcd9-4e33-bc30-5049eb189308",
   "metadata": {},
   "outputs": [
    {
     "data": {
      "text/html": [
       "\n",
       "            <style>\n",
       "                .geemap-dark {\n",
       "                    --jp-widgets-color: white;\n",
       "                    --jp-widgets-label-color: white;\n",
       "                    --jp-ui-font-color1: white;\n",
       "                    --jp-layout-color2: #454545;\n",
       "                    background-color: #383838;\n",
       "                }\n",
       "                    \n",
       "                .geemap-dark .jupyter-button {\n",
       "                    --jp-layout-color3: #383838;\n",
       "                }\n",
       "                \n",
       "                .geemap-colab {\n",
       "                    background-color: var(--colab-primary-surface-color, white);\n",
       "                }\n",
       "                    \n",
       "                .geemap-colab .jupyter-button {\n",
       "                    --jp-layout-color3: var(--colab-primary-surface-color, white);\n",
       "                }\n",
       "            </style>\n",
       "            "
      ],
      "text/plain": [
       "<IPython.core.display.HTML object>"
      ]
     },
     "metadata": {},
     "output_type": "display_data"
    },
    {
     "data": {
      "application/vnd.jupyter.widget-view+json": {
       "model_id": "cdfa0bd9188140bea99d4ec4ede15fc1",
       "version_major": 2,
       "version_minor": 0
      },
      "text/plain": [
       "Map(center=[5, 46.5], controls=(ZoomControl(options=['position', 'zoom_in_text', 'zoom_in_title', 'zoom_out_te…"
      ]
     },
     "execution_count": 29,
     "metadata": {},
     "output_type": "execute_result"
    }
   ],
   "source": [
    "water_params_lightblue = {\n",
    "    \"min\": 0,\n",
    "    \"max\": 1,\n",
    "    \"palette\": ['D3D3D3', '0000FF']\n",
    "}\n",
    "\n",
    "water_params_darkblue = {\n",
    "    \"min\": 0,\n",
    "    \"max\": 1,\n",
    "    \"palette\": ['D3D3D3', '000080']\n",
    "}\n",
    "\n",
    "#https://geemap.org/notebooks/04_split_panel_map/\n",
    "left_layer = geemap.ee_tile_layer(opt_water.selfMask(), water_params_lightblue, 'Maximum Flood Water in Beledweyne, Somalia 2023 (using Optical imagery)')\n",
    "right_layer = geemap.ee_tile_layer(sar_water.selfMask(), water_params_darkblue, 'SAR-detected Water')\n",
    "\n",
    "Map = geemap.Map(center = (5, 46.5), zoom = 9)\n",
    "Map.split_map(left_layer, right_layer)\n",
    "Map.addLayer(somalia_flood, {}, 'Region of Interest')\n",
    "Map"
   ]
  },
  {
   "cell_type": "markdown",
   "id": "80c76fda-1fb3-4b5b-90aa-c11cd7492134",
   "metadata": {},
   "source": [
    "<div class=\"alert alert-block alert-info\">\n",
    "    <b>Discussion:</b> ❓ In this case study, optical seems to show more flood water, why? \n",
    "    <br>Date of image acquisition? Choice of reducer? Any other reason?\n",
    "</div>\n"
   ]
  },
  {
   "cell_type": "markdown",
   "id": "52b20ca1-5058-411b-85cc-4172a3ef5158",
   "metadata": {},
   "source": [
    "---"
   ]
  },
  {
   "cell_type": "markdown",
   "id": "4487746d-81e8-458c-8863-60692a9ae996",
   "metadata": {},
   "source": [
    "<div class=\"alert alert-block alert-info\">\n",
    "    <b>Discussion:</b> ❓ Before the flood in Somalia of December, 2023, there was a three-year long big drought. Can we use the skills we learn today to compare the water extent between the two conditions? What applications may surface water mapping have in this case?\n",
    "</div>\n"
   ]
  },
  {
   "cell_type": "markdown",
   "id": "71b3cdb6-4837-4098-b44b-bf3e0cf8ac7c",
   "metadata": {},
   "source": [
    "## 06 Assignment (Optional)"
   ]
  },
  {
   "cell_type": "markdown",
   "id": "e34ef4be-b4a1-4dd8-8544-80efba45ca05",
   "metadata": {},
   "source": [
    "> Compute water extent in the same region during the drought."
   ]
  },
  {
   "cell_type": "code",
   "execution_count": 30,
   "id": "854d3caf-6446-4098-aa49-28a2559dfeb3",
   "metadata": {},
   "outputs": [
    {
     "data": {
      "text/html": [
       "\n",
       "            <style>\n",
       "                .geemap-dark {\n",
       "                    --jp-widgets-color: white;\n",
       "                    --jp-widgets-label-color: white;\n",
       "                    --jp-ui-font-color1: white;\n",
       "                    --jp-layout-color2: #454545;\n",
       "                    background-color: #383838;\n",
       "                }\n",
       "                    \n",
       "                .geemap-dark .jupyter-button {\n",
       "                    --jp-layout-color3: #383838;\n",
       "                }\n",
       "                \n",
       "                .geemap-colab {\n",
       "                    background-color: var(--colab-primary-surface-color, white);\n",
       "                }\n",
       "                    \n",
       "                .geemap-colab .jupyter-button {\n",
       "                    --jp-layout-color3: var(--colab-primary-surface-color, white);\n",
       "                }\n",
       "            </style>\n",
       "            "
      ],
      "text/plain": [
       "<IPython.core.display.HTML object>"
      ]
     },
     "metadata": {},
     "output_type": "display_data"
    },
    {
     "ename": "SyntaxError",
     "evalue": "invalid syntax (3482741875.py, line 5)",
     "output_type": "error",
     "traceback": [
      "\u001b[0;36m  Cell \u001b[0;32mIn[30], line 5\u001b[0;36m\u001b[0m\n\u001b[0;31m    preevent = hf.Sentinel1( ?, ?, ?)\u001b[0m\n\u001b[0m                             ^\u001b[0m\n\u001b[0;31mSyntaxError\u001b[0m\u001b[0;31m:\u001b[0m invalid syntax\n"
     ]
    }
   ],
   "source": [
    "pre_start_date = \"2022-11-15\"\n",
    "pre_end_date = \"2022-12-15\"\n",
    "\n",
    "#Acquire Sentinel 1 data from hydrafloods for the \"somalia_flood\" region of interest, for the time period [pre_start_date] to [post_start_date]\n",
    "preevent = hf.Sentinel1( ?, ?, ?)\n",
    "\n",
    "#Apply slope correction on the Sentinel 1 image collection\n",
    "preevent_flat = preevent.apply_func(hf.slope_correction, elevation = ?, buffer = 100)\n",
    "\n",
    "#Apply speckle filter on the slope-corrected image \n",
    "preevent_filtered = ?.apply(hf.gamma_map)\n",
    "\n",
    "Take a reducer to get an image\n",
    "pre_img = ?.collection.median()\n",
    "\n",
    "# Thresholding: Apply Edge-Otsu method\n",
    "pre_water = hf.edge_otsu(\n",
    "    ?,\n",
    "    \"VV\",\n",
    "    initial_threshold = -11,\n",
    "    thresh_no_data = -20,\n",
    "    edge_buffer = 300,\n",
    "    region = ?,\n",
    "    scale = 1e3)\n",
    "\n",
    "#The difference between two images can be calculated using the discrete difference method in hydrafloods\n",
    "flood_diff = hf.floods.discrete_difference(sar_water, pre_water) "
   ]
  },
  {
   "cell_type": "code",
   "execution_count": null,
   "id": "0dcb6f3a-43e2-4e49-8f73-9e2f48d00513",
   "metadata": {},
   "outputs": [],
   "source": [
    "water_params = {\n",
    "    \"min\": 0,\n",
    "    \"max\": 1,\n",
    "    \"palette\": ['D3D3D3', '000080']\n",
    "}\n",
    "\n",
    "pre_water_params = {\n",
    "    \"min\": 0,\n",
    "    \"max\": 1,\n",
    "    \"palette\": \"lightblue\"\n",
    "}\n",
    "\n",
    "diff_water_params = {\n",
    "    \"min\": 0,\n",
    "    \"max\": 1,\n",
    "    \"palette\": \"red\"\n",
    "}\n",
    "\n",
    "#https://geemap.org/notebooks/04_split_panel_map/\n",
    "left_layer = geemap.ee_tile_layer(sar_water.selfMask(), water_params, 'SAR-detected Water')\n",
    "right_layer = geemap.ee_tile_layer(pre_water.selfMask(), water_params, 'Pre-flood Water')\n",
    "\n",
    "Map = geemap.Map(center = (5, 46.5), zoom = 9)\n",
    "Map.split_map(left_layer, right_layer)\n",
    "Map.addLayer(somalia_flood, {}, 'Region of Interest')\n",
    "Map"
   ]
  },
  {
   "cell_type": "markdown",
   "id": "c19d46bf-3c15-4467-980e-ce4b0311c240",
   "metadata": {},
   "source": [
    "## 07. Answer provided below!"
   ]
  },
  {
   "cell_type": "code",
   "execution_count": 34,
   "id": "bad6db3a-9886-4c96-a5c8-ddd7021838fb",
   "metadata": {},
   "outputs": [
    {
     "data": {
      "text/html": [
       "\n",
       "            <style>\n",
       "                .geemap-dark {\n",
       "                    --jp-widgets-color: white;\n",
       "                    --jp-widgets-label-color: white;\n",
       "                    --jp-ui-font-color1: white;\n",
       "                    --jp-layout-color2: #454545;\n",
       "                    background-color: #383838;\n",
       "                }\n",
       "                    \n",
       "                .geemap-dark .jupyter-button {\n",
       "                    --jp-layout-color3: #383838;\n",
       "                }\n",
       "                \n",
       "                .geemap-colab {\n",
       "                    background-color: var(--colab-primary-surface-color, white);\n",
       "                }\n",
       "                    \n",
       "                .geemap-colab .jupyter-button {\n",
       "                    --jp-layout-color3: var(--colab-primary-surface-color, white);\n",
       "                }\n",
       "            </style>\n",
       "            "
      ],
      "text/plain": [
       "<IPython.core.display.HTML object>"
      ]
     },
     "metadata": {},
     "output_type": "display_data"
    }
   ],
   "source": [
    "pre_start_date = \"2021-11-15\"\n",
    "pre_end_date = \"2021-12-15\"\n",
    "preevent = hf.Sentinel1(somalia_flood, pre_start_date, pre_end_date)\n",
    "preevent_flat = preevent.apply_func(hf.slope_correction, elevation = elv, buffer = 100)\n",
    "preevent_filtered = preevent_flat.apply(hf.gamma_map)\n",
    "pre_img = preevent_filtered.collection.mean()\n",
    "# pre_water = hf.edge_otsu(pre_img, bands = \"VV\", initial_threshold = 16, edge_buffer = 300, region = tonlesap, scale = 300)\n",
    "\n",
    "pre_water = hf.edge_otsu(\n",
    "    pre_img,\n",
    "    \"VV\",\n",
    "    initial_threshold = -18,\n",
    "    thresh_no_data = -25,\n",
    "    edge_buffer = 300,\n",
    "    region = somalia_flood,\n",
    "    scale = 1e3)\n",
    "\n",
    "flood_diff = hf.floods.discrete_difference(sar_water, pre_water) "
   ]
  },
  {
   "cell_type": "code",
   "execution_count": 35,
   "id": "53260bbe-d435-4e40-a46e-d63c454b8e13",
   "metadata": {},
   "outputs": [
    {
     "data": {
      "text/html": [
       "\n",
       "            <style>\n",
       "                .geemap-dark {\n",
       "                    --jp-widgets-color: white;\n",
       "                    --jp-widgets-label-color: white;\n",
       "                    --jp-ui-font-color1: white;\n",
       "                    --jp-layout-color2: #454545;\n",
       "                    background-color: #383838;\n",
       "                }\n",
       "                    \n",
       "                .geemap-dark .jupyter-button {\n",
       "                    --jp-layout-color3: #383838;\n",
       "                }\n",
       "                \n",
       "                .geemap-colab {\n",
       "                    background-color: var(--colab-primary-surface-color, white);\n",
       "                }\n",
       "                    \n",
       "                .geemap-colab .jupyter-button {\n",
       "                    --jp-layout-color3: var(--colab-primary-surface-color, white);\n",
       "                }\n",
       "            </style>\n",
       "            "
      ],
      "text/plain": [
       "<IPython.core.display.HTML object>"
      ]
     },
     "metadata": {},
     "output_type": "display_data"
    }
   ],
   "source": [
    "water_params = {\n",
    "    \"min\": 0,\n",
    "    \"max\": 1,\n",
    "    \"palette\": ['D3D3D3', '000080']\n",
    "}\n",
    "\n",
    "pre_water_params = {\n",
    "    \"min\": 0,\n",
    "    \"max\": 1,\n",
    "    \"palette\": \"lightblue\"\n",
    "}\n",
    "\n",
    "diff_water_params = {\n",
    "    \"min\": 0,\n",
    "    \"max\": 1,\n",
    "    \"palette\": \"red\"\n",
    "}\n",
    "\n",
    "# Map.addLayer(somalia_flood, {}, 'Region of Interest')\n",
    "# # Map.addLayer(opt_water, water_params, 'Optical-detected Water')\n",
    "# Map.addLayer(sar_water.selfMask(), water_params, 'SAR-detected flood Water')\n",
    "# # Map.addLayer(pre_water.selfMask(), pre_water_params, 'Pre Flood Water')\n",
    "# Map.addLayer(flood_diff.selfMask(), diff_water_params, 'Excess Water Extent (Compared to Drought in 2022)')\n",
    "# Map.addLayerControl()\n",
    "# Map"
   ]
  },
  {
   "cell_type": "code",
   "execution_count": 36,
   "id": "f1164ba7-3c04-4972-98ce-87114309638a",
   "metadata": {},
   "outputs": [
    {
     "data": {
      "text/html": [
       "\n",
       "            <style>\n",
       "                .geemap-dark {\n",
       "                    --jp-widgets-color: white;\n",
       "                    --jp-widgets-label-color: white;\n",
       "                    --jp-ui-font-color1: white;\n",
       "                    --jp-layout-color2: #454545;\n",
       "                    background-color: #383838;\n",
       "                }\n",
       "                    \n",
       "                .geemap-dark .jupyter-button {\n",
       "                    --jp-layout-color3: #383838;\n",
       "                }\n",
       "                \n",
       "                .geemap-colab {\n",
       "                    background-color: var(--colab-primary-surface-color, white);\n",
       "                }\n",
       "                    \n",
       "                .geemap-colab .jupyter-button {\n",
       "                    --jp-layout-color3: var(--colab-primary-surface-color, white);\n",
       "                }\n",
       "            </style>\n",
       "            "
      ],
      "text/plain": [
       "<IPython.core.display.HTML object>"
      ]
     },
     "metadata": {},
     "output_type": "display_data"
    },
    {
     "data": {
      "application/vnd.jupyter.widget-view+json": {
       "model_id": "5354d1b6e7a24e97afd74dedc211c5a8",
       "version_major": 2,
       "version_minor": 0
      },
      "text/plain": [
       "Map(center=[5, 46.5], controls=(ZoomControl(options=['position', 'zoom_in_text', 'zoom_in_title', 'zoom_out_te…"
      ]
     },
     "execution_count": 36,
     "metadata": {},
     "output_type": "execute_result"
    }
   ],
   "source": [
    "#https://geemap.org/notebooks/04_split_panel_map/\n",
    "left_layer = geemap.ee_tile_layer(sar_water.selfMask(), water_params, 'SAR-detected Water')\n",
    "right_layer = geemap.ee_tile_layer(pre_water.selfMask(), water_params, 'Pre-flood Water')\n",
    "\n",
    "Map = geemap.Map(center = (5, 46.5), zoom = 9)\n",
    "Map.split_map(left_layer, right_layer)\n",
    "Map.addLayer(somalia_flood, {}, 'Region of Interest')\n",
    "Map"
   ]
  },
  {
   "cell_type": "markdown",
   "id": "b8a80329-f206-4b16-95ef-d80863ca896f",
   "metadata": {},
   "source": [
    "<div class=\"alert alert-block alert-info\">\n",
    "    <b>Discussion:</b> ❓ With SAR imagery, the drought year of 2022 shows more water, why? Maybe the reflective properties of land there is similar to water?\n",
    "</div>\n"
   ]
  },
  {
   "cell_type": "code",
   "execution_count": null,
   "id": "059d5e06-fa2c-4d43-80e6-4a0bbdcbc25c",
   "metadata": {},
   "outputs": [],
   "source": []
  }
 ],
 "metadata": {
  "kernelspec": {
   "display_name": "itc-hydrafloods",
   "language": "python",
   "name": "itc-hydrafloods"
  },
  "language_info": {
   "codemirror_mode": {
    "name": "ipython",
    "version": 3
   },
   "file_extension": ".py",
   "mimetype": "text/x-python",
   "name": "python",
   "nbconvert_exporter": "python",
   "pygments_lexer": "ipython3",
   "version": "3.11.7"
  }
 },
 "nbformat": 4,
 "nbformat_minor": 5
}
