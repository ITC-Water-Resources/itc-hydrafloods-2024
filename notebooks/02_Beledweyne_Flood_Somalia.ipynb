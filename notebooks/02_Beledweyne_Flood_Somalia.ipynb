{
 "cells": [
  {
   "cell_type": "markdown",
   "id": "ba95d7af-9d45-457c-ac13-cb5d57d42f2a",
   "metadata": {},
   "source": [
    "# Observing surface water extent from space <img src=\"../fig/itc-logo@2x.png\" alt=\"drawing\" align = \"right\" width=\"50\"/>\n",
    "\n",
    "\n",
    "<b>Author</b>: [Amin Shakya](https://github.com/mn5hk), January, 2024\n",
    "\n",
    "<b>Github link to the exercise files (base repository)</b>: \n",
    "\n",
    "<b>Credits</b>:\n",
    "\n",
    "- [Mickey Maganini](https://github.com/mickymags) - slight updates to the course notebooks originally developed by Micky for the ITC course in 2023    \n",
    "- [Kel Markert](https://github.com/KMarkert) - [troubleshoot](https://github.com/Servir-Mekong/hydra-floods/issues/48) for Landsat 8 data update on Google Earth Engine Data Catalog\n",
    "\n",
    "---"
   ]
  },
  {
   "cell_type": "markdown",
   "id": "d3aabdd1-3737-4725-bcfc-7b3e4572d036",
   "metadata": {},
   "source": [
    "# Goal of the Study"
   ]
  },
  {
   "cell_type": "markdown",
   "id": "a0b01062-c8b7-4d1b-9b12-f5e1962e370f",
   "metadata": {},
   "source": [
    "<div class=\"alert alert-block alert-info\">\n",
    "In this notebook, we apply the same ideas (as the Tonle Sap, Indonesia case) to a different case study for the flooding in Somalia in 2023. The students are strongly encouraged to play around with the module and to implement it in their case studies of choice.\n",
    "</div>"
   ]
  },
  {
   "cell_type": "markdown",
   "id": "b1f49061-30f1-44fb-9a34-2fb1785d3b6e",
   "metadata": {},
   "source": [
    "<div class=\"alert alert-block alert-info\">\n",
    "\n",
    "\n",
    "In this notebook, we will look at how surface water extent in the Tonle Sap lake in Indonesia can be detected from space. More specifically, we will look at:\n",
    "\n",
    "- What satellite earth observation data may help in detecting surface water extent from space?\n",
    "- Pros and Cons: Optical imagery vs SAR imagery\n",
    "- What algorithms can we use for surface water extent detection? \n",
    "- What applications may EO-based surface water extent be useful towards?\n",
    "- Any caveats to be aware of?\n",
    "- Further readings \n",
    "\n",
    "</div>"
   ]
  },
  {
   "cell_type": "markdown",
   "id": "5fcc8610-c974-46c9-833b-8f3abb86932e",
   "metadata": {},
   "source": [
    "<div class=\"alert alert-block alert-warning\">\n",
    "    <b>Caution:</b> ⚠️ This notebook has been developed strictly for the purpose of this course, and the results have not been validated on the ground.\n",
    "</div>\n"
   ]
  },
  {
   "cell_type": "markdown",
   "id": "2a75aad4-b484-4106-98e4-97bafc5ee5ef",
   "metadata": {},
   "source": [
    "<a id=\"01\"></a>\n",
    "___\n",
    "## 01. Import Python libraries and initialize Google Earth Engine"
   ]
  },
  {
   "cell_type": "markdown",
   "id": "c793b76a-70e1-44eb-84a2-d16cca2b457e",
   "metadata": {},
   "source": [
    "### 01a. Import python libraries"
   ]
  },
  {
   "cell_type": "code",
   "execution_count": null,
   "id": "9f07e7f6-962a-4936-88e8-f7f477e99304",
   "metadata": {},
   "outputs": [],
   "source": [
    "# !pip install ee\n",
    "# !pip install hydrafloods\n",
    "# !pip install geemap"
   ]
  },
  {
   "cell_type": "code",
   "execution_count": null,
   "id": "6933b515-7d7b-48c5-be01-6499184bc588",
   "metadata": {},
   "outputs": [],
   "source": [
    "# !pip install --force-reinstall numpy"
   ]
  },
  {
   "cell_type": "code",
   "execution_count": null,
   "id": "28fc333d-7a3c-4040-a151-f6943c7055cd",
   "metadata": {},
   "outputs": [],
   "source": [
    "# !pip install --upgrade --force-reinstall numba numpy"
   ]
  },
  {
   "cell_type": "code",
   "execution_count": 2,
   "id": "3e1879ba-ea13-4a72-b121-7ef20fb54e0f",
   "metadata": {},
   "outputs": [
    {
     "name": "stdout",
     "output_type": "stream",
     "text": [
      "Defaulting to user installation because normal site-packages is not writeable\n",
      "\u001b[33mWARNING: Ignoring invalid distribution -umpy (/home/jovyan/.local/lib/python3.8/site-packages)\u001b[0m\u001b[33m\n",
      "\u001b[0m\u001b[33mWARNING: Ignoring invalid distribution -umpy (/home/jovyan/.local/lib/python3.8/site-packages)\u001b[0m\u001b[33m\n",
      "\u001b[0mCollecting geemap\n",
      "  Using cached geemap-0.30.4-py2.py3-none-any.whl (2.2 MB)\n",
      "Collecting bqplot (from geemap)\n",
      "  Using cached bqplot-0.12.42-py2.py3-none-any.whl (1.2 MB)\n",
      "Collecting colour (from geemap)\n",
      "  Using cached colour-0.1.5-py2.py3-none-any.whl (23 kB)\n",
      "Collecting earthengine-api>=0.1.347 (from geemap)\n",
      "  Using cached earthengine_api-0.1.388-py3-none-any.whl (314 kB)\n",
      "Collecting eerepr>=0.0.4 (from geemap)\n",
      "  Using cached eerepr-0.0.4-py3-none-any.whl (9.7 kB)\n",
      "Collecting folium>=0.13.0 (from geemap)\n",
      "  Using cached folium-0.15.1-py2.py3-none-any.whl (97 kB)\n",
      "Collecting geocoder (from geemap)\n",
      "  Using cached geocoder-1.38.1-py2.py3-none-any.whl (98 kB)\n",
      "Collecting ipyevents (from geemap)\n",
      "  Using cached ipyevents-2.0.2-py3-none-any.whl (101 kB)\n",
      "Collecting ipyfilechooser>=0.6.0 (from geemap)\n",
      "  Using cached ipyfilechooser-0.6.0-py3-none-any.whl (11 kB)\n",
      "Collecting ipyleaflet>=0.17.0 (from geemap)\n",
      "  Using cached ipyleaflet-0.18.2-py3-none-any.whl (3.7 MB)\n",
      "Collecting ipytree (from geemap)\n",
      "  Using cached ipytree-0.2.2-py2.py3-none-any.whl (1.3 MB)\n",
      "Collecting matplotlib (from geemap)\n",
      "  Using cached matplotlib-3.7.4-cp38-cp38-manylinux_2_12_x86_64.manylinux2010_x86_64.whl (9.2 MB)\n",
      "Collecting numpy (from geemap)\n",
      "  Using cached numpy-1.24.4-cp38-cp38-manylinux_2_17_x86_64.manylinux2014_x86_64.whl (17.3 MB)\n",
      "Collecting pandas (from geemap)\n",
      "  Using cached pandas-2.0.3-cp38-cp38-manylinux_2_17_x86_64.manylinux2014_x86_64.whl (12.4 MB)\n",
      "Collecting plotly (from geemap)\n",
      "  Using cached plotly-5.18.0-py3-none-any.whl (15.6 MB)\n",
      "Collecting pyperclip (from geemap)\n",
      "  Using cached pyperclip-1.8.2-py3-none-any.whl\n",
      "Collecting pyshp>=2.1.3 (from geemap)\n",
      "  Using cached pyshp-2.3.1-py2.py3-none-any.whl (46 kB)\n",
      "Collecting python-box (from geemap)\n",
      "  Using cached python_box-7.1.1-cp38-cp38-manylinux_2_17_x86_64.manylinux2014_x86_64.whl (3.9 MB)\n",
      "Collecting scooby (from geemap)\n",
      "  Using cached scooby-0.9.2-py3-none-any.whl (18 kB)\n",
      "Collecting google-cloud-storage (from earthengine-api>=0.1.347->geemap)\n",
      "  Using cached google_cloud_storage-2.14.0-py2.py3-none-any.whl (121 kB)\n",
      "Collecting google-api-python-client>=1.12.1 (from earthengine-api>=0.1.347->geemap)\n",
      "  Using cached google_api_python_client-2.116.0-py2.py3-none-any.whl (12.0 MB)\n",
      "Collecting google-auth>=1.4.1 (from earthengine-api>=0.1.347->geemap)\n",
      "  Using cached google_auth-2.27.0-py2.py3-none-any.whl (186 kB)\n",
      "Collecting google-auth-httplib2>=0.0.3 (from earthengine-api>=0.1.347->geemap)\n",
      "  Using cached google_auth_httplib2-0.2.0-py2.py3-none-any.whl (9.3 kB)\n",
      "Collecting httplib2<1dev,>=0.9.2 (from earthengine-api>=0.1.347->geemap)\n",
      "  Using cached httplib2-0.22.0-py3-none-any.whl (96 kB)\n",
      "Collecting requests (from earthengine-api>=0.1.347->geemap)\n",
      "  Using cached requests-2.31.0-py3-none-any.whl (62 kB)\n",
      "Collecting branca>=0.6.0 (from folium>=0.13.0->geemap)\n",
      "  Using cached branca-0.7.1-py3-none-any.whl (25 kB)\n",
      "Collecting jinja2>=2.9 (from folium>=0.13.0->geemap)\n",
      "  Using cached Jinja2-3.1.3-py3-none-any.whl (133 kB)\n",
      "Collecting xyzservices (from folium>=0.13.0->geemap)\n",
      "  Using cached xyzservices-2023.10.1-py3-none-any.whl (56 kB)\n",
      "Collecting ipywidgets (from ipyfilechooser>=0.6.0->geemap)\n",
      "  Using cached ipywidgets-8.1.1-py3-none-any.whl (139 kB)\n",
      "Collecting traittypes<3,>=0.2.1 (from ipyleaflet>=0.17.0->geemap)\n",
      "  Using cached traittypes-0.2.1-py2.py3-none-any.whl (8.6 kB)\n",
      "Collecting traitlets>=4.3.0 (from bqplot->geemap)\n",
      "  Using cached traitlets-5.14.1-py3-none-any.whl (85 kB)\n",
      "Collecting python-dateutil>=2.8.2 (from pandas->geemap)\n",
      "  Using cached python_dateutil-2.8.2-py2.py3-none-any.whl (247 kB)\n",
      "Collecting pytz>=2020.1 (from pandas->geemap)\n",
      "  Using cached pytz-2024.1-py2.py3-none-any.whl (505 kB)\n",
      "Collecting tzdata>=2022.1 (from pandas->geemap)\n",
      "  Using cached tzdata-2023.4-py2.py3-none-any.whl (346 kB)\n",
      "Collecting click (from geocoder->geemap)\n",
      "  Using cached click-8.1.7-py3-none-any.whl (97 kB)\n",
      "Collecting future (from geocoder->geemap)\n",
      "  Using cached future-0.18.3-py3-none-any.whl\n",
      "Collecting ratelim (from geocoder->geemap)\n",
      "  Using cached ratelim-0.1.6-py2.py3-none-any.whl (4.0 kB)\n",
      "Collecting six (from geocoder->geemap)\n",
      "  Using cached six-1.16.0-py2.py3-none-any.whl (11 kB)\n",
      "Collecting contourpy>=1.0.1 (from matplotlib->geemap)\n",
      "  Using cached contourpy-1.1.1-cp38-cp38-manylinux_2_17_x86_64.manylinux2014_x86_64.whl (301 kB)\n",
      "Collecting cycler>=0.10 (from matplotlib->geemap)\n",
      "  Using cached cycler-0.12.1-py3-none-any.whl (8.3 kB)\n",
      "Collecting fonttools>=4.22.0 (from matplotlib->geemap)\n",
      "  Using cached fonttools-4.47.2-cp38-cp38-manylinux_2_17_x86_64.manylinux2014_x86_64.whl (4.7 MB)\n",
      "Collecting kiwisolver>=1.0.1 (from matplotlib->geemap)\n",
      "  Using cached kiwisolver-1.4.5-cp38-cp38-manylinux_2_5_x86_64.manylinux1_x86_64.whl (1.2 MB)\n",
      "Collecting packaging>=20.0 (from matplotlib->geemap)\n",
      "  Using cached packaging-23.2-py3-none-any.whl (53 kB)\n",
      "Collecting pillow>=6.2.0 (from matplotlib->geemap)\n",
      "  Using cached pillow-10.2.0-cp38-cp38-manylinux_2_28_x86_64.whl (4.5 MB)\n",
      "Collecting pyparsing>=2.3.1 (from matplotlib->geemap)\n",
      "  Using cached pyparsing-3.1.1-py3-none-any.whl (103 kB)\n",
      "Collecting importlib-resources>=3.2.0 (from matplotlib->geemap)\n",
      "  Using cached importlib_resources-6.1.1-py3-none-any.whl (33 kB)\n",
      "Collecting tenacity>=6.2.0 (from plotly->geemap)\n",
      "  Using cached tenacity-8.2.3-py3-none-any.whl (24 kB)\n",
      "Collecting google-api-core!=2.0.*,!=2.1.*,!=2.2.*,!=2.3.0,<3.0.0.dev0,>=1.31.5 (from google-api-python-client>=1.12.1->earthengine-api>=0.1.347->geemap)\n",
      "  Using cached google_api_core-2.16.2-py3-none-any.whl (135 kB)\n",
      "Collecting uritemplate<5,>=3.0.1 (from google-api-python-client>=1.12.1->earthengine-api>=0.1.347->geemap)\n",
      "  Using cached uritemplate-4.1.1-py2.py3-none-any.whl (10 kB)\n",
      "Collecting cachetools<6.0,>=2.0.0 (from google-auth>=1.4.1->earthengine-api>=0.1.347->geemap)\n",
      "  Using cached cachetools-5.3.2-py3-none-any.whl (9.3 kB)\n",
      "Collecting pyasn1-modules>=0.2.1 (from google-auth>=1.4.1->earthengine-api>=0.1.347->geemap)\n",
      "  Using cached pyasn1_modules-0.3.0-py2.py3-none-any.whl (181 kB)\n",
      "Collecting rsa<5,>=3.1.4 (from google-auth>=1.4.1->earthengine-api>=0.1.347->geemap)\n",
      "  Using cached rsa-4.9-py3-none-any.whl (34 kB)\n",
      "Collecting zipp>=3.1.0 (from importlib-resources>=3.2.0->matplotlib->geemap)\n",
      "  Using cached zipp-3.17.0-py3-none-any.whl (7.4 kB)\n",
      "Collecting comm>=0.1.3 (from ipywidgets->ipyfilechooser>=0.6.0->geemap)\n",
      "  Using cached comm-0.2.1-py3-none-any.whl (7.2 kB)\n",
      "Collecting ipython>=6.1.0 (from ipywidgets->ipyfilechooser>=0.6.0->geemap)\n",
      "  Using cached ipython-8.12.3-py3-none-any.whl (798 kB)\n",
      "Collecting widgetsnbextension~=4.0.9 (from ipywidgets->ipyfilechooser>=0.6.0->geemap)\n",
      "  Using cached widgetsnbextension-4.0.9-py3-none-any.whl (2.3 MB)\n",
      "Collecting jupyterlab-widgets~=3.0.9 (from ipywidgets->ipyfilechooser>=0.6.0->geemap)\n",
      "  Using cached jupyterlab_widgets-3.0.9-py3-none-any.whl (214 kB)\n",
      "Collecting MarkupSafe>=2.0 (from jinja2>=2.9->folium>=0.13.0->geemap)\n",
      "  Using cached MarkupSafe-2.1.5-cp38-cp38-manylinux_2_17_x86_64.manylinux2014_x86_64.whl (26 kB)\n",
      "Collecting google-cloud-core<3.0dev,>=2.3.0 (from google-cloud-storage->earthengine-api>=0.1.347->geemap)\n",
      "  Using cached google_cloud_core-2.4.1-py2.py3-none-any.whl (29 kB)\n",
      "Collecting google-resumable-media>=2.6.0 (from google-cloud-storage->earthengine-api>=0.1.347->geemap)\n",
      "  Using cached google_resumable_media-2.7.0-py2.py3-none-any.whl (80 kB)\n",
      "Collecting google-crc32c<2.0dev,>=1.0 (from google-cloud-storage->earthengine-api>=0.1.347->geemap)\n",
      "  Using cached google_crc32c-1.5.0-cp38-cp38-manylinux_2_17_x86_64.manylinux2014_x86_64.whl (32 kB)\n",
      "Collecting charset-normalizer<4,>=2 (from requests->earthengine-api>=0.1.347->geemap)\n",
      "  Using cached charset_normalizer-3.3.2-cp38-cp38-manylinux_2_17_x86_64.manylinux2014_x86_64.whl (141 kB)\n",
      "Collecting idna<4,>=2.5 (from requests->earthengine-api>=0.1.347->geemap)\n",
      "  Using cached idna-3.6-py3-none-any.whl (61 kB)\n",
      "Collecting urllib3<3,>=1.21.1 (from requests->earthengine-api>=0.1.347->geemap)\n",
      "  Using cached urllib3-2.2.0-py3-none-any.whl (120 kB)\n",
      "Collecting certifi>=2017.4.17 (from requests->earthengine-api>=0.1.347->geemap)\n",
      "  Using cached certifi-2024.2.2-py3-none-any.whl (163 kB)\n",
      "Collecting decorator (from ratelim->geocoder->geemap)\n",
      "  Using cached decorator-5.1.1-py3-none-any.whl (9.1 kB)\n",
      "Collecting googleapis-common-protos<2.0.dev0,>=1.56.2 (from google-api-core!=2.0.*,!=2.1.*,!=2.2.*,!=2.3.0,<3.0.0.dev0,>=1.31.5->google-api-python-client>=1.12.1->earthengine-api>=0.1.347->geemap)\n",
      "  Using cached googleapis_common_protos-1.62.0-py2.py3-none-any.whl (228 kB)\n",
      "Collecting protobuf!=3.20.0,!=3.20.1,!=4.21.0,!=4.21.1,!=4.21.2,!=4.21.3,!=4.21.4,!=4.21.5,<5.0.0.dev0,>=3.19.5 (from google-api-core!=2.0.*,!=2.1.*,!=2.2.*,!=2.3.0,<3.0.0.dev0,>=1.31.5->google-api-python-client>=1.12.1->earthengine-api>=0.1.347->geemap)\n",
      "  Using cached protobuf-4.25.2-cp37-abi3-manylinux2014_x86_64.whl (294 kB)\n",
      "Collecting backcall (from ipython>=6.1.0->ipywidgets->ipyfilechooser>=0.6.0->geemap)\n",
      "  Using cached backcall-0.2.0-py2.py3-none-any.whl (11 kB)\n",
      "Collecting jedi>=0.16 (from ipython>=6.1.0->ipywidgets->ipyfilechooser>=0.6.0->geemap)\n",
      "  Using cached jedi-0.19.1-py2.py3-none-any.whl (1.6 MB)\n",
      "Collecting matplotlib-inline (from ipython>=6.1.0->ipywidgets->ipyfilechooser>=0.6.0->geemap)\n",
      "  Using cached matplotlib_inline-0.1.6-py3-none-any.whl (9.4 kB)\n",
      "Collecting pickleshare (from ipython>=6.1.0->ipywidgets->ipyfilechooser>=0.6.0->geemap)\n",
      "  Using cached pickleshare-0.7.5-py2.py3-none-any.whl (6.9 kB)\n",
      "Collecting prompt-toolkit!=3.0.37,<3.1.0,>=3.0.30 (from ipython>=6.1.0->ipywidgets->ipyfilechooser>=0.6.0->geemap)\n",
      "  Using cached prompt_toolkit-3.0.43-py3-none-any.whl (386 kB)\n",
      "Collecting pygments>=2.4.0 (from ipython>=6.1.0->ipywidgets->ipyfilechooser>=0.6.0->geemap)\n",
      "  Using cached pygments-2.17.2-py3-none-any.whl (1.2 MB)\n",
      "Collecting stack-data (from ipython>=6.1.0->ipywidgets->ipyfilechooser>=0.6.0->geemap)\n",
      "  Using cached stack_data-0.6.3-py3-none-any.whl (24 kB)\n",
      "Collecting typing-extensions (from ipython>=6.1.0->ipywidgets->ipyfilechooser>=0.6.0->geemap)\n",
      "  Using cached typing_extensions-4.9.0-py3-none-any.whl (32 kB)\n",
      "Collecting pexpect>4.3 (from ipython>=6.1.0->ipywidgets->ipyfilechooser>=0.6.0->geemap)\n",
      "  Using cached pexpect-4.9.0-py2.py3-none-any.whl (63 kB)\n",
      "Collecting pyasn1<0.6.0,>=0.4.6 (from pyasn1-modules>=0.2.1->google-auth>=1.4.1->earthengine-api>=0.1.347->geemap)\n",
      "  Using cached pyasn1-0.5.1-py2.py3-none-any.whl (84 kB)\n",
      "Collecting parso<0.9.0,>=0.8.3 (from jedi>=0.16->ipython>=6.1.0->ipywidgets->ipyfilechooser>=0.6.0->geemap)\n",
      "  Using cached parso-0.8.3-py2.py3-none-any.whl (100 kB)\n",
      "Collecting ptyprocess>=0.5 (from pexpect>4.3->ipython>=6.1.0->ipywidgets->ipyfilechooser>=0.6.0->geemap)\n",
      "  Using cached ptyprocess-0.7.0-py2.py3-none-any.whl (13 kB)\n",
      "Collecting wcwidth (from prompt-toolkit!=3.0.37,<3.1.0,>=3.0.30->ipython>=6.1.0->ipywidgets->ipyfilechooser>=0.6.0->geemap)\n",
      "  Using cached wcwidth-0.2.13-py2.py3-none-any.whl (34 kB)\n",
      "Collecting executing>=1.2.0 (from stack-data->ipython>=6.1.0->ipywidgets->ipyfilechooser>=0.6.0->geemap)\n",
      "  Using cached executing-2.0.1-py2.py3-none-any.whl (24 kB)\n",
      "Collecting asttokens>=2.1.0 (from stack-data->ipython>=6.1.0->ipywidgets->ipyfilechooser>=0.6.0->geemap)\n",
      "  Using cached asttokens-2.4.1-py2.py3-none-any.whl (27 kB)\n",
      "Collecting pure-eval (from stack-data->ipython>=6.1.0->ipywidgets->ipyfilechooser>=0.6.0->geemap)\n",
      "  Using cached pure_eval-0.2.2-py3-none-any.whl (11 kB)\n",
      "\u001b[33mWARNING: Ignoring invalid distribution -umpy (/home/jovyan/.local/lib/python3.8/site-packages)\u001b[0m\u001b[33m\n",
      "\u001b[0mInstalling collected packages: wcwidth, pytz, pyperclip, pure-eval, ptyprocess, pickleshare, colour, backcall, zipp, xyzservices, widgetsnbextension, urllib3, uritemplate, tzdata, typing-extensions, traitlets, tenacity, six, scooby, python-box, pyshp, pyparsing, pygments, pyasn1, protobuf, prompt-toolkit, pillow, pexpect, parso, packaging, numpy, MarkupSafe, kiwisolver, jupyterlab-widgets, idna, google-crc32c, future, fonttools, executing, decorator, cycler, click, charset-normalizer, certifi, cachetools, traittypes, rsa, requests, ratelim, python-dateutil, pyasn1-modules, plotly, matplotlib-inline, jinja2, jedi, importlib-resources, httplib2, googleapis-common-protos, google-resumable-media, contourpy, comm, asttokens, stack-data, pandas, matplotlib, google-auth, geocoder, branca, ipython, google-auth-httplib2, google-api-core, folium, ipywidgets, google-cloud-core, google-api-python-client, ipytree, ipyleaflet, ipyfilechooser, ipyevents, google-cloud-storage, bqplot, earthengine-api, eerepr, geemap\n",
      "  Attempting uninstall: wcwidth\n",
      "    Found existing installation: wcwidth 0.2.13\n",
      "    Uninstalling wcwidth-0.2.13:\n",
      "      Successfully uninstalled wcwidth-0.2.13\n",
      "  Attempting uninstall: pytz\n",
      "    Found existing installation: pytz 2024.1\n",
      "    Uninstalling pytz-2024.1:\n",
      "      Successfully uninstalled pytz-2024.1\n",
      "  Attempting uninstall: pyperclip\n",
      "    Found existing installation: pyperclip 1.8.2\n",
      "    Uninstalling pyperclip-1.8.2:\n",
      "      Successfully uninstalled pyperclip-1.8.2\n",
      "  Attempting uninstall: pure-eval\n",
      "    Found existing installation: pure-eval 0.2.2\n",
      "    Uninstalling pure-eval-0.2.2:\n",
      "      Successfully uninstalled pure-eval-0.2.2\n",
      "  Attempting uninstall: ptyprocess\n",
      "    Found existing installation: ptyprocess 0.7.0\n",
      "    Uninstalling ptyprocess-0.7.0:\n",
      "      Successfully uninstalled ptyprocess-0.7.0\n",
      "  Attempting uninstall: pickleshare\n",
      "    Found existing installation: pickleshare 0.7.5\n",
      "    Uninstalling pickleshare-0.7.5:\n",
      "      Successfully uninstalled pickleshare-0.7.5\n",
      "  Attempting uninstall: colour\n",
      "    Found existing installation: colour 0.1.5\n",
      "    Uninstalling colour-0.1.5:\n",
      "      Successfully uninstalled colour-0.1.5\n",
      "  Attempting uninstall: backcall\n",
      "    Found existing installation: backcall 0.2.0\n",
      "    Uninstalling backcall-0.2.0:\n",
      "      Successfully uninstalled backcall-0.2.0\n",
      "  Attempting uninstall: zipp\n",
      "    Found existing installation: zipp 3.17.0\n",
      "    Uninstalling zipp-3.17.0:\n",
      "      Successfully uninstalled zipp-3.17.0\n",
      "  Attempting uninstall: xyzservices\n",
      "    Found existing installation: xyzservices 2023.10.1\n",
      "    Uninstalling xyzservices-2023.10.1:\n",
      "      Successfully uninstalled xyzservices-2023.10.1\n",
      "  Attempting uninstall: widgetsnbextension\n",
      "    Found existing installation: widgetsnbextension 4.0.9\n",
      "    Uninstalling widgetsnbextension-4.0.9:\n",
      "      Successfully uninstalled widgetsnbextension-4.0.9\n",
      "  Attempting uninstall: urllib3\n",
      "    Found existing installation: urllib3 2.2.0\n",
      "    Uninstalling urllib3-2.2.0:\n",
      "      Successfully uninstalled urllib3-2.2.0\n",
      "  Attempting uninstall: uritemplate\n",
      "    Found existing installation: uritemplate 4.1.1\n",
      "    Uninstalling uritemplate-4.1.1:\n",
      "      Successfully uninstalled uritemplate-4.1.1\n",
      "  Attempting uninstall: six\n",
      "    Found existing installation: six 1.15.0\n",
      "    Uninstalling six-1.15.0:\n",
      "      Successfully uninstalled six-1.15.0\n",
      "  Attempting uninstall: pyshp\n",
      "    Found existing installation: pyshp 2.1.3\n",
      "    Uninstalling pyshp-2.1.3:\n",
      "      Successfully uninstalled pyshp-2.1.3\n",
      "  Attempting uninstall: packaging\n",
      "    Found existing installation: packaging 23.1\n",
      "    Uninstalling packaging-23.1:\n",
      "      Successfully uninstalled packaging-23.1\n",
      "  Attempting uninstall: numpy\n",
      "    Found existing installation: numpy 1.24.4\n",
      "    Uninstalling numpy-1.24.4:\n",
      "      Successfully uninstalled numpy-1.24.4\n",
      "\u001b[31mERROR: Could not install packages due to an OSError: [Errno 16] Device or resource busy: '.nfs00000000009ff6c300000a2c'\n",
      "\u001b[0m\u001b[31m\n",
      "\u001b[0m\u001b[33mWARNING: Ignoring invalid distribution -umpy (/home/jovyan/.local/lib/python3.8/site-packages)\u001b[0m\u001b[33m\n",
      "\u001b[0m\n",
      "\u001b[1m[\u001b[0m\u001b[34;49mnotice\u001b[0m\u001b[1;39;49m]\u001b[0m\u001b[39;49m A new release of pip is available: \u001b[0m\u001b[31;49m23.1.2\u001b[0m\u001b[39;49m -> \u001b[0m\u001b[32;49m23.3.2\u001b[0m\n",
      "\u001b[1m[\u001b[0m\u001b[34;49mnotice\u001b[0m\u001b[1;39;49m]\u001b[0m\u001b[39;49m To update, run: \u001b[0m\u001b[32;49mpython -m pip install --upgrade pip\u001b[0m\n"
     ]
    }
   ],
   "source": [
    "# !pip install --upgrade --force-reinstall geemap"
   ]
  },
  {
   "cell_type": "markdown",
   "id": "67bcd8c3-f93b-48ae-89b1-2bd961573c67",
   "metadata": {},
   "source": [
    "### 01b. Import Python libraries"
   ]
  },
  {
   "cell_type": "code",
   "execution_count": 4,
   "id": "e46372fc-348b-4819-8806-d1fff3a4d62d",
   "metadata": {},
   "outputs": [
    {
     "ename": "SystemError",
     "evalue": "initialization of _internal failed without raising an exception",
     "output_type": "error",
     "traceback": [
      "\u001b[0;31m---------------------------------------------------------------------------\u001b[0m",
      "\u001b[0;31mSystemError\u001b[0m                               Traceback (most recent call last)",
      "Cell \u001b[0;32mIn [4], line 1\u001b[0m\n\u001b[0;32m----> 1\u001b[0m \u001b[38;5;28;01mimport\u001b[39;00m \u001b[38;5;21;01mgeemap\u001b[39;00m\n\u001b[1;32m      2\u001b[0m \u001b[38;5;28;01mimport\u001b[39;00m \u001b[38;5;21;01mgeemap\u001b[39;00m\u001b[38;5;21;01m.\u001b[39;00m\u001b[38;5;21;01mcolormaps\u001b[39;00m \u001b[38;5;28;01mas\u001b[39;00m \u001b[38;5;21;01mcm\u001b[39;00m\n\u001b[1;32m      3\u001b[0m \u001b[38;5;28;01mimport\u001b[39;00m \u001b[38;5;21;01mee\u001b[39;00m\n",
      "File \u001b[0;32m/usr/local/lib/python3.8/dist-packages/geemap/__init__.py:31\u001b[0m\n\u001b[1;32m     29\u001b[0m     \u001b[38;5;28;01mfrom\u001b[39;00m \u001b[38;5;21;01m.\u001b[39;00m\u001b[38;5;21;01mfoliumap\u001b[39;00m \u001b[38;5;28;01mimport\u001b[39;00m \u001b[38;5;241m*\u001b[39m\n\u001b[1;32m     30\u001b[0m \u001b[38;5;28;01melse\u001b[39;00m:\n\u001b[0;32m---> 31\u001b[0m     \u001b[38;5;28;01mfrom\u001b[39;00m \u001b[38;5;21;01m.\u001b[39;00m\u001b[38;5;21;01mgeemap\u001b[39;00m \u001b[38;5;28;01mimport\u001b[39;00m \u001b[38;5;241m*\u001b[39m\n\u001b[1;32m     33\u001b[0m     \u001b[38;5;66;03m# if in_colab_shell():\u001b[39;00m\n\u001b[1;32m     34\u001b[0m     \u001b[38;5;66;03m#     from google.colab import output\u001b[39;00m\n\u001b[1;32m     35\u001b[0m \n\u001b[1;32m     36\u001b[0m     \u001b[38;5;66;03m#     output.enable_custom_widget_manager()\u001b[39;00m\n\u001b[1;32m     38\u001b[0m \u001b[38;5;28;01mfrom\u001b[39;00m \u001b[38;5;21;01m.\u001b[39;00m\u001b[38;5;21;01mreport\u001b[39;00m \u001b[38;5;28;01mimport\u001b[39;00m Report\n",
      "File \u001b[0;32m/usr/local/lib/python3.8/dist-packages/geemap/geemap.py:26\u001b[0m\n\u001b[1;32m     24\u001b[0m \u001b[38;5;28;01mfrom\u001b[39;00m \u001b[38;5;21;01m.\u001b[39;00m\u001b[38;5;21;01mtimelapse\u001b[39;00m \u001b[38;5;28;01mimport\u001b[39;00m \u001b[38;5;241m*\u001b[39m\n\u001b[1;32m     25\u001b[0m \u001b[38;5;28;01mfrom\u001b[39;00m \u001b[38;5;21;01m.\u001b[39;00m\u001b[38;5;21;01mosm\u001b[39;00m \u001b[38;5;28;01mimport\u001b[39;00m \u001b[38;5;241m*\u001b[39m\n\u001b[0;32m---> 26\u001b[0m \u001b[38;5;28;01mfrom\u001b[39;00m \u001b[38;5;21;01m.\u001b[39;00m\u001b[38;5;21;01mplot\u001b[39;00m \u001b[38;5;28;01mimport\u001b[39;00m \u001b[38;5;241m*\u001b[39m\n\u001b[1;32m     28\u001b[0m \u001b[38;5;28;01mfrom\u001b[39;00m \u001b[38;5;21;01m.\u001b[39;00m \u001b[38;5;28;01mimport\u001b[39;00m examples\n\u001b[1;32m     31\u001b[0m basemaps \u001b[38;5;241m=\u001b[39m Box(xyz_to_leaflet(), frozen_box\u001b[38;5;241m=\u001b[39m\u001b[38;5;28;01mTrue\u001b[39;00m)\n",
      "File \u001b[0;32m/usr/local/lib/python3.8/dist-packages/geemap/plot.py:2\u001b[0m\n\u001b[1;32m      1\u001b[0m \u001b[38;5;28;01mimport\u001b[39;00m \u001b[38;5;21;01mpandas\u001b[39;00m \u001b[38;5;28;01mas\u001b[39;00m \u001b[38;5;21;01mpd\u001b[39;00m\n\u001b[0;32m----> 2\u001b[0m \u001b[38;5;28;01mimport\u001b[39;00m \u001b[38;5;21;01mplotly\u001b[39;00m\u001b[38;5;21;01m.\u001b[39;00m\u001b[38;5;21;01mexpress\u001b[39;00m \u001b[38;5;28;01mas\u001b[39;00m \u001b[38;5;21;01mpx\u001b[39;00m\n\u001b[1;32m      4\u001b[0m \u001b[38;5;28;01mfrom\u001b[39;00m \u001b[38;5;21;01m.\u001b[39;00m\u001b[38;5;21;01mcommon\u001b[39;00m \u001b[38;5;28;01mimport\u001b[39;00m \u001b[38;5;241m*\u001b[39m\n\u001b[1;32m      7\u001b[0m \u001b[38;5;28;01mdef\u001b[39;00m \u001b[38;5;21mbar_chart\u001b[39m(\n\u001b[1;32m      8\u001b[0m     data\u001b[38;5;241m=\u001b[39m\u001b[38;5;28;01mNone\u001b[39;00m,\n\u001b[1;32m      9\u001b[0m     x\u001b[38;5;241m=\u001b[39m\u001b[38;5;28;01mNone\u001b[39;00m,\n\u001b[0;32m   (...)\u001b[0m\n\u001b[1;32m     22\u001b[0m     \u001b[38;5;241m*\u001b[39m\u001b[38;5;241m*\u001b[39mkwargs,\n\u001b[1;32m     23\u001b[0m ):\n",
      "File \u001b[0;32m/usr/local/lib/python3.8/dist-packages/plotly/express/__init__.py:15\u001b[0m\n\u001b[1;32m      9\u001b[0m \u001b[38;5;28;01mif\u001b[39;00m pd \u001b[38;5;129;01mis\u001b[39;00m \u001b[38;5;28;01mNone\u001b[39;00m:\n\u001b[1;32m     10\u001b[0m     \u001b[38;5;28;01mraise\u001b[39;00m \u001b[38;5;167;01mImportError\u001b[39;00m(\n\u001b[1;32m     11\u001b[0m         \u001b[38;5;124;03m\"\"\"\\\u001b[39;00m\n\u001b[1;32m     12\u001b[0m \u001b[38;5;124;03mPlotly express requires pandas to be installed.\"\"\"\u001b[39;00m\n\u001b[1;32m     13\u001b[0m     )\n\u001b[0;32m---> 15\u001b[0m \u001b[38;5;28;01mfrom\u001b[39;00m \u001b[38;5;21;01m.\u001b[39;00m\u001b[38;5;21;01m_imshow\u001b[39;00m \u001b[38;5;28;01mimport\u001b[39;00m imshow\n\u001b[1;32m     16\u001b[0m \u001b[38;5;28;01mfrom\u001b[39;00m \u001b[38;5;21;01m.\u001b[39;00m\u001b[38;5;21;01m_chart_types\u001b[39;00m \u001b[38;5;28;01mimport\u001b[39;00m (  \u001b[38;5;66;03m# noqa: F401\u001b[39;00m\n\u001b[1;32m     17\u001b[0m     scatter,\n\u001b[1;32m     18\u001b[0m     scatter_3d,\n\u001b[0;32m   (...)\u001b[0m\n\u001b[1;32m     51\u001b[0m     density_mapbox,\n\u001b[1;32m     52\u001b[0m )\n\u001b[1;32m     55\u001b[0m \u001b[38;5;28;01mfrom\u001b[39;00m \u001b[38;5;21;01m.\u001b[39;00m\u001b[38;5;21;01m_core\u001b[39;00m \u001b[38;5;28;01mimport\u001b[39;00m (  \u001b[38;5;66;03m# noqa: F401\u001b[39;00m\n\u001b[1;32m     56\u001b[0m     set_mapbox_access_token,\n\u001b[1;32m     57\u001b[0m     defaults,\n\u001b[1;32m     58\u001b[0m     get_trendline_results,\n\u001b[1;32m     59\u001b[0m     NO_COLOR,\n\u001b[1;32m     60\u001b[0m )\n",
      "File \u001b[0;32m/usr/local/lib/python3.8/dist-packages/plotly/express/_imshow.py:11\u001b[0m\n\u001b[1;32m      8\u001b[0m \u001b[38;5;28;01mfrom\u001b[39;00m \u001b[38;5;21;01mplotly\u001b[39;00m\u001b[38;5;21;01m.\u001b[39;00m\u001b[38;5;21;01mutils\u001b[39;00m \u001b[38;5;28;01mimport\u001b[39;00m image_array_to_data_uri\n\u001b[1;32m     10\u001b[0m \u001b[38;5;28;01mtry\u001b[39;00m:\n\u001b[0;32m---> 11\u001b[0m     \u001b[38;5;28;01mimport\u001b[39;00m \u001b[38;5;21;01mxarray\u001b[39;00m\n\u001b[1;32m     13\u001b[0m     xarray_imported \u001b[38;5;241m=\u001b[39m \u001b[38;5;28;01mTrue\u001b[39;00m\n\u001b[1;32m     14\u001b[0m \u001b[38;5;28;01mexcept\u001b[39;00m \u001b[38;5;167;01mImportError\u001b[39;00m:\n",
      "File \u001b[0;32m/usr/local/lib/python3.8/dist-packages/xarray/__init__.py:1\u001b[0m\n\u001b[0;32m----> 1\u001b[0m \u001b[38;5;28;01mfrom\u001b[39;00m \u001b[38;5;21;01m.\u001b[39;00m \u001b[38;5;28;01mimport\u001b[39;00m testing, tutorial\n\u001b[1;32m      2\u001b[0m \u001b[38;5;28;01mfrom\u001b[39;00m \u001b[38;5;21;01m.\u001b[39;00m\u001b[38;5;21;01mbackends\u001b[39;00m\u001b[38;5;21;01m.\u001b[39;00m\u001b[38;5;21;01mapi\u001b[39;00m \u001b[38;5;28;01mimport\u001b[39;00m (\n\u001b[1;32m      3\u001b[0m     load_dataarray,\n\u001b[1;32m      4\u001b[0m     load_dataset,\n\u001b[0;32m   (...)\u001b[0m\n\u001b[1;32m      8\u001b[0m     save_mfdataset,\n\u001b[1;32m      9\u001b[0m )\n\u001b[1;32m     10\u001b[0m \u001b[38;5;28;01mfrom\u001b[39;00m \u001b[38;5;21;01m.\u001b[39;00m\u001b[38;5;21;01mbackends\u001b[39;00m\u001b[38;5;21;01m.\u001b[39;00m\u001b[38;5;21;01mrasterio_\u001b[39;00m \u001b[38;5;28;01mimport\u001b[39;00m open_rasterio\n",
      "File \u001b[0;32m/usr/local/lib/python3.8/dist-packages/xarray/testing.py:9\u001b[0m\n\u001b[1;32m      6\u001b[0m \u001b[38;5;28;01mimport\u001b[39;00m \u001b[38;5;21;01mnumpy\u001b[39;00m \u001b[38;5;28;01mas\u001b[39;00m \u001b[38;5;21;01mnp\u001b[39;00m\n\u001b[1;32m      7\u001b[0m \u001b[38;5;28;01mimport\u001b[39;00m \u001b[38;5;21;01mpandas\u001b[39;00m \u001b[38;5;28;01mas\u001b[39;00m \u001b[38;5;21;01mpd\u001b[39;00m\n\u001b[0;32m----> 9\u001b[0m \u001b[38;5;28;01mfrom\u001b[39;00m \u001b[38;5;21;01mxarray\u001b[39;00m\u001b[38;5;21;01m.\u001b[39;00m\u001b[38;5;21;01mcore\u001b[39;00m \u001b[38;5;28;01mimport\u001b[39;00m duck_array_ops, formatting, utils\n\u001b[1;32m     10\u001b[0m \u001b[38;5;28;01mfrom\u001b[39;00m \u001b[38;5;21;01mxarray\u001b[39;00m\u001b[38;5;21;01m.\u001b[39;00m\u001b[38;5;21;01mcore\u001b[39;00m\u001b[38;5;21;01m.\u001b[39;00m\u001b[38;5;21;01mdataarray\u001b[39;00m \u001b[38;5;28;01mimport\u001b[39;00m DataArray\n\u001b[1;32m     11\u001b[0m \u001b[38;5;28;01mfrom\u001b[39;00m \u001b[38;5;21;01mxarray\u001b[39;00m\u001b[38;5;21;01m.\u001b[39;00m\u001b[38;5;21;01mcore\u001b[39;00m\u001b[38;5;21;01m.\u001b[39;00m\u001b[38;5;21;01mdataset\u001b[39;00m \u001b[38;5;28;01mimport\u001b[39;00m Dataset\n",
      "File \u001b[0;32m/usr/local/lib/python3.8/dist-packages/xarray/core/duck_array_ops.py:28\u001b[0m\n\u001b[1;32m     26\u001b[0m \u001b[38;5;28;01mfrom\u001b[39;00m \u001b[38;5;21;01m.\u001b[39;00m \u001b[38;5;28;01mimport\u001b[39;00m dask_array_ops, dtypes, npcompat, nputils\n\u001b[1;32m     27\u001b[0m \u001b[38;5;28;01mfrom\u001b[39;00m \u001b[38;5;21;01m.\u001b[39;00m\u001b[38;5;21;01mnputils\u001b[39;00m \u001b[38;5;28;01mimport\u001b[39;00m nanfirst, nanlast\n\u001b[0;32m---> 28\u001b[0m \u001b[38;5;28;01mfrom\u001b[39;00m \u001b[38;5;21;01m.\u001b[39;00m\u001b[38;5;21;01mpycompat\u001b[39;00m \u001b[38;5;28;01mimport\u001b[39;00m cupy_array_type, is_duck_dask_array\n\u001b[1;32m     29\u001b[0m \u001b[38;5;28;01mfrom\u001b[39;00m \u001b[38;5;21;01m.\u001b[39;00m\u001b[38;5;21;01mutils\u001b[39;00m \u001b[38;5;28;01mimport\u001b[39;00m is_duck_array\n\u001b[1;32m     31\u001b[0m \u001b[38;5;28;01mtry\u001b[39;00m:\n",
      "File \u001b[0;32m/usr/local/lib/python3.8/dist-packages/xarray/core/pycompat.py:48\u001b[0m\n\u001b[1;32m     44\u001b[0m         \u001b[38;5;28mself\u001b[39m\u001b[38;5;241m.\u001b[39mtype \u001b[38;5;241m=\u001b[39m duck_array_type\n\u001b[1;32m     45\u001b[0m         \u001b[38;5;28mself\u001b[39m\u001b[38;5;241m.\u001b[39mavailable \u001b[38;5;241m=\u001b[39m duck_array_module \u001b[38;5;129;01mis\u001b[39;00m \u001b[38;5;129;01mnot\u001b[39;00m \u001b[38;5;28;01mNone\u001b[39;00m\n\u001b[0;32m---> 48\u001b[0m dsk \u001b[38;5;241m=\u001b[39m \u001b[43mDuckArrayModule\u001b[49m\u001b[43m(\u001b[49m\u001b[38;5;124;43m\"\u001b[39;49m\u001b[38;5;124;43mdask\u001b[39;49m\u001b[38;5;124;43m\"\u001b[39;49m\u001b[43m)\u001b[49m\n\u001b[1;32m     49\u001b[0m dask_version \u001b[38;5;241m=\u001b[39m dsk\u001b[38;5;241m.\u001b[39mversion\n\u001b[1;32m     50\u001b[0m dask_array_type \u001b[38;5;241m=\u001b[39m dsk\u001b[38;5;241m.\u001b[39mtype\n",
      "File \u001b[0;32m/usr/local/lib/python3.8/dist-packages/xarray/core/pycompat.py:27\u001b[0m, in \u001b[0;36mDuckArrayModule.__init__\u001b[0;34m(self, mod)\u001b[0m\n\u001b[1;32m     24\u001b[0m duck_array_version \u001b[38;5;241m=\u001b[39m Version(duck_array_module\u001b[38;5;241m.\u001b[39m__version__)\n\u001b[1;32m     26\u001b[0m \u001b[38;5;28;01mif\u001b[39;00m mod \u001b[38;5;241m==\u001b[39m \u001b[38;5;124m\"\u001b[39m\u001b[38;5;124mdask\u001b[39m\u001b[38;5;124m\"\u001b[39m:\n\u001b[0;32m---> 27\u001b[0m     duck_array_type \u001b[38;5;241m=\u001b[39m (\u001b[43mimport_module\u001b[49m\u001b[43m(\u001b[49m\u001b[38;5;124;43m\"\u001b[39;49m\u001b[38;5;124;43mdask.array\u001b[39;49m\u001b[38;5;124;43m\"\u001b[39;49m\u001b[43m)\u001b[49m\u001b[38;5;241m.\u001b[39mArray,)\n\u001b[1;32m     28\u001b[0m \u001b[38;5;28;01melif\u001b[39;00m mod \u001b[38;5;241m==\u001b[39m \u001b[38;5;124m\"\u001b[39m\u001b[38;5;124mpint\u001b[39m\u001b[38;5;124m\"\u001b[39m:\n\u001b[1;32m     29\u001b[0m     duck_array_type \u001b[38;5;241m=\u001b[39m (duck_array_module\u001b[38;5;241m.\u001b[39mQuantity,)\n",
      "File \u001b[0;32m/usr/lib/python3.8/importlib/__init__.py:127\u001b[0m, in \u001b[0;36mimport_module\u001b[0;34m(name, package)\u001b[0m\n\u001b[1;32m    125\u001b[0m             \u001b[38;5;28;01mbreak\u001b[39;00m\n\u001b[1;32m    126\u001b[0m         level \u001b[38;5;241m+\u001b[39m\u001b[38;5;241m=\u001b[39m \u001b[38;5;241m1\u001b[39m\n\u001b[0;32m--> 127\u001b[0m \u001b[38;5;28;01mreturn\u001b[39;00m \u001b[43m_bootstrap\u001b[49m\u001b[38;5;241;43m.\u001b[39;49m\u001b[43m_gcd_import\u001b[49m\u001b[43m(\u001b[49m\u001b[43mname\u001b[49m\u001b[43m[\u001b[49m\u001b[43mlevel\u001b[49m\u001b[43m:\u001b[49m\u001b[43m]\u001b[49m\u001b[43m,\u001b[49m\u001b[43m \u001b[49m\u001b[43mpackage\u001b[49m\u001b[43m,\u001b[49m\u001b[43m \u001b[49m\u001b[43mlevel\u001b[49m\u001b[43m)\u001b[49m\n",
      "File \u001b[0;32m/usr/local/lib/python3.8/dist-packages/dask/array/__init__.py:2\u001b[0m\n\u001b[1;32m      1\u001b[0m \u001b[38;5;28;01mtry\u001b[39;00m:\n\u001b[0;32m----> 2\u001b[0m     \u001b[38;5;28;01mfrom\u001b[39;00m \u001b[38;5;21;01mdask\u001b[39;00m\u001b[38;5;21;01m.\u001b[39;00m\u001b[38;5;21;01marray\u001b[39;00m \u001b[38;5;28;01mimport\u001b[39;00m backends, fft, lib, linalg, ma, overlap, random\n\u001b[1;32m      3\u001b[0m     \u001b[38;5;28;01mfrom\u001b[39;00m \u001b[38;5;21;01mdask\u001b[39;00m\u001b[38;5;21;01m.\u001b[39;00m\u001b[38;5;21;01marray\u001b[39;00m\u001b[38;5;21;01m.\u001b[39;00m\u001b[38;5;21;01mblockwise\u001b[39;00m \u001b[38;5;28;01mimport\u001b[39;00m atop, blockwise\n\u001b[1;32m      4\u001b[0m     \u001b[38;5;28;01mfrom\u001b[39;00m \u001b[38;5;21;01mdask\u001b[39;00m\u001b[38;5;21;01m.\u001b[39;00m\u001b[38;5;21;01marray\u001b[39;00m\u001b[38;5;21;01m.\u001b[39;00m\u001b[38;5;21;01mchunk_types\u001b[39;00m \u001b[38;5;28;01mimport\u001b[39;00m register_chunk_type\n",
      "File \u001b[0;32m/usr/local/lib/python3.8/dist-packages/dask/array/backends.py:18\u001b[0m\n\u001b[1;32m     16\u001b[0m \u001b[38;5;28;01mfrom\u001b[39;00m \u001b[38;5;21;01mdask\u001b[39;00m\u001b[38;5;21;01m.\u001b[39;00m\u001b[38;5;21;01marray\u001b[39;00m\u001b[38;5;21;01m.\u001b[39;00m\u001b[38;5;21;01mnumpy_compat\u001b[39;00m \u001b[38;5;28;01mimport\u001b[39;00m divide \u001b[38;5;28;01mas\u001b[39;00m np_divide\n\u001b[1;32m     17\u001b[0m \u001b[38;5;28;01mfrom\u001b[39;00m \u001b[38;5;21;01mdask\u001b[39;00m\u001b[38;5;21;01m.\u001b[39;00m\u001b[38;5;21;01marray\u001b[39;00m\u001b[38;5;21;01m.\u001b[39;00m\u001b[38;5;21;01mnumpy_compat\u001b[39;00m \u001b[38;5;28;01mimport\u001b[39;00m ma_divide\n\u001b[0;32m---> 18\u001b[0m \u001b[38;5;28;01mfrom\u001b[39;00m \u001b[38;5;21;01mdask\u001b[39;00m\u001b[38;5;21;01m.\u001b[39;00m\u001b[38;5;21;01marray\u001b[39;00m\u001b[38;5;21;01m.\u001b[39;00m\u001b[38;5;21;01mpercentile\u001b[39;00m \u001b[38;5;28;01mimport\u001b[39;00m _percentile\n\u001b[1;32m     20\u001b[0m concatenate_lookup\u001b[38;5;241m.\u001b[39mregister((\u001b[38;5;28mobject\u001b[39m, np\u001b[38;5;241m.\u001b[39mndarray), np\u001b[38;5;241m.\u001b[39mconcatenate)\n\u001b[1;32m     21\u001b[0m tensordot_lookup\u001b[38;5;241m.\u001b[39mregister((\u001b[38;5;28mobject\u001b[39m, np\u001b[38;5;241m.\u001b[39mndarray), np\u001b[38;5;241m.\u001b[39mtensordot)\n",
      "File \u001b[0;32m/usr/local/lib/python3.8/dist-packages/dask/array/percentile.py:9\u001b[0m\n\u001b[1;32m      6\u001b[0m \u001b[38;5;28;01mimport\u001b[39;00m \u001b[38;5;21;01mnumpy\u001b[39;00m \u001b[38;5;28;01mas\u001b[39;00m \u001b[38;5;21;01mnp\u001b[39;00m\n\u001b[1;32m      7\u001b[0m \u001b[38;5;28;01mfrom\u001b[39;00m \u001b[38;5;21;01mtlz\u001b[39;00m \u001b[38;5;28;01mimport\u001b[39;00m merge\n\u001b[0;32m----> 9\u001b[0m \u001b[38;5;28;01mfrom\u001b[39;00m \u001b[38;5;21;01mdask\u001b[39;00m\u001b[38;5;21;01m.\u001b[39;00m\u001b[38;5;21;01marray\u001b[39;00m\u001b[38;5;21;01m.\u001b[39;00m\u001b[38;5;21;01mcore\u001b[39;00m \u001b[38;5;28;01mimport\u001b[39;00m Array\n\u001b[1;32m     10\u001b[0m \u001b[38;5;28;01mfrom\u001b[39;00m \u001b[38;5;21;01mdask\u001b[39;00m\u001b[38;5;21;01m.\u001b[39;00m\u001b[38;5;21;01marray\u001b[39;00m\u001b[38;5;21;01m.\u001b[39;00m\u001b[38;5;21;01mnumpy_compat\u001b[39;00m \u001b[38;5;28;01mimport\u001b[39;00m _numpy_122\n\u001b[1;32m     11\u001b[0m \u001b[38;5;28;01mfrom\u001b[39;00m \u001b[38;5;21;01mdask\u001b[39;00m\u001b[38;5;21;01m.\u001b[39;00m\u001b[38;5;21;01marray\u001b[39;00m\u001b[38;5;21;01m.\u001b[39;00m\u001b[38;5;21;01mnumpy_compat\u001b[39;00m \u001b[38;5;28;01mimport\u001b[39;00m percentile \u001b[38;5;28;01mas\u001b[39;00m np_percentile\n",
      "File \u001b[0;32m/usr/local/lib/python3.8/dist-packages/dask/array/core.py:37\u001b[0m\n\u001b[1;32m     35\u001b[0m \u001b[38;5;28;01mfrom\u001b[39;00m \u001b[38;5;21;01mdask\u001b[39;00m\u001b[38;5;21;01m.\u001b[39;00m\u001b[38;5;21;01marray\u001b[39;00m \u001b[38;5;28;01mimport\u001b[39;00m chunk\n\u001b[1;32m     36\u001b[0m \u001b[38;5;28;01mfrom\u001b[39;00m \u001b[38;5;21;01mdask\u001b[39;00m\u001b[38;5;21;01m.\u001b[39;00m\u001b[38;5;21;01marray\u001b[39;00m\u001b[38;5;21;01m.\u001b[39;00m\u001b[38;5;21;01mchunk\u001b[39;00m \u001b[38;5;28;01mimport\u001b[39;00m getitem\n\u001b[0;32m---> 37\u001b[0m \u001b[38;5;28;01mfrom\u001b[39;00m \u001b[38;5;21;01mdask\u001b[39;00m\u001b[38;5;21;01m.\u001b[39;00m\u001b[38;5;21;01marray\u001b[39;00m\u001b[38;5;21;01m.\u001b[39;00m\u001b[38;5;21;01mchunk_types\u001b[39;00m \u001b[38;5;28;01mimport\u001b[39;00m is_valid_array_chunk, is_valid_chunk_type\n\u001b[1;32m     39\u001b[0m \u001b[38;5;66;03m# Keep einsum_lookup and tensordot_lookup here for backwards compatibility\u001b[39;00m\n\u001b[1;32m     40\u001b[0m \u001b[38;5;28;01mfrom\u001b[39;00m \u001b[38;5;21;01mdask\u001b[39;00m\u001b[38;5;21;01m.\u001b[39;00m\u001b[38;5;21;01marray\u001b[39;00m\u001b[38;5;21;01m.\u001b[39;00m\u001b[38;5;21;01mdispatch\u001b[39;00m \u001b[38;5;28;01mimport\u001b[39;00m (  \u001b[38;5;66;03m# noqa: F401\u001b[39;00m\n\u001b[1;32m     41\u001b[0m     concatenate_lookup,\n\u001b[1;32m     42\u001b[0m     einsum_lookup,\n\u001b[1;32m     43\u001b[0m     tensordot_lookup,\n\u001b[1;32m     44\u001b[0m )\n",
      "File \u001b[0;32m/usr/local/lib/python3.8/dist-packages/dask/array/chunk_types.py:122\u001b[0m\n\u001b[1;32m    119\u001b[0m     \u001b[38;5;28;01mpass\u001b[39;00m\n\u001b[1;32m    121\u001b[0m \u001b[38;5;28;01mtry\u001b[39;00m:\n\u001b[0;32m--> 122\u001b[0m     \u001b[38;5;28;01mimport\u001b[39;00m \u001b[38;5;21;01msparse\u001b[39;00m\n\u001b[1;32m    124\u001b[0m     register_chunk_type(sparse\u001b[38;5;241m.\u001b[39mSparseArray)\n\u001b[1;32m    125\u001b[0m \u001b[38;5;28;01mexcept\u001b[39;00m \u001b[38;5;167;01mImportError\u001b[39;00m:\n",
      "File \u001b[0;32m/usr/local/lib/python3.8/dist-packages/sparse/__init__.py:1\u001b[0m\n\u001b[0;32m----> 1\u001b[0m \u001b[38;5;28;01mfrom\u001b[39;00m \u001b[38;5;21;01m.\u001b[39;00m\u001b[38;5;21;01m_coo\u001b[39;00m \u001b[38;5;28;01mimport\u001b[39;00m COO, as_coo\n\u001b[1;32m      2\u001b[0m \u001b[38;5;28;01mfrom\u001b[39;00m \u001b[38;5;21;01m.\u001b[39;00m\u001b[38;5;21;01m_compressed\u001b[39;00m \u001b[38;5;28;01mimport\u001b[39;00m GCXS\n\u001b[1;32m      3\u001b[0m \u001b[38;5;28;01mfrom\u001b[39;00m \u001b[38;5;21;01m.\u001b[39;00m\u001b[38;5;21;01m_dok\u001b[39;00m \u001b[38;5;28;01mimport\u001b[39;00m DOK\n",
      "File \u001b[0;32m/usr/local/lib/python3.8/dist-packages/sparse/_coo/__init__.py:1\u001b[0m\n\u001b[0;32m----> 1\u001b[0m \u001b[38;5;28;01mfrom\u001b[39;00m \u001b[38;5;21;01m.\u001b[39;00m\u001b[38;5;21;01mcore\u001b[39;00m \u001b[38;5;28;01mimport\u001b[39;00m COO, as_coo\n\u001b[1;32m      2\u001b[0m \u001b[38;5;28;01mfrom\u001b[39;00m \u001b[38;5;21;01m.\u001b[39;00m\u001b[38;5;21;01mcommon\u001b[39;00m \u001b[38;5;28;01mimport\u001b[39;00m (\n\u001b[1;32m      3\u001b[0m     concatenate,\n\u001b[1;32m      4\u001b[0m     clip,\n\u001b[0;32m   (...)\u001b[0m\n\u001b[1;32m     22\u001b[0m     diagonalize,\n\u001b[1;32m     23\u001b[0m )\n\u001b[1;32m     25\u001b[0m __all__ \u001b[38;5;241m=\u001b[39m [\n\u001b[1;32m     26\u001b[0m     \u001b[38;5;124m\"\u001b[39m\u001b[38;5;124mCOO\u001b[39m\u001b[38;5;124m\"\u001b[39m,\n\u001b[1;32m     27\u001b[0m     \u001b[38;5;124m\"\u001b[39m\u001b[38;5;124mas_coo\u001b[39m\u001b[38;5;124m\"\u001b[39m,\n\u001b[0;32m   (...)\u001b[0m\n\u001b[1;32m     47\u001b[0m     \u001b[38;5;124m\"\u001b[39m\u001b[38;5;124mdiagonalize\u001b[39m\u001b[38;5;124m\"\u001b[39m,\n\u001b[1;32m     48\u001b[0m ]\n",
      "File \u001b[0;32m/usr/local/lib/python3.8/dist-packages/sparse/_coo/core.py:9\u001b[0m\n\u001b[1;32m      6\u001b[0m \u001b[38;5;28;01mimport\u001b[39;00m \u001b[38;5;21;01mwarnings\u001b[39;00m\n\u001b[1;32m      8\u001b[0m \u001b[38;5;28;01mimport\u001b[39;00m \u001b[38;5;21;01mnumpy\u001b[39;00m \u001b[38;5;28;01mas\u001b[39;00m \u001b[38;5;21;01mnp\u001b[39;00m\n\u001b[0;32m----> 9\u001b[0m \u001b[38;5;28;01mimport\u001b[39;00m \u001b[38;5;21;01mnumba\u001b[39;00m\n\u001b[1;32m     10\u001b[0m \u001b[38;5;28;01mimport\u001b[39;00m \u001b[38;5;21;01mscipy\u001b[39;00m\u001b[38;5;21;01m.\u001b[39;00m\u001b[38;5;21;01msparse\u001b[39;00m\n\u001b[1;32m     11\u001b[0m \u001b[38;5;28;01mfrom\u001b[39;00m \u001b[38;5;21;01mnumpy\u001b[39;00m\u001b[38;5;21;01m.\u001b[39;00m\u001b[38;5;21;01mlib\u001b[39;00m\u001b[38;5;21;01m.\u001b[39;00m\u001b[38;5;21;01mmixins\u001b[39;00m \u001b[38;5;28;01mimport\u001b[39;00m NDArrayOperatorsMixin\n",
      "File \u001b[0;32m/usr/local/lib/python3.8/dist-packages/numba/__init__.py:42\u001b[0m\n\u001b[1;32m     38\u001b[0m \u001b[38;5;28;01mfrom\u001b[39;00m \u001b[38;5;21;01mnumba\u001b[39;00m\u001b[38;5;21;01m.\u001b[39;00m\u001b[38;5;21;01mcore\u001b[39;00m\u001b[38;5;21;01m.\u001b[39;00m\u001b[38;5;21;01mdecorators\u001b[39;00m \u001b[38;5;28;01mimport\u001b[39;00m (cfunc, generated_jit, jit, njit, stencil,\n\u001b[1;32m     39\u001b[0m                                    jit_module)\n\u001b[1;32m     41\u001b[0m \u001b[38;5;66;03m# Re-export vectorize decorators and the thread layer querying function\u001b[39;00m\n\u001b[0;32m---> 42\u001b[0m \u001b[38;5;28;01mfrom\u001b[39;00m \u001b[38;5;21;01mnumba\u001b[39;00m\u001b[38;5;21;01m.\u001b[39;00m\u001b[38;5;21;01mnp\u001b[39;00m\u001b[38;5;21;01m.\u001b[39;00m\u001b[38;5;21;01mufunc\u001b[39;00m \u001b[38;5;28;01mimport\u001b[39;00m (vectorize, guvectorize, threading_layer,\n\u001b[1;32m     43\u001b[0m                             get_num_threads, set_num_threads,\n\u001b[1;32m     44\u001b[0m                             set_parallel_chunksize, get_parallel_chunksize,\n\u001b[1;32m     45\u001b[0m                             get_thread_id)\n\u001b[1;32m     47\u001b[0m \u001b[38;5;66;03m# Re-export Numpy helpers\u001b[39;00m\n\u001b[1;32m     48\u001b[0m \u001b[38;5;28;01mfrom\u001b[39;00m \u001b[38;5;21;01mnumba\u001b[39;00m\u001b[38;5;21;01m.\u001b[39;00m\u001b[38;5;21;01mnp\u001b[39;00m\u001b[38;5;21;01m.\u001b[39;00m\u001b[38;5;21;01mnumpy_support\u001b[39;00m \u001b[38;5;28;01mimport\u001b[39;00m carray, farray, from_dtype\n",
      "File \u001b[0;32m/usr/local/lib/python3.8/dist-packages/numba/np/ufunc/__init__.py:3\u001b[0m\n\u001b[1;32m      1\u001b[0m \u001b[38;5;66;03m# -*- coding: utf-8 -*-\u001b[39;00m\n\u001b[0;32m----> 3\u001b[0m \u001b[38;5;28;01mfrom\u001b[39;00m \u001b[38;5;21;01mnumba\u001b[39;00m\u001b[38;5;21;01m.\u001b[39;00m\u001b[38;5;21;01mnp\u001b[39;00m\u001b[38;5;21;01m.\u001b[39;00m\u001b[38;5;21;01mufunc\u001b[39;00m\u001b[38;5;21;01m.\u001b[39;00m\u001b[38;5;21;01mdecorators\u001b[39;00m \u001b[38;5;28;01mimport\u001b[39;00m Vectorize, GUVectorize, vectorize, guvectorize\n\u001b[1;32m      4\u001b[0m \u001b[38;5;28;01mfrom\u001b[39;00m \u001b[38;5;21;01mnumba\u001b[39;00m\u001b[38;5;21;01m.\u001b[39;00m\u001b[38;5;21;01mnp\u001b[39;00m\u001b[38;5;21;01m.\u001b[39;00m\u001b[38;5;21;01mufunc\u001b[39;00m\u001b[38;5;21;01m.\u001b[39;00m\u001b[38;5;21;01m_internal\u001b[39;00m \u001b[38;5;28;01mimport\u001b[39;00m PyUFunc_None, PyUFunc_Zero, PyUFunc_One\n\u001b[1;32m      5\u001b[0m \u001b[38;5;28;01mfrom\u001b[39;00m \u001b[38;5;21;01mnumba\u001b[39;00m\u001b[38;5;21;01m.\u001b[39;00m\u001b[38;5;21;01mnp\u001b[39;00m\u001b[38;5;21;01m.\u001b[39;00m\u001b[38;5;21;01mufunc\u001b[39;00m \u001b[38;5;28;01mimport\u001b[39;00m _internal, array_exprs\n",
      "File \u001b[0;32m/usr/local/lib/python3.8/dist-packages/numba/np/ufunc/decorators.py:3\u001b[0m\n\u001b[1;32m      1\u001b[0m \u001b[38;5;28;01mimport\u001b[39;00m \u001b[38;5;21;01minspect\u001b[39;00m\n\u001b[0;32m----> 3\u001b[0m \u001b[38;5;28;01mfrom\u001b[39;00m \u001b[38;5;21;01mnumba\u001b[39;00m\u001b[38;5;21;01m.\u001b[39;00m\u001b[38;5;21;01mnp\u001b[39;00m\u001b[38;5;21;01m.\u001b[39;00m\u001b[38;5;21;01mufunc\u001b[39;00m \u001b[38;5;28;01mimport\u001b[39;00m _internal\n\u001b[1;32m      4\u001b[0m \u001b[38;5;28;01mfrom\u001b[39;00m \u001b[38;5;21;01mnumba\u001b[39;00m\u001b[38;5;21;01m.\u001b[39;00m\u001b[38;5;21;01mnp\u001b[39;00m\u001b[38;5;21;01m.\u001b[39;00m\u001b[38;5;21;01mufunc\u001b[39;00m\u001b[38;5;21;01m.\u001b[39;00m\u001b[38;5;21;01mparallel\u001b[39;00m \u001b[38;5;28;01mimport\u001b[39;00m ParallelUFuncBuilder, ParallelGUFuncBuilder\n\u001b[1;32m      6\u001b[0m \u001b[38;5;28;01mfrom\u001b[39;00m \u001b[38;5;21;01mnumba\u001b[39;00m\u001b[38;5;21;01m.\u001b[39;00m\u001b[38;5;21;01mcore\u001b[39;00m\u001b[38;5;21;01m.\u001b[39;00m\u001b[38;5;21;01mregistry\u001b[39;00m \u001b[38;5;28;01mimport\u001b[39;00m DelayedRegistry\n",
      "\u001b[0;31mSystemError\u001b[0m: initialization of _internal failed without raising an exception"
     ]
    }
   ],
   "source": [
    "import geemap\n",
    "import geemap.colormaps as cm\n",
    "import ee\n",
    "import hydrafloods as hf\n",
    "from hydrafloods import corrections"
   ]
  },
  {
   "cell_type": "markdown",
   "id": "6c2e6dbb-43b4-4b8b-8e0f-c6ada8e484e9",
   "metadata": {},
   "source": [
    "### 01c. Initialize [geemap](https://github.com/gee-community/geemap), and check [hydrafloods](https://github.com/Servir-Mekong/hydra-floods) version"
   ]
  },
  {
   "cell_type": "code",
   "execution_count": null,
   "id": "354a29b2-3177-494d-877c-8be1ebe4b56c",
   "metadata": {},
   "outputs": [],
   "source": [
    "ee.Authenticate()\n",
    "ee.Initialize()"
   ]
  },
  {
   "cell_type": "code",
   "execution_count": null,
   "id": "489b5c44-09ee-4cee-beb6-4bfd6d228cf4",
   "metadata": {},
   "outputs": [],
   "source": [
    "_ = geemap.Map()"
   ]
  },
  {
   "cell_type": "code",
   "execution_count": null,
   "id": "8c31f48c-e2f3-4305-a06f-5c7a64a54904",
   "metadata": {},
   "outputs": [],
   "source": [
    "hf.__version__"
   ]
  },
  {
   "cell_type": "markdown",
   "id": "4a79a6a2-0693-4c62-a078-7296e60799d5",
   "metadata": {},
   "source": [
    "---\n",
    "## 02. Define region of interest, time period"
   ]
  },
  {
   "cell_type": "markdown",
   "id": "9f3717d5-9dc7-4238-9e51-2bcb8a510b45",
   "metadata": {},
   "source": [
    "### 02a. Define study region of interest"
   ]
  },
  {
   "cell_type": "code",
   "execution_count": null,
   "id": "e53cc90d-8a79-4730-ba5c-ad221650880b",
   "metadata": {},
   "outputs": [],
   "source": [
    "# Beledweyne town somalia\n",
    "somalia_flood = ee.Geometry.Polygon([\n",
    "        [44.85, 4],\n",
    "        [45.85, 4],\n",
    "        [45.85, 5],\n",
    "        [44.85, 5]\n",
    "    ])\n",
    "\n",
    "# kakhovka_dam = ee.Geometry.Polygon([\n",
    "#         [46, 33],\n",
    "#         [46, 34],\n",
    "#         [47, 34],\n",
    "#         [47, 33]\n",
    "#     ])"
   ]
  },
  {
   "cell_type": "markdown",
   "id": "9264f503-fa76-4992-83b1-2c6588359405",
   "metadata": {},
   "source": [
    "### 02b. Define start and end time"
   ]
  },
  {
   "cell_type": "code",
   "execution_count": null,
   "id": "bf73274e-4ef9-4b3f-8455-6d965ff361c5",
   "metadata": {},
   "outputs": [],
   "source": [
    "#Define time period of interest\n",
    "start_date = \"2023-11-15\"\n",
    "end_date = \"2023-12-15\""
   ]
  },
  {
   "cell_type": "markdown",
   "id": "9e7a54f6-094c-4750-9061-6ccc0494ad1c",
   "metadata": {},
   "source": [
    "---\n",
    "# Working with Earth Observation data"
   ]
  },
  {
   "cell_type": "markdown",
   "id": "4f6940ab-dd9a-4602-9acf-4953c270d6b7",
   "metadata": {},
   "source": [
    "## 03. Optical Imagery Workflow"
   ]
  },
  {
   "cell_type": "markdown",
   "id": "724c5400-b255-44c7-84ff-5817e9a66b88",
   "metadata": {},
   "source": [
    "### 03a. Acquire optical data using hf.dataset"
   ]
  },
  {
   "cell_type": "code",
   "execution_count": null,
   "id": "f465487e-bc23-4360-8cb8-8d24d204990f",
   "metadata": {},
   "outputs": [],
   "source": [
    "#Acquire optical data using hf.dataset\n",
    "optical = hf.Landsat8(somalia_flood, start_date, end_date)"
   ]
  },
  {
   "cell_type": "markdown",
   "id": "8ca054c4-ac7d-4c66-be54-4346d3900e1d",
   "metadata": {},
   "source": [
    "##### Apply a function to rename some parameters"
   ]
  },
  {
   "cell_type": "code",
   "execution_count": null,
   "id": "d936f79d-8465-45b6-9be1-3526652cbce0",
   "metadata": {},
   "outputs": [],
   "source": [
    "# function to rename the sun angle properties to what is expected by\n",
    "# the illumination_correction function\n",
    "def rename_sunangle_properties(image):\n",
    "    sz = ee.Number(90).subtract(image.get('SUN_ELEVATION'))\n",
    "    sa = image.get('SUN_AZIMUTH')\n",
    "    return image.set({\"SOLAR_ZENITH_ANGLE\": sz, \"SOLAR_AZIMUTH_ANGLE\": sa})\n",
    "\n",
    "# apply the function to rename properties\n",
    "optical = optical.apply_func(rename_sunangle_properties)"
   ]
  },
  {
   "cell_type": "markdown",
   "id": "db13cae4-5c46-4f5c-8872-fab91d4a1cb5",
   "metadata": {},
   "source": [
    "### 03b. Apply illumination correction"
   ]
  },
  {
   "cell_type": "markdown",
   "id": "f043a7ac-f143-46c3-8ec0-e55f756aa87e",
   "metadata": {},
   "source": [
    "##### Acquire DEM data"
   ]
  },
  {
   "cell_type": "markdown",
   "id": "55cfe748-8ec0-4e87-83c2-9de09e365ccd",
   "metadata": {},
   "source": [
    "Please note that users have a choice of DEM in this step."
   ]
  },
  {
   "cell_type": "code",
   "execution_count": null,
   "id": "363385ab-d17d-4719-a786-d4cfa90b6993",
   "metadata": {},
   "outputs": [],
   "source": [
    "# https://www.youtube.com/watch?v=uCzNxG4Q9aI\n",
    "elv = ee.Image(\"JAXA/ALOS/AW3D30/V2_2\").select(\"AVE_DSM\").unmask(0) #JAXA ALOS DEM\n",
    "# merit_dem = ee.Image(\"MERIT/Hydro/v1_0_1\").select(\"elv\").unmask(0) #Merit-Hydro DEM: A hydrologically-adjusted DEM from Yamakazi, D. et al. 2019"
   ]
  },
  {
   "cell_type": "code",
   "execution_count": null,
   "id": "dbed3d41-a04c-4353-81fd-998cf6f89c48",
   "metadata": {},
   "outputs": [],
   "source": [
    "opt_corrected = optical.apply_func(hf.corrections.illumination_correction, elevation = elv, scale=180) #Use JAXA DEM\n",
    "# opt_corrected = optical.apply_func(hf.corrections.illumination_correction, elevation = dem, scale=180) #Use MERIT-Hydro DEM"
   ]
  },
  {
   "cell_type": "markdown",
   "id": "1d81eed3-160a-4fba-bdbc-4639367276c5",
   "metadata": {},
   "source": [
    "### 03c. Apply a reducer"
   ]
  },
  {
   "cell_type": "code",
   "execution_count": null,
   "id": "4af687dc-4d7b-487c-aacf-c8d3813958e5",
   "metadata": {},
   "outputs": [],
   "source": [
    "opt_reduced = opt_corrected.collection.median()\n",
    "# opt_reduced = opt_corrected.collection.mean()\n",
    "# opt_reduced = opt_corrected.collection.mosaic()\n",
    "# opt_reduced = opt_corrected.collection.first()\n",
    "# opt_reduced = opt_corrected.collection.last()"
   ]
  },
  {
   "cell_type": "markdown",
   "id": "bbf90929-c387-4a67-9cea-d60b32cd2efd",
   "metadata": {},
   "source": [
    "### 03c* Visualize (intermediatory) results"
   ]
  },
  {
   "cell_type": "code",
   "execution_count": null,
   "id": "d82ab23f-478e-45ab-ab44-cd9f755d5d7f",
   "metadata": {},
   "outputs": [],
   "source": [
    "opt_params = {\n",
    "    \"min\": 50,\n",
    "    \"max\": 1000,\n",
    "    \"bands\": \"red,green,blue\",\n",
    "    \"gamma\":1.5,\n",
    "    \"dimensions\": 1024\n",
    "}"
   ]
  },
  {
   "cell_type": "code",
   "execution_count": null,
   "id": "754e7f0b-45db-4c7c-a6cb-0881c87e7708",
   "metadata": {},
   "outputs": [],
   "source": [
    "Map = geemap.Map(center = (5, 46.5), zoom = 9)\n",
    "Map.addLayer(somalia_flood, {}, 'Beledweyne, Somalia')\n",
    "Map.addLayer(opt_reduced, opt_params, 'Maximum Flood Water in Beledweyne, Somalia 2023 (using Optical imagery)')\n",
    "Map.addLayerControl()\n",
    "Map"
   ]
  },
  {
   "cell_type": "markdown",
   "id": "a76fd24d-5cb2-43c6-8e93-71f78a36c41d",
   "metadata": {},
   "source": [
    "### 03d Thresholding"
   ]
  },
  {
   "cell_type": "code",
   "execution_count": null,
   "id": "76d97544-9646-448b-988b-38a94f079262",
   "metadata": {},
   "outputs": [],
   "source": [
    "#Optical thresholding\n",
    "\n",
    "mndwi = opt_corrected.apply_func(hf.add_indices, indices = [\"mndwi\"])\n",
    "\n",
    "mndwi_reduced = mndwi.collection.median()\n",
    "\n",
    "opt_water = hf.edge_otsu(\n",
    "    mndwi_reduced,\n",
    "    \"mndwi\",\n",
    "    initial_threshold = 0,\n",
    "    thresh_no_data = 0.5,\n",
    "    edge_buffer = 300,\n",
    "    scale = 1e3,\n",
    "    invert = True,\n",
    "    region = somalia_flood\n",
    ")"
   ]
  },
  {
   "cell_type": "markdown",
   "id": "5c712f09-3ad4-4147-af62-c1a54b795062",
   "metadata": {},
   "source": [
    "### 03d* Visualization"
   ]
  },
  {
   "cell_type": "code",
   "execution_count": null,
   "id": "5f6dfc72-1ae5-4709-89c7-1cc63472540f",
   "metadata": {},
   "outputs": [],
   "source": [
    "water_params = {\n",
    "    \"min\": 0,\n",
    "    \"max\": 1,\n",
    "    \"palette\": ['D3D3D3', '000080']\n",
    "}\n",
    "\n",
    "Map = geemap.Map(center = (5, 46.5), zoom = 9)\n",
    "\n",
    "Map.addLayer(somalia_flood, {}, 'Beledweyne, Somalia')\n",
    "Map.addLayer(opt_water.selfMask(), water_params, 'Maximum Flood Water in Beledweyne, Somalia 2023 (using Optical imagery)')\n",
    "\n",
    "Map.addLayerControl()\n",
    "Map"
   ]
  },
  {
   "cell_type": "markdown",
   "id": "08729b8e-1c0d-42f1-80ff-6c8b9bb15daf",
   "metadata": {},
   "source": [
    "## 04. Flood Analysis using SAR imagery"
   ]
  },
  {
   "cell_type": "markdown",
   "id": "7597e01e-04a5-4f1b-9a51-0f67db3a6e12",
   "metadata": {},
   "source": [
    "### 04a. Acquire optical data using hf.dataset"
   ]
  },
  {
   "cell_type": "code",
   "execution_count": null,
   "id": "d12092c2-2a9d-47b3-85ee-795cb6e15e22",
   "metadata": {},
   "outputs": [],
   "source": [
    "sar = hf.Sentinel1(somalia_flood, start_date, end_date)"
   ]
  },
  {
   "cell_type": "markdown",
   "id": "d0568023-d87c-4b30-aab8-372c9a835987",
   "metadata": {},
   "source": [
    "### 04b. Apply some corrections (Speckle filter)"
   ]
  },
  {
   "cell_type": "code",
   "execution_count": null,
   "id": "2dda8c78-c322-419b-bbed-c5454ec56619",
   "metadata": {},
   "outputs": [],
   "source": [
    "sar_speckle_filt = sar.apply_func(hf.gamma_map)\n",
    "sar_corrected = sar_speckle_filt.apply_func(corrections.slope_correction, elevation = elv, buffer = 30)"
   ]
  },
  {
   "cell_type": "markdown",
   "id": "1324e34e-edb2-49f0-8522-bc87cf831371",
   "metadata": {},
   "source": [
    "### 04c. Apply a reducer"
   ]
  },
  {
   "cell_type": "code",
   "execution_count": null,
   "id": "d83d8c19-f99c-4499-987f-2fce41616c0b",
   "metadata": {},
   "outputs": [],
   "source": [
    "sar_reduced = sar_corrected.collection.max()"
   ]
  },
  {
   "cell_type": "markdown",
   "id": "a283ae28-ea87-447a-94cd-aff773a9599f",
   "metadata": {},
   "source": [
    "### 04c* Visualize (intermediatory step)    "
   ]
  },
  {
   "cell_type": "code",
   "execution_count": null,
   "id": "94f3c81b-296c-479d-a031-2a8e159b1c55",
   "metadata": {},
   "outputs": [],
   "source": [
    "sar_params = {\n",
    "    \"min\": -25,\n",
    "    \"max\": 0,\n",
    "    \"bands\": \"VV\",\n",
    "    \"gamma\": 1,\n",
    "    \"dimensions\": 1024\n",
    "}"
   ]
  },
  {
   "cell_type": "code",
   "execution_count": null,
   "id": "fbd90f22-412f-4dec-938d-acade3021c22",
   "metadata": {},
   "outputs": [],
   "source": [
    "Map = geemap.Map(center = (5, 46.5), zoom = 9)\n",
    "\n",
    "\n",
    "Map.addLayer(sar_reduced, sar_params, 'SAR Imagery')\n",
    "Map.addLayer(somalia_flood, {}, 'Region of Interest')\n",
    "\n",
    "Map.addLayerControl()\n",
    "Map"
   ]
  },
  {
   "cell_type": "markdown",
   "id": "edc20d6d-4f82-4864-8cde-e62f53d11295",
   "metadata": {},
   "source": [
    "### 04d Thresholding"
   ]
  },
  {
   "cell_type": "code",
   "execution_count": null,
   "id": "ee071acb-c57a-4779-a758-f287721c5c39",
   "metadata": {},
   "outputs": [],
   "source": [
    "sar_water = hf.edge_otsu(\n",
    "    sar_reduced,\n",
    "    \"VV\",\n",
    "    initial_threshold = -11,\n",
    "    thresh_no_data = -20,\n",
    "    edge_buffer = 300,\n",
    "    region = somalia_flood,\n",
    "    scale = 1e3)"
   ]
  },
  {
   "cell_type": "markdown",
   "id": "12cb1923-6aec-4815-87f4-343bd73eeea4",
   "metadata": {},
   "source": [
    "### 04d* Visualization"
   ]
  },
  {
   "cell_type": "code",
   "execution_count": null,
   "id": "8ef2b9cf-ef10-49bc-8bf7-fa55f4065c7b",
   "metadata": {},
   "outputs": [],
   "source": [
    "water_params = {\n",
    "    \"min\": 0,\n",
    "    \"max\": 1,\n",
    "    \"palette\": ['D3D3D3', '000080']\n",
    "}\n",
    "\n",
    "Map = geemap.Map(center = (5, 46.5), zoom = 9)\n",
    "\n",
    "Map.addLayer(somalia_flood, {}, 'Beledweyne, Somalia')\n",
    "# Map.addLayer(opt_water, water_params, 'Optical-detected Water')\n",
    "# Map.addLayer(sar_water.selfMask(), water_params, 'Flood Water 2023')\n",
    "Map.addLayer(sar_water.selfMask(), water_params, 'Maximum Flood Water in Beledweyne, Somalia 2023 (using SAR imagery)')\n",
    "Map.addLayerControl()\n",
    "Map"
   ]
  },
  {
   "cell_type": "markdown",
   "id": "30fa72ed-0178-4c41-8a16-4c9060cc98be",
   "metadata": {},
   "source": [
    "## 05 Compare visualization: Optical vs SAR"
   ]
  },
  {
   "cell_type": "code",
   "execution_count": null,
   "id": "f693e123-bcd9-4e33-bc30-5049eb189308",
   "metadata": {},
   "outputs": [],
   "source": [
    "water_params_lightblue = {\n",
    "    \"min\": 0,\n",
    "    \"max\": 1,\n",
    "    \"palette\": ['D3D3D3', '0000FF']\n",
    "}\n",
    "\n",
    "water_params_darkblue = {\n",
    "    \"min\": 0,\n",
    "    \"max\": 1,\n",
    "    \"palette\": ['D3D3D3', '000080']\n",
    "}\n",
    "\n",
    "#https://geemap.org/notebooks/04_split_panel_map/\n",
    "left_layer = geemap.ee_tile_layer(opt_water.selfMask(), water_params_lightblue, 'Maximum Flood Water in Beledweyne, Somalia 2023 (using Optical imagery)')\n",
    "right_layer = geemap.ee_tile_layer(sar_water.selfMask(), water_params_darkblue, 'SAR-detected Water')\n",
    "\n",
    "Map = geemap.Map(center = (5, 46.5), zoom = 9)\n",
    "Map.split_map(left_layer, right_layer)\n",
    "Map.addLayer(somalia_flood, {}, 'Region of Interest')\n",
    "Map"
   ]
  },
  {
   "cell_type": "markdown",
   "id": "80c76fda-1fb3-4b5b-90aa-c11cd7492134",
   "metadata": {},
   "source": [
    "<div class=\"alert alert-block alert-info\">\n",
    "    <b>Discussion:</b> ❓ In this case study, optical seems to show more flood water, why? \n",
    "    <br>Date of image acquisition? Choice of reducer? Any other reason?\n",
    "</div>\n"
   ]
  },
  {
   "cell_type": "markdown",
   "id": "52b20ca1-5058-411b-85cc-4172a3ef5158",
   "metadata": {},
   "source": [
    "---"
   ]
  },
  {
   "cell_type": "markdown",
   "id": "4487746d-81e8-458c-8863-60692a9ae996",
   "metadata": {},
   "source": [
    "<div class=\"alert alert-block alert-info\">\n",
    "    <b>Discussion:</b> ❓ Before the flood in Somalia of December, 2023, there was a three-year long big drought. Can we use the skills we learn today to compare the water extent between the two conditions? What applications may surface water mapping have in this case?\n",
    "</div>\n"
   ]
  },
  {
   "cell_type": "markdown",
   "id": "71b3cdb6-4837-4098-b44b-bf3e0cf8ac7c",
   "metadata": {},
   "source": [
    "## 06 Assignment (Optional)"
   ]
  },
  {
   "cell_type": "markdown",
   "id": "e34ef4be-b4a1-4dd8-8544-80efba45ca05",
   "metadata": {},
   "source": [
    "> Compute water extent in the same region during the drought."
   ]
  },
  {
   "cell_type": "code",
   "execution_count": null,
   "id": "854d3caf-6446-4098-aa49-28a2559dfeb3",
   "metadata": {},
   "outputs": [],
   "source": [
    "pre_start_date = \"2022-11-15\"\n",
    "pre_end_date = \"2022-12-15\"\n",
    "\n",
    "#Acquire Sentinel 1 data from hydrafloods for the \"somalia_flood\" region of interest, for the time period [pre_start_date] to [post_start_date]\n",
    "preevent = hf.Sentinel1( ?, ?, ?)\n",
    "\n",
    "#Apply slope correction on the Sentinel 1 image collection\n",
    "preevent_flat = preevent.apply_func(hf.slope_correction, elevation = ?, buffer = 100)\n",
    "\n",
    "#Apply speckle filter on the slope-corrected image \n",
    "preevent_filtered = ?.apply(hf.gamma_map)\n",
    "\n",
    "Take a reducer to get an image\n",
    "pre_img = ?.collection.median()\n",
    "\n",
    "# Thresholding: Apply Edge-Otsu method\n",
    "pre_water = hf.edge_otsu(\n",
    "    ?,\n",
    "    \"VV\",\n",
    "    initial_threshold = -11,\n",
    "    thresh_no_data = -20,\n",
    "    edge_buffer = 300,\n",
    "    region = ?,\n",
    "    scale = 1e3)\n",
    "\n",
    "#The difference between two images can be calculated using the discrete difference method in hydrafloods\n",
    "flood_diff = hf.floods.discrete_difference(sar_water, pre_water) "
   ]
  },
  {
   "cell_type": "code",
   "execution_count": null,
   "id": "0dcb6f3a-43e2-4e49-8f73-9e2f48d00513",
   "metadata": {},
   "outputs": [],
   "source": [
    "water_params = {\n",
    "    \"min\": 0,\n",
    "    \"max\": 1,\n",
    "    \"palette\": ['D3D3D3', '000080']\n",
    "}\n",
    "\n",
    "pre_water_params = {\n",
    "    \"min\": 0,\n",
    "    \"max\": 1,\n",
    "    \"palette\": \"lightblue\"\n",
    "}\n",
    "\n",
    "diff_water_params = {\n",
    "    \"min\": 0,\n",
    "    \"max\": 1,\n",
    "    \"palette\": \"red\"\n",
    "}\n",
    "\n",
    "#https://geemap.org/notebooks/04_split_panel_map/\n",
    "left_layer = geemap.ee_tile_layer(sar_water.selfMask(), water_params, 'SAR-detected Water')\n",
    "right_layer = geemap.ee_tile_layer(pre_water.selfMask(), water_params, 'Pre-flood Water')\n",
    "\n",
    "Map = geemap.Map(center = (5, 46.5), zoom = 9)\n",
    "Map.split_map(left_layer, right_layer)\n",
    "Map.addLayer(somalia_flood, {}, 'Region of Interest')\n",
    "Map"
   ]
  },
  {
   "cell_type": "markdown",
   "id": "c19d46bf-3c15-4467-980e-ce4b0311c240",
   "metadata": {},
   "source": [
    "## 07. Answer provided below!"
   ]
  },
  {
   "cell_type": "code",
   "execution_count": 7,
   "id": "bad6db3a-9886-4c96-a5c8-ddd7021838fb",
   "metadata": {},
   "outputs": [
    {
     "ename": "NameError",
     "evalue": "name 'hf' is not defined",
     "output_type": "error",
     "traceback": [
      "\u001b[0;31m---------------------------------------------------------------------------\u001b[0m",
      "\u001b[0;31mNameError\u001b[0m                                 Traceback (most recent call last)",
      "Cell \u001b[0;32mIn [7], line 3\u001b[0m\n\u001b[1;32m      1\u001b[0m pre_start_date \u001b[38;5;241m=\u001b[39m \u001b[38;5;124m\"\u001b[39m\u001b[38;5;124m2021-11-15\u001b[39m\u001b[38;5;124m\"\u001b[39m\n\u001b[1;32m      2\u001b[0m pre_end_date \u001b[38;5;241m=\u001b[39m \u001b[38;5;124m\"\u001b[39m\u001b[38;5;124m2021-12-15\u001b[39m\u001b[38;5;124m\"\u001b[39m\n\u001b[0;32m----> 3\u001b[0m preevent \u001b[38;5;241m=\u001b[39m hf\u001b[38;5;241m.\u001b[39mSentinel1(somalia_flood, pre_start_date, pre_end_date)\n\u001b[1;32m      4\u001b[0m preevent_flat \u001b[38;5;241m=\u001b[39m preevent\u001b[38;5;241m.\u001b[39mapply_func(hf\u001b[38;5;241m.\u001b[39mslope_correction, elevation \u001b[38;5;241m=\u001b[39m elv, buffer \u001b[38;5;241m=\u001b[39m \u001b[38;5;241m100\u001b[39m)\n\u001b[1;32m      5\u001b[0m preevent_filtered \u001b[38;5;241m=\u001b[39m preevent_flat\u001b[38;5;241m.\u001b[39mapply(hf\u001b[38;5;241m.\u001b[39mgamma_map)\n",
      "\u001b[0;31mNameError\u001b[0m: name 'hf' is not defined"
     ]
    }
   ],
   "source": [
    "pre_start_date = \"2021-11-15\"\n",
    "pre_end_date = \"2021-12-15\"\n",
    "preevent = hf.Sentinel1(somalia_flood, pre_start_date, pre_end_date)\n",
    "preevent_flat = preevent.apply_func(hf.slope_correction, elevation = elv, buffer = 100)\n",
    "preevent_filtered = preevent_flat.apply(hf.gamma_map)\n",
    "pre_img = preevent_filtered.collection.mean()\n",
    "# pre_water = hf.edge_otsu(pre_img, bands = \"VV\", initial_threshold = 16, edge_buffer = 300, region = tonlesap, scale = 300)\n",
    "\n",
    "pre_water = hf.edge_otsu(\n",
    "    pre_img,\n",
    "    \"VV\",\n",
    "    initial_threshold = -11,\n",
    "    thresh_no_data = -20,\n",
    "    edge_buffer = 300,\n",
    "    region = somalia_flood,\n",
    "    scale = 1e3)\n",
    "\n",
    "flood_diff = hf.floods.discrete_difference(sar_water, pre_water) "
   ]
  },
  {
   "cell_type": "code",
   "execution_count": null,
   "id": "53260bbe-d435-4e40-a46e-d63c454b8e13",
   "metadata": {},
   "outputs": [],
   "source": [
    "water_params = {\n",
    "    \"min\": 0,\n",
    "    \"max\": 1,\n",
    "    \"palette\": ['D3D3D3', '000080']\n",
    "}\n",
    "\n",
    "pre_water_params = {\n",
    "    \"min\": 0,\n",
    "    \"max\": 1,\n",
    "    \"palette\": \"lightblue\"\n",
    "}\n",
    "\n",
    "diff_water_params = {\n",
    "    \"min\": 0,\n",
    "    \"max\": 1,\n",
    "    \"palette\": \"red\"\n",
    "}\n",
    "\n",
    "# Map.addLayer(somalia_flood, {}, 'Region of Interest')\n",
    "# # Map.addLayer(opt_water, water_params, 'Optical-detected Water')\n",
    "# Map.addLayer(sar_water.selfMask(), water_params, 'SAR-detected flood Water')\n",
    "# # Map.addLayer(pre_water.selfMask(), pre_water_params, 'Pre Flood Water')\n",
    "# Map.addLayer(flood_diff.selfMask(), diff_water_params, 'Excess Water Extent (Compared to Drought in 2022)')\n",
    "# Map.addLayerControl()\n",
    "# Map"
   ]
  },
  {
   "cell_type": "code",
   "execution_count": null,
   "id": "f1164ba7-3c04-4972-98ce-87114309638a",
   "metadata": {},
   "outputs": [],
   "source": [
    "#https://geemap.org/notebooks/04_split_panel_map/\n",
    "left_layer = geemap.ee_tile_layer(sar_water.selfMask(), water_params, 'SAR-detected Water')\n",
    "right_layer = geemap.ee_tile_layer(pre_water.selfMask(), water_params, 'Pre-flood Water')\n",
    "\n",
    "Map = geemap.Map(center = (5, 46.5), zoom = 9)\n",
    "Map.split_map(left_layer, right_layer)\n",
    "Map.addLayer(somalia_flood, {}, 'Region of Interest')\n",
    "Map"
   ]
  },
  {
   "cell_type": "markdown",
   "id": "b8a80329-f206-4b16-95ef-d80863ca896f",
   "metadata": {},
   "source": [
    "<div class=\"alert alert-block alert-info\">\n",
    "    <b>Discussion:</b> ❓ With SAR imagery, the drought year of 2022 shows more water, why? Maybe the reflective properties of land there is similar to water?\n",
    "</div>\n"
   ]
  },
  {
   "cell_type": "code",
   "execution_count": null,
   "id": "059d5e06-fa2c-4d43-80e6-4a0bbdcbc25c",
   "metadata": {},
   "outputs": [],
   "source": []
  }
 ],
 "metadata": {
  "kernelspec": {
   "display_name": "hydrafloods2024",
   "language": "python",
   "name": "hydrafloods2024"
  },
  "language_info": {
   "codemirror_mode": {
    "name": "ipython",
    "version": 3
   },
   "file_extension": ".py",
   "mimetype": "text/x-python",
   "name": "python",
   "nbconvert_exporter": "python",
   "pygments_lexer": "ipython3",
   "version": "3.8.10"
  }
 },
 "nbformat": 4,
 "nbformat_minor": 5
}
