{
 "cells": [
  {
   "cell_type": "markdown",
   "id": "494ed85d-20db-47f0-b68a-305ff6c24a73",
   "metadata": {},
   "source": [
    "# Observing surface water extent from space <img src=\"../fig/itc-logo@2x.png\" alt=\"drawing\" align = \"right\" width=\"50\"/>\n",
    "\n",
    "\n",
    "<b>Author</b>: [Amin Shakya](https://github.com/mn5hk), February, 2024\n",
    "\n",
    "<b>Github link to the exercise files (base repository)</b>: https://github.com/ITC-Water-Resources/itc-hydrafloods-2024\n",
    "\n",
    "<b>Credits</b>:\n",
    "\n",
    "- [Mickey Maganini](https://github.com/mickymags) - slight updates to the course notebooks originally developed by Micky for the ITC course in 2023    \n",
    "- [Kel Markert](https://github.com/KMarkert) - [troubleshoot](https://github.com/Servir-Mekong/hydra-floods/issues/48) for Landsat 8 data update on Google Earth Engine Data Catalog\n",
    "- [Roelof Rietbroek](https://github.com/strawpants) - for his consultation on developing the tutorials\n",
    "\n",
    "---"
   ]
  },
  {
   "cell_type": "markdown",
   "id": "fd2857da-e77e-4137-ba9a-bd1e6b9fb47c",
   "metadata": {},
   "source": [
    "# Goal of the Study"
   ]
  },
  {
   "cell_type": "markdown",
   "id": "141dd692-7902-402e-a861-8cfee8fd4786",
   "metadata": {},
   "source": [
    "<div class=\"alert alert-block alert-info\">\n",
    "\n",
    "\n",
    "In this notebook, we will look at how surface water extent can be detected from space. We first take a case study from <b>Tonle Sap, Indonesia</b> where surface water extent is being monitoed using the hydrafloods python package. The system is operationally used by NASA Servir - South East Asia to monitor the lake water extent change.<br><br>    \n",
    "    In the following notebook, we apply the same ideas to a different case study for the flooding in Somalia in 2023. The students are strongly encouraged to play around with the module and to implement it in their case studies of choice.\n",
    "\n",
    "</div>"
   ]
  },
  {
   "cell_type": "markdown",
   "id": "5c7bcccc-ea2a-4721-8cc3-6033d974bb7f",
   "metadata": {},
   "source": [
    "<div class=\"alert alert-block alert-info\">\n",
    "\n",
    "\n",
    "In this notebook, we will look at how surface water extent in the Tonle Sap lake in Indonesia can be detected from space. More specifically, we will look at:\n",
    "\n",
    "- What satellite earth observation data may help in detecting surface water extent from space?\n",
    "- Pros and Cons: Optical imagery vs SAR imagery\n",
    "- What algorithms can we use for surface water extent detection? \n",
    "- What applications may EO-based surface water extent be useful towards?\n",
    "- Any caveats to be aware of?\n",
    "- Further readings \n",
    "\n",
    "</div>"
   ]
  },
  {
   "cell_type": "markdown",
   "id": "0279d83c-ff5a-42a6-acb5-e1215151fe07",
   "metadata": {},
   "source": [
    "## Some theory"
   ]
  },
  {
   "cell_type": "markdown",
   "id": "414be85c-6f4d-4ef5-9f60-65ff683c91b3",
   "metadata": {},
   "source": [
    "### Surface water mapping using optical imagery:\n",
    "<img src = \"../fig/donchytys_2016.png\">\n",
    "[extracted from Donchytys et al., (2016)]\n",
    "\n",
    "[Donchytys et al., (2016): A 30 m Resolution Surface Water Mask Including Estimation of Positional and Thematic Differences Using Landsat 8, SRTM and OpenStreetMap: A Case Study in the Murray-Darling Basin, Australia](\"https://www.mdpi.com/2072-4292/8/5/386#\")"
   ]
  },
  {
   "cell_type": "markdown",
   "id": "7a23318f-d02e-4d19-aec3-5a47dee91757",
   "metadata": {},
   "source": [
    "### Surface water mapping using SAR imagery:\n",
    "<img src = \"../fig/merkert_2020.png\">\n",
    "[extracted from Merkert et al., (2020)]\n",
    "\n",
    "[Merkert et al., (2020): Comparing Sentinel-1 Surface Water Mapping Algorithms and Radiometric Terrain Correction Processing in Southeast Asia Utilizing Google Earth Engine](\"https://www.mdpi.com/2072-4292/12/15/2469#\")"
   ]
  },
  {
   "cell_type": "markdown",
   "id": "dc4c0bfa-4606-4c67-9ac9-6d7801ce4019",
   "metadata": {},
   "source": [
    "<a id=\"00\"></a>\n",
    "___\n",
    "## 00. Install python libraries (if not already installed)"
   ]
  },
  {
   "cell_type": "markdown",
   "id": "6fd6a4f6-97b9-4513-9769-bc632b757db8",
   "metadata": {},
   "source": [
    "In this step, we will install the python libraries we use in this exercise (if required). For now, let's proceed with [Step 1](#01).\n",
    "\n",
    "Let's first try to run [Step 1](#01), where we try to import the modules, namely [ee](https://github.com/snare/ee), [geemap](https://github.com/gee-community/geemap), and [hydrafloods](https://github.com/Servir-Mekong/hydra-floods), that we use in this notebook. In case, [Step 1](#01) does not work, uncomment (a part of) this section, and rerun [Step 0](#00) and [Step 1](#01). If interested to learn more about these modules, brief intro to each module is provided in [further resources: python packages used](#packages)."
   ]
  },
  {
   "cell_type": "code",
   "execution_count": 1,
   "id": "203a8c9d-6cec-44bb-8afa-ca45f8280e83",
   "metadata": {},
   "outputs": [],
   "source": [
    "# !pip install ee\n",
    "# !pip install hydrafloods\n",
    "# !pip install geemap"
   ]
  },
  {
   "cell_type": "markdown",
   "id": "ba7ace48-39b1-43b5-98fd-d9afe7b7b2cb",
   "metadata": {},
   "source": [
    "<a id=\"01\"></a>\n",
    "___\n",
    "## 01. Import Python libraries and initialize Google Earth Engine"
   ]
  },
  {
   "cell_type": "markdown",
   "id": "52ca2570-96cc-4c45-a430-33089b7ce90c",
   "metadata": {},
   "source": [
    "### 01a. Import python libraries"
   ]
  },
  {
   "cell_type": "code",
   "execution_count": 2,
   "id": "f7d7ef7e-c712-42de-97c1-509a1da26f8b",
   "metadata": {},
   "outputs": [],
   "source": [
    "# from IPython.display import IFrame"
   ]
  },
  {
   "cell_type": "code",
   "execution_count": 3,
   "id": "320936f3-ee80-4d69-909a-5537784c8624",
   "metadata": {},
   "outputs": [],
   "source": [
    "# !pip install geemap"
   ]
  },
  {
   "cell_type": "code",
   "execution_count": 4,
   "id": "66e3a625-7fc6-442a-b2a0-377cddb5e0be",
   "metadata": {},
   "outputs": [],
   "source": [
    "# !pip install hydrafloods"
   ]
  },
  {
   "cell_type": "code",
   "execution_count": 5,
   "id": "1d65c087-2b55-40cf-96d5-8c9fea747f2f",
   "metadata": {},
   "outputs": [],
   "source": [
    "import geemap\n",
    "import geemap.colormaps as cm\n",
    "import ee\n",
    "import hydrafloods as hf\n",
    "from hydrafloods import corrections"
   ]
  },
  {
   "cell_type": "markdown",
   "id": "eee306f9-3e88-44ad-8d31-f6c67337f50d",
   "metadata": {},
   "source": [
    "<div class=\"alert alert-block alert-info\">\n",
    "    <b>Alert:</b> ❓ Did the above step work correctly? If yes, please continue further with the notebook.\n",
    "</div>\n"
   ]
  },
  {
   "cell_type": "markdown",
   "id": "2d8d68a7-561f-4a29-9d3b-f1a04f1ed0e3",
   "metadata": {},
   "source": [
    "<div class=\"alert alert-block alert-warning\">\n",
    "    <b>Warning:</b> ⚠️ In case the above step did not work correctly (showed some error), check the error.  <br> \n",
    "    A common error in importing modules in python is that the modules do not exist in the python environment. If the error indeed is along the lines of <u><i>module not found</i></u>, revert back to [Step 0](#00) and install the missing module. To install a module, the following syntax may be useful:<br>\n",
    "    <u><i>!pip install module-name</i></u>\n",
    "</div>\n"
   ]
  },
  {
   "cell_type": "markdown",
   "id": "5a518f41-2e19-4624-8b18-43effda4fa72",
   "metadata": {},
   "source": [
    "### 01b. Authenticate Google Earth Engine"
   ]
  },
  {
   "cell_type": "markdown",
   "id": "a2730ac1-84d6-4ad0-b865-6435ca0a73a7",
   "metadata": {},
   "source": [
    "<div class=\"alert alert-block alert-info\">\n",
    "    <b>Alert:</b> ⓘ In this step, we authenticate our <a href = \"https://code.earthengine.google.com\">Google Earth Engine</a> account and initialize our earth engine account. To proceed further, you must have created a Google Earth Engine account. In case you do not have an Earth Engine account or have problem accessing the account. contact course instructors.\n",
    "    </div>"
   ]
  },
  {
   "cell_type": "code",
   "execution_count": 6,
   "id": "ae2dce2e-5f87-42d6-99ad-5689a5fe835c",
   "metadata": {},
   "outputs": [
    {
     "data": {
      "text/html": [
       "<p>To authorize access needed by Earth Engine, open the following\n",
       "        URL in a web browser and follow the instructions:</p>\n",
       "        <p><a href=https://code.earthengine.google.com/client-auth?scopes=https%3A//www.googleapis.com/auth/earthengine%20https%3A//www.googleapis.com/auth/devstorage.full_control&request_id=ZZECMvNEcw62qmHOUv8CLfwlQ-a6cqi5ww7Vl-AZtU0&tc=wqFAo5VHIWOyzW9kNCxJGQPpdpWoOapYJNT9aGYSrBk&cc=MG4QrBFhSXVekzPo64GWdQIJgX-w9Z65cB6MCLlDDgI>https://code.earthengine.google.com/client-auth?scopes=https%3A//www.googleapis.com/auth/earthengine%20https%3A//www.googleapis.com/auth/devstorage.full_control&request_id=ZZECMvNEcw62qmHOUv8CLfwlQ-a6cqi5ww7Vl-AZtU0&tc=wqFAo5VHIWOyzW9kNCxJGQPpdpWoOapYJNT9aGYSrBk&cc=MG4QrBFhSXVekzPo64GWdQIJgX-w9Z65cB6MCLlDDgI</a></p>\n",
       "        <p>The authorization workflow will generate a code, which you should paste in the box below.</p>\n",
       "        "
      ],
      "text/plain": [
       "<IPython.core.display.HTML object>"
      ]
     },
     "metadata": {},
     "output_type": "display_data"
    },
    {
     "name": "stdin",
     "output_type": "stream",
     "text": [
      "Enter verification code:  4/1AeaYSHDOAa9vhdnn9eEBRhfSd6GcL9e0_f9ZA89OvfCib7DfbsOJ3usclh8\n"
     ]
    },
    {
     "name": "stdout",
     "output_type": "stream",
     "text": [
      "\n",
      "Successfully saved authorization token.\n"
     ]
    }
   ],
   "source": [
    "ee.Authenticate()\n",
    "ee.Initialize()"
   ]
  },
  {
   "cell_type": "markdown",
   "id": "3f1dcbbc-27e1-4ed0-abd7-7757f1561d3c",
   "metadata": {},
   "source": [
    "<div class=\"alert alert-block alert-info\">\n",
    "    <b>Alert:</b> ⓘIn case you could successfully authenticate your Google Earth Engine account, <b>congratulations</b>. We now move on further with the script.<br>\n",
    "    </div>"
   ]
  },
  {
   "cell_type": "markdown",
   "id": "08629974-3c0e-4b3d-ba33-aba34bd59159",
   "metadata": {},
   "source": [
    "<div class=\"alert alert-block alert-warning\">\n",
    "    <b>Warning:</b> ⚠️In case you have problems with <a href = \"https://code.earthengine.google.com\">Google Earth Engine</a> account authentication, check out <a href = \"https://github.com/gee-community/geemap/issues/1018\">this nice instruction</a> on the same by <a href = \"https://github.com/giswqs\">Qiusheng Wu</a>. You may also contact the course instructors for the same.\n",
    "    </div>"
   ]
  },
  {
   "cell_type": "markdown",
   "id": "88f65a54-418f-432a-a6e1-4dc7db3814a6",
   "metadata": {},
   "source": [
    "### 01c. Initialize [geemap](https://github.com/gee-community/geemap), and check [hydrafloods](https://github.com/Servir-Mekong/hydra-floods) version"
   ]
  },
  {
   "cell_type": "markdown",
   "id": "f63d8969-116b-470c-a226-cfe7c9246d35",
   "metadata": {},
   "source": [
    "In this step, we first initialize [geemap](https://github.com/gee-community/geemap). [Geemap](https://github.com/gee-community/geemap) is an interactive python package great at Google Earth Engine data visualization (<i>and much more!</i>)."
   ]
  },
  {
   "cell_type": "code",
   "execution_count": 7,
   "id": "896c221b-3590-4642-b3e5-1296c7e69a58",
   "metadata": {},
   "outputs": [],
   "source": [
    "_ = geemap.Map()"
   ]
  },
  {
   "cell_type": "markdown",
   "id": "d062417f-ecd7-430e-8391-a7ccc23c8fed",
   "metadata": {},
   "source": [
    "We further check the version number of the [hydrafloods](https://github.com/Servir-Mekong/hydra-floods) python package."
   ]
  },
  {
   "cell_type": "code",
   "execution_count": 8,
   "id": "1c952280-7c82-4d0a-ac7c-91f1604e3963",
   "metadata": {},
   "outputs": [
    {
     "data": {
      "text/plain": [
       "'2023.10.14'"
      ]
     },
     "execution_count": 8,
     "metadata": {},
     "output_type": "execute_result"
    }
   ],
   "source": [
    "hf.__version__"
   ]
  },
  {
   "cell_type": "markdown",
   "id": "62ac5bfc-6c68-4d46-bc22-4e3243a21b63",
   "metadata": {},
   "source": [
    "<div class=\"alert alert-block alert-info\">\n",
    "    <b>Alert:</b> ⓘThis notebook is developed for the <a href = \"https://github.com/Servir-Mekong/hydra-floods\">hydrafloods</a> module version <i>2023.10.14</i>. In case your <a href = \"https://github.com/Servir-Mekong/hydra-floods\">hydrafloods</a> version is not the same, some minor changes to the script may be necessary.\n",
    "    </div>"
   ]
  },
  {
   "cell_type": "markdown",
   "id": "b433c09f-7c7b-4f1c-8c0b-e132d4f902a8",
   "metadata": {},
   "source": [
    "---\n",
    "## 02. Define region of interest, time period"
   ]
  },
  {
   "cell_type": "markdown",
   "id": "6b15d56a-9fc0-45ac-a749-fb396864f3fd",
   "metadata": {},
   "source": [
    "<div class=\"alert alert-block alert-info\">\n",
    "    <b>Alert:</b> ⓘTonle Sap in Cambodia is the largest lake in South-east Asia, with ecological importance <a href = \"https://cambodia.wcs.org/saving-wild-places/tonle-sap-lake-floodplain.aspx\">[source]</a>. <a href = \"https://www.nasa.gov/servir/servir-southeast-asia/\">NASA Servir South-east Asia</a> has an active <a href = \"https://github.com/Servir-Mekong/hydra-floods\">hydrafloods</a> model to monitor the changes in the lake.\n",
    "    </div>"
   ]
  },
  {
   "cell_type": "markdown",
   "id": "90e884a5-782d-4c70-8773-41ac8e14ba87",
   "metadata": {},
   "source": [
    "<img src = \"../fig/tonlesap_dry_wet.png\">\n"
   ]
  },
  {
   "cell_type": "markdown",
   "id": "1080cc6b-37e9-4346-a1f6-379209e190c1",
   "metadata": {},
   "source": [
    "<center><b>Fig: Tonle Sap wet season (on the left) vs Tonle Sap dry season (on the right)</b> <a href = \"https://cambodia.wcs.org/saving-wild-places/tonle-sap-lake-floodplain.aspx\">[source]</a><br>\n",
    "    <u><i>Notice the difference in water extent!</i></u></center>"
   ]
  },
  {
   "cell_type": "markdown",
   "id": "8dd2eccd-d348-43b6-a63d-99d02122827a",
   "metadata": {},
   "source": [
    "<div class=\"alert alert-block alert-info\">\n",
    "    <b>Alert:</b> ⓘThis notebook is calibrated to the Tonle Sap study region, and has been made available with support of <a href=\"https://github.com/mickymags\">Micky Maganini, NASA Servir</a>.\n",
    "    </div>"
   ]
  },
  {
   "cell_type": "markdown",
   "id": "6b4cfcb8-bea0-458f-b54c-eb2da0afc931",
   "metadata": {},
   "source": [
    "### 02a. Define study region of interest"
   ]
  },
  {
   "cell_type": "code",
   "execution_count": 9,
   "id": "1b63bf45-1b20-48ba-ac02-daa168fd5fd4",
   "metadata": {},
   "outputs": [],
   "source": [
    "#Define the region of interest\n",
    "tonlesap = ee.Geometry.Polygon([\n",
    "        [106.40316, 11.7778],\n",
    "        [106.40316, 13.6104],\n",
    "        [103.56869, 13.6104],\n",
    "        [103.56869, 11.7778]\n",
    "    ])\n"
   ]
  },
  {
   "cell_type": "markdown",
   "id": "a71912f5-a7f4-4c30-b727-9d3fad051973",
   "metadata": {},
   "source": [
    "### 02b. Define start and end time"
   ]
  },
  {
   "cell_type": "code",
   "execution_count": 10,
   "id": "694fe3cc-0523-475d-bf17-90f26d797465",
   "metadata": {},
   "outputs": [],
   "source": [
    "#Define time period of interest\n",
    "start_date = \"2021-09-26\"\n",
    "end_date = \"2021-10-15\""
   ]
  },
  {
   "cell_type": "markdown",
   "id": "bab74d1d-b8a6-4c0d-ad65-1b5f7750365d",
   "metadata": {},
   "source": [
    "---\n",
    "# Working with Earth Observation data"
   ]
  },
  {
   "cell_type": "markdown",
   "id": "247e1ffe-0274-49d8-8536-8b00b9a73285",
   "metadata": {},
   "source": [
    "<div class=\"alert alert-block alert-info\">\n",
    "    <b>Alert:</b> ❓ What satellites may allow us to detect surface water change?\n",
    "</div>\n"
   ]
  },
  {
   "cell_type": "markdown",
   "id": "311d506f-bdb4-4be7-850d-796b2a7bf78b",
   "metadata": {},
   "source": [
    "<div class=\"alert alert-block alert-info\">\n",
    "    <b>Discussion:</b> ❓ Pros and cons of using optical satellites vs SAR satellites for surface water extent detection?\n",
    "</div>\n"
   ]
  },
  {
   "cell_type": "markdown",
   "id": "ed5c9be3-f562-49c5-b7d0-dddd3c981b88",
   "metadata": {},
   "source": [
    "<div class=\"alert alert-block alert-info\">\n",
    "    <b>Alert:</b> ❓ What algorithms may be useful in detecting surface water extent using Earth-Observation datasets?\n",
    "</div>\n"
   ]
  },
  {
   "cell_type": "markdown",
   "id": "ba9eb388-d194-4488-be85-e95addcbb1dc",
   "metadata": {},
   "source": [
    "> Some commonly used indices (optical) include water indices (<b>NDWI, MNDWI</b>, etc). Threshold algorithms such as <b>Edge-Otsu algorithm</b> are also useful!"
   ]
  },
  {
   "cell_type": "markdown",
   "id": "105fbf29-9be2-42f5-b2c1-a868bfc00421",
   "metadata": {},
   "source": [
    "> Approach: Use either <b>Optical</b> or <b>SAR</b> image collection (set of images); apply necessary corrections; reduce the image collection to an image (eg: take mean, median, etc); apply a thresholding algorithm on the reduced image to classify water or no water; Visualize/export"
   ]
  },
  {
   "cell_type": "markdown",
   "id": "a68ebb7a-668f-41e4-8b0e-3e231e9de479",
   "metadata": {},
   "source": [
    "## 03. Optical Imagery Workflow"
   ]
  },
  {
   "cell_type": "markdown",
   "id": "1704bcc8-c6e4-4267-b813-dcaa426c57aa",
   "metadata": {},
   "source": [
    "### 03a. Acquire optical data using hf.dataset"
   ]
  },
  {
   "cell_type": "code",
   "execution_count": 11,
   "id": "2b65ee2b-a558-4271-92c7-05439cf67681",
   "metadata": {},
   "outputs": [],
   "source": [
    "#Acquire optical data using hf.dataset\n",
    "optical = hf.Landsat8(tonlesap, start_date, end_date)"
   ]
  },
  {
   "cell_type": "markdown",
   "id": "61ceee7c-7169-4936-bd17-54969a066e7d",
   "metadata": {},
   "source": [
    "##### Apply a function to rename some parameters"
   ]
  },
  {
   "cell_type": "markdown",
   "id": "bb0d8a3f-5f04-424b-ae89-f513d0e9bb4b",
   "metadata": {},
   "source": [
    "<div class=\"alert alert-block alert-info\">\n",
    "    <b>Alert:</b> ⓘLandsat 8 data recently got updated in Google Earth Engine, with a change in variable names. This change is not reflected in the current hydraflood version. As such, a quick fix is presented here. <br><br>Students are advised to not focus much on this step. Nonetheless, it does show practical issues with programming in general.</a>.\n",
    "    </div>"
   ]
  },
  {
   "cell_type": "code",
   "execution_count": 12,
   "id": "b79cb7fd-a297-4c87-b901-20a3c067c430",
   "metadata": {},
   "outputs": [],
   "source": [
    "# Update after consultation with Kel Markert via Github\n",
    "# function to rename the sun angle properties to what is expected by\n",
    "# the illumination_correction function\n",
    "def rename_sunangle_properties(image):\n",
    "    sz = ee.Number(90).subtract(image.get('SUN_ELEVATION'))\n",
    "    sa = image.get('SUN_AZIMUTH')\n",
    "    return image.set({\"SOLAR_ZENITH_ANGLE\": sz, \"SOLAR_AZIMUTH_ANGLE\": sa})\n",
    "\n",
    "# apply the function to rename properties\n",
    "optical = optical.apply_func(rename_sunangle_properties)"
   ]
  },
  {
   "cell_type": "markdown",
   "id": "86e5b8f7-14da-4817-8926-1065530136ab",
   "metadata": {},
   "source": [
    "### 03b. Apply illumination correction"
   ]
  },
  {
   "cell_type": "markdown",
   "id": "83c471f7-d306-4cb2-9509-4c1ae9634383",
   "metadata": {},
   "source": [
    "##### Acquire DEM data"
   ]
  },
  {
   "cell_type": "markdown",
   "id": "f6e54a19-6e34-4313-89cd-91726503c21d",
   "metadata": {},
   "source": [
    "Please note that users have a choice of DEM in this step."
   ]
  },
  {
   "cell_type": "code",
   "execution_count": 13,
   "id": "03b768cd-4eee-4a72-beca-d0cfc66aecdf",
   "metadata": {},
   "outputs": [],
   "source": [
    "elv = ee.Image(\"JAXA/ALOS/AW3D30/V2_2\").select(\"AVE_DSM\").unmask(0) #JAXA ALOS DEM\n",
    "# merit_dem = ee.Image(\"MERIT/Hydro/v1_0_1\").select(\"elv\").unmask(0) #Merit-Hydro DEM: A hydrologically-adjusted DEM from Yamakazi, D. et al. 2019"
   ]
  },
  {
   "cell_type": "code",
   "execution_count": 14,
   "id": "cadbad50-4cda-4ce3-9b6c-f55c3eb3f584",
   "metadata": {},
   "outputs": [],
   "source": [
    "opt_corrected = optical.apply_func(hf.corrections.illumination_correction, elevation = elv, scale=180) #Use JAXA DEM\n",
    "# opt_corrected = optical.apply_func(hf.corrections.illumination_correction, elevation = dem, scale=180) #Use MERIT-Hydro DEM\n",
    "\n"
   ]
  },
  {
   "cell_type": "markdown",
   "id": "f032f630-0e97-4747-8db4-656c7626894b",
   "metadata": {},
   "source": [
    "### 03c. Apply a reducer"
   ]
  },
  {
   "cell_type": "markdown",
   "id": "f0d9e63b-5ce6-4beb-a64f-cede3c984848",
   "metadata": {},
   "source": [
    "<div class=\"alert alert-block alert-info\">\n",
    "    <b>Discussion:</b> ❓ Which reducer is more appropriate: mean or median?\n",
    "</div>\n"
   ]
  },
  {
   "cell_type": "code",
   "execution_count": 15,
   "id": "54feb681-6156-450d-8747-b07bb4b89a42",
   "metadata": {},
   "outputs": [],
   "source": [
    "opt_reduced = opt_corrected.collection.median()\n",
    "# opt_reduced = opt_corrected.collection.mean()\n",
    "# opt_reduced = opt_corrected.collection.mosaic()\n",
    "# opt_reduced = opt_corrected.collection.first()\n",
    "# opt_reduced = opt_corrected.collection.last()"
   ]
  },
  {
   "cell_type": "markdown",
   "id": "401874e6-6a0c-4508-821b-ce6ea822b2c0",
   "metadata": {},
   "source": [
    "### 03c* Visualize (intermediatory) results"
   ]
  },
  {
   "cell_type": "code",
   "execution_count": 16,
   "id": "9868a10b-94c0-4b8a-abab-ee505ad7eb46",
   "metadata": {},
   "outputs": [],
   "source": [
    "opt_params = {\n",
    "    \"min\": 50,\n",
    "    \"max\": 5500,\n",
    "    \"bands\": \"red,green,blue\",\n",
    "    \"gamma\":1.5,\n",
    "    \"dimensions\": 1024\n",
    "}"
   ]
  },
  {
   "cell_type": "code",
   "execution_count": 17,
   "id": "0d0350a8-bc22-4d15-ad86-34f0006e6eea",
   "metadata": {},
   "outputs": [
    {
     "data": {
      "application/vnd.jupyter.widget-view+json": {
       "model_id": "44a164a8f2e8483086e42d967c21de7f",
       "version_major": 2,
       "version_minor": 0
      },
      "text/plain": [
       "Map(center=[12.7, 105], controls=(WidgetControl(options=['position', 'transparent_bg'], widget=HBox(children=(…"
      ]
     },
     "metadata": {},
     "output_type": "display_data"
    }
   ],
   "source": [
    "Map = geemap.Map(center = (12.7, 105), zoom = 8)\n",
    "Map.addLayer(tonlesap, {}, 'Region of Interest')\n",
    "Map.addLayer(opt_reduced, opt_params, 'Optical Imagery')\n",
    "Map.addLayerControl()\n",
    "Map"
   ]
  },
  {
   "cell_type": "markdown",
   "id": "7c348015-896f-45a9-903e-abd526db20f3",
   "metadata": {},
   "source": [
    "### 03d Thresholding"
   ]
  },
  {
   "cell_type": "markdown",
   "id": "8793b6ec-d232-4b09-9ac8-e8bc20ff536b",
   "metadata": {},
   "source": [
    "$ MNDWI = (GREEN - SWIR)/(GREEN+SWIR)$"
   ]
  },
  {
   "cell_type": "code",
   "execution_count": 18,
   "id": "6f6ebb29-00e4-418c-a0a4-1bb3ccc54af4",
   "metadata": {},
   "outputs": [],
   "source": [
    "#Optical thresholding\n",
    "\n",
    "mndwi = opt_corrected.apply_func(hf.add_indices, indices = [\"mndwi\"])\n",
    "\n",
    "mndwi_reduced = mndwi.collection.median()\n",
    "\n",
    "opt_water = hf.edge_otsu(\n",
    "    mndwi_reduced,\n",
    "    \"mndwi\",\n",
    "    initial_threshold = 0,\n",
    "    thresh_no_data = 0.5,\n",
    "    edge_buffer = 300,\n",
    "    scale = 1e3,\n",
    "    invert = True,\n",
    "    region = tonlesap\n",
    ")"
   ]
  },
  {
   "cell_type": "markdown",
   "id": "32ca0f66-5046-4d2c-9ff6-2818d3cf596c",
   "metadata": {},
   "source": [
    "### 03d* Visualization"
   ]
  },
  {
   "cell_type": "code",
   "execution_count": 19,
   "id": "98a26f39-cc65-4c62-bd04-ed5dbe03cf6e",
   "metadata": {},
   "outputs": [
    {
     "data": {
      "application/vnd.jupyter.widget-view+json": {
       "model_id": "a69acb3fd43040998afa8568ada3f94d",
       "version_major": 2,
       "version_minor": 0
      },
      "text/plain": [
       "Map(center=[12.7, 105], controls=(WidgetControl(options=['position', 'transparent_bg'], widget=HBox(children=(…"
      ]
     },
     "metadata": {},
     "output_type": "display_data"
    }
   ],
   "source": [
    "water_params = {\n",
    "    \"min\": 0,\n",
    "    \"max\": 1,\n",
    "    \"palette\": ['D3D3D3', '000080']\n",
    "}\n",
    "\n",
    "Map = geemap.Map(center = (12.7, 105), zoom = 9)\n",
    "\n",
    "Map.addLayer(tonlesap, {}, 'Region of Interest')\n",
    "Map.addLayer(opt_water.selfMask(), water_params, 'Optical-detected Water')\n",
    "\n",
    "Map.addLayerControl()\n",
    "Map"
   ]
  },
  {
   "cell_type": "markdown",
   "id": "6266cf20-4b0c-4e7b-ab69-f177c08bee9e",
   "metadata": {},
   "source": [
    "---"
   ]
  },
  {
   "cell_type": "markdown",
   "id": "0d677ba8-06d1-4f2e-8aaa-ce1cf54d967c",
   "metadata": {},
   "source": [
    "## 04. SAR Imagery Workflow"
   ]
  },
  {
   "cell_type": "markdown",
   "id": "9f403fc4-b3c2-4ffd-b712-9451b185d648",
   "metadata": {},
   "source": [
    "### 04a. Acquire optical data using hf.dataset"
   ]
  },
  {
   "cell_type": "code",
   "execution_count": 20,
   "id": "3a0bf272-b827-4df4-a6cc-6c8c1f75072e",
   "metadata": {},
   "outputs": [],
   "source": [
    "#Acquire SAR data using hf.dataset\n",
    "sar = hf.Sentinel1(tonlesap, start_date, end_date)"
   ]
  },
  {
   "cell_type": "markdown",
   "id": "4e1e9cb4-38f3-47d3-8ded-f9be8c49d9fd",
   "metadata": {},
   "source": [
    "### 04b. Apply some corrections (Speckle filter)"
   ]
  },
  {
   "cell_type": "markdown",
   "id": "f8ac0632-a0b8-4355-b03d-1341045c9eb9",
   "metadata": {},
   "source": [
    "#### Acquire DEM data"
   ]
  },
  {
   "cell_type": "markdown",
   "id": "1c3f8358-ad9a-403e-be88-66dd7a71e3fc",
   "metadata": {},
   "source": [
    "> Already acquired before (and can still be accessed for the SAR workflow (03b))"
   ]
  },
  {
   "cell_type": "code",
   "execution_count": 21,
   "id": "6995cfbb-ca86-425a-8324-9b06435ce055",
   "metadata": {},
   "outputs": [],
   "source": [
    "sar_speckle_filt = sar.apply_func(hf.gamma_map)\n",
    "\n",
    "sar_corrected = sar_speckle_filt.apply_func(corrections.slope_correction, elevation = elv, buffer = 30)"
   ]
  },
  {
   "cell_type": "markdown",
   "id": "1039f6b1-cef5-463d-bd05-69ed1cd3a9eb",
   "metadata": {},
   "source": [
    "### 04c. Apply a reducer"
   ]
  },
  {
   "cell_type": "code",
   "execution_count": 22,
   "id": "210710b6-0640-461a-a15a-6ab4ae1338b8",
   "metadata": {},
   "outputs": [],
   "source": [
    "sar_reduced = sar_corrected.collection.median()"
   ]
  },
  {
   "cell_type": "markdown",
   "id": "aea10c81-30ee-4d86-ae34-67a22bbe0231",
   "metadata": {},
   "source": [
    "### 04c* Visualize (intermediatory step)    "
   ]
  },
  {
   "cell_type": "code",
   "execution_count": 23,
   "id": "23e6244b-0073-4087-a352-46794066e8ff",
   "metadata": {},
   "outputs": [],
   "source": [
    "sar_params = {\n",
    "    \"min\": -25,\n",
    "    \"max\": 0,\n",
    "    \"bands\": \"VV\",\n",
    "    \"gamma\": 1,\n",
    "    \"dimensions\": 1024\n",
    "}"
   ]
  },
  {
   "cell_type": "code",
   "execution_count": 24,
   "id": "66f35333-f386-4617-a5e6-e5358d6a66fb",
   "metadata": {},
   "outputs": [
    {
     "data": {
      "application/vnd.jupyter.widget-view+json": {
       "model_id": "5a193a11bb8449d5a18adb8eb65dc5bb",
       "version_major": 2,
       "version_minor": 0
      },
      "text/plain": [
       "Map(center=[12.7, 105], controls=(WidgetControl(options=['position', 'transparent_bg'], widget=HBox(children=(…"
      ]
     },
     "metadata": {},
     "output_type": "display_data"
    }
   ],
   "source": [
    "Map = geemap.Map(center = (12.7, 105), zoom = 8)\n",
    "\n",
    "Map.addLayer(tonlesap, {}, 'Region of Interest')\n",
    "Map.addLayer(sar_reduced, sar_params, 'SAR Imagery')\n",
    "\n",
    "Map.addLayerControl()\n",
    "Map"
   ]
  },
  {
   "cell_type": "markdown",
   "id": "131c4704-b506-476b-bf77-7dc8e7346f9a",
   "metadata": {},
   "source": [
    "### 04d Thresholding"
   ]
  },
  {
   "cell_type": "code",
   "execution_count": 25,
   "id": "d804af50-2305-4374-ac14-80f4b25c4019",
   "metadata": {},
   "outputs": [],
   "source": [
    "sar_water = hf.edge_otsu(\n",
    "    sar_reduced,\n",
    "    \"VV\",\n",
    "    initial_threshold = -11,\n",
    "    thresh_no_data = -20,\n",
    "    edge_buffer = 300,\n",
    "    region = tonlesap,\n",
    "    scale = 1e3)"
   ]
  },
  {
   "cell_type": "markdown",
   "id": "52b7c10f-3e2a-43e8-bc8f-7a4da4c92201",
   "metadata": {},
   "source": [
    "### 04d* Visualization"
   ]
  },
  {
   "cell_type": "code",
   "execution_count": 26,
   "id": "4cca129f-e7cb-486c-a2ab-f9f44544477f",
   "metadata": {},
   "outputs": [
    {
     "data": {
      "application/vnd.jupyter.widget-view+json": {
       "model_id": "2328ea22757947a3b3b1b90b5b9c656d",
       "version_major": 2,
       "version_minor": 0
      },
      "text/plain": [
       "Map(center=[12.7, 105], controls=(WidgetControl(options=['position', 'transparent_bg'], widget=HBox(children=(…"
      ]
     },
     "metadata": {},
     "output_type": "display_data"
    }
   ],
   "source": [
    "water_params = {\n",
    "    \"min\": 0,\n",
    "    \"max\": 1,\n",
    "    \"palette\": ['D3D3D3', '000080']\n",
    "}\n",
    "\n",
    "Map = geemap.Map(center = (12.7, 105), zoom = 9)\n",
    "\n",
    "Map.addLayer(tonlesap, {}, 'Region of Interest')\n",
    "Map.addLayer(sar_water.selfMask(), water_params, 'SAR-detected Water')\n",
    "\n",
    "Map.addLayerControl()\n",
    "Map"
   ]
  },
  {
   "cell_type": "markdown",
   "id": "e01e6c79-2bf2-42d3-a216-d10946f54ff0",
   "metadata": {},
   "source": [
    "## 05 Compare visualization: Optical vs SAR"
   ]
  },
  {
   "cell_type": "code",
   "execution_count": 27,
   "id": "c14b7ea4-b18a-40e0-a5f0-e03341eeef10",
   "metadata": {},
   "outputs": [
    {
     "data": {
      "application/vnd.jupyter.widget-view+json": {
       "model_id": "6c8a5b1b6ac241338b91f4a0de709f63",
       "version_major": 2,
       "version_minor": 0
      },
      "text/plain": [
       "Map(center=[12.7, 105], controls=(ZoomControl(options=['position', 'zoom_in_text', 'zoom_in_title', 'zoom_out_…"
      ]
     },
     "metadata": {},
     "output_type": "display_data"
    }
   ],
   "source": [
    "water_params_lightblue = {\n",
    "    \"min\": 0,\n",
    "    \"max\": 1,\n",
    "    \"palette\": ['D3D3D3', '0000FF']\n",
    "}\n",
    "\n",
    "water_params_darkblue = {\n",
    "    \"min\": 0,\n",
    "    \"max\": 1,\n",
    "    \"palette\": ['D3D3D3', '000080']\n",
    "}\n",
    "\n",
    "#https://geemap.org/notebooks/04_split_panel_map/\n",
    "left_layer = geemap.ee_tile_layer(opt_water, water_params_lightblue, 'Optical-detected Water')\n",
    "right_layer = geemap.ee_tile_layer(sar_water, water_params_darkblue, 'SAR-detected Water')\n",
    "\n",
    "Map = geemap.Map(center = (12.7, 105), zoom = 8)\n",
    "Map.split_map(left_layer, right_layer)\n",
    "Map.addLayer(tonlesap, {}, 'Region of Interest')\n",
    "Map"
   ]
  },
  {
   "cell_type": "code",
   "execution_count": 28,
   "id": "baf6f733-806d-42e2-90db-27abf321624a",
   "metadata": {},
   "outputs": [
    {
     "data": {
      "application/vnd.jupyter.widget-view+json": {
       "model_id": "dc4db1e82cd6482a96f3e2d62fc23cd9",
       "version_major": 2,
       "version_minor": 0
      },
      "text/plain": [
       "Map(center=[12.7, 105], controls=(ZoomControl(options=['position', 'zoom_in_text', 'zoom_in_title', 'zoom_out_…"
      ]
     },
     "metadata": {},
     "output_type": "display_data"
    }
   ],
   "source": [
    "#https://geemap.org/notebooks/04_split_panel_map/\n",
    "left_layer = geemap.ee_tile_layer(opt_water.selfMask(), water_params_lightblue, 'Optical-detected Water')\n",
    "right_layer = geemap.ee_tile_layer(sar_water.selfMask(), water_params_darkblue, 'SAR-detected Water')\n",
    "\n",
    "Map = geemap.Map(center = (12.7, 105), zoom = 8)\n",
    "Map.split_map(left_layer, right_layer)\n",
    "Map.addLayer(tonlesap, {}, 'Region of Interest')\n",
    "Map"
   ]
  },
  {
   "cell_type": "markdown",
   "id": "6324822b-2baa-4f90-829d-788571d98f23",
   "metadata": {},
   "source": [
    "---\n",
    "## 05. Further resources"
   ]
  },
  {
   "cell_type": "markdown",
   "id": "93cb54fe-6816-4757-85fc-7f4deaf7ad66",
   "metadata": {},
   "source": [
    "- Spatial thoughts: https://spatialthoughts.com/courses/gee-for-water-resources-management/ \n",
    "- GEEMap: https://geemap.org/notebooks/41_water_app/\n",
    "- Hydrafloods: https://servir-mekong.github.io/hydra-floods/\n",
    "- GIS Opencourseware: https://ocw.un-ihe.org/mod/book/tool/print/index.php?id=11194\n",
    "- Earth Engine Python API: https://developers.google.com/earth-engine/tutorials/community/intro-to-python-api\n",
    "- Surface Water Mapping tutorial: https://google-earth-engine.com/Aquatic-and-Hydrological-Applications/Surface-Water-Mapping/"
   ]
  },
  {
   "cell_type": "markdown",
   "id": "9828eb7e-5efa-41c0-91ea-4e9b500feaff",
   "metadata": {},
   "source": [
    "<a id=\"packages\"></a>\n",
    "### Python packages used"
   ]
  },
  {
   "cell_type": "markdown",
   "id": "c82f45d2-b20c-4a92-a599-229a403b2cf6",
   "metadata": {},
   "source": [
    "- [ee](https://github.com/snare/ee) - Python API for Google Earth Engine, made by Google https://developers.google.com/earth-engine/guides/python_install\n",
    "- [geemap](https://github.com/gee-community/geemap) - Alternative python package to work with Google Earth Engine, made by [Quisheng Wu](https://github.com/giswqs) https://geemap.org/\n",
    "- [hydrafloods](https://github.com/Servir-Mekong/hydra-floods) - Surace water mapping python package built on top of Google Earth Engine, by NASA Servir Mekong https://servir-mekong.github.io/hydra-floods/"
   ]
  },
  {
   "cell_type": "code",
   "execution_count": null,
   "id": "fb780011-45b2-4350-a50e-551f33a0bea2",
   "metadata": {},
   "outputs": [],
   "source": []
  }
 ],
 "metadata": {
  "kernelspec": {
   "display_name": "pyhydra_intel",
   "language": "python",
   "name": "pyhydra_intel"
  },
  "language_info": {
   "codemirror_mode": {
    "name": "ipython",
    "version": 3
   },
   "file_extension": ".py",
   "mimetype": "text/x-python",
   "name": "python",
   "nbconvert_exporter": "python",
   "pygments_lexer": "ipython3",
   "version": "3.8.10"
  }
 },
 "nbformat": 4,
 "nbformat_minor": 5
}
